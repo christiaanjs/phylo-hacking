{
 "cells": [
  {
   "cell_type": "markdown",
   "metadata": {},
   "source": [
    "# Conditional clade probability summaries"
   ]
  },
  {
   "cell_type": "markdown",
   "metadata": {},
   "source": [
    "## Edit primates data to four taxa"
   ]
  },
  {
   "cell_type": "code",
   "execution_count": 209,
   "metadata": {},
   "outputs": [
    {
     "data": {
      "text/plain": [
       "<Bio.Nexus.Nexus.Nexus at 0x7f8ec5f98cc0>"
      ]
     },
     "execution_count": 209,
     "metadata": {},
     "output_type": "execute_result"
    }
   ],
   "source": [
    "from Bio.Nexus.Nexus import Nexus\n",
    "\n",
    "nexus = Nexus()\n",
    "nexus.read('../data/primate-mtDNA.nex')\n",
    "nexus"
   ]
  },
  {
   "cell_type": "code",
   "execution_count": 199,
   "metadata": {},
   "outputs": [
    {
     "data": {
      "text/plain": [
       "['Lemur_catta',\n",
       " 'Homo_sapiens',\n",
       " 'Pan',\n",
       " 'Gorilla',\n",
       " 'Pongo',\n",
       " 'Hylobates',\n",
       " 'Macaca_fuscata',\n",
       " 'M._mulatta',\n",
       " 'M._fascicularis',\n",
       " 'M._sylvanus',\n",
       " 'Saimiri_sciureus',\n",
       " 'Tarsius_syrichta']"
      ]
     },
     "execution_count": 199,
     "metadata": {},
     "output_type": "execute_result"
    }
   ],
   "source": [
    "nexus.taxlabels"
   ]
  },
  {
   "cell_type": "code",
   "execution_count": 205,
   "metadata": {},
   "outputs": [],
   "source": [
    "nexus.matrix = nexus.crop_matrix(delete=nexus.taxlabels[4:])"
   ]
  },
  {
   "cell_type": "code",
   "execution_count": 210,
   "metadata": {},
   "outputs": [
    {
     "data": {
      "text/plain": [
       "'../data/primate-mtDNA-short.nex'"
      ]
     },
     "execution_count": 210,
     "metadata": {},
     "output_type": "execute_result"
    }
   ],
   "source": [
    "nexus.write_nexus_data('../data/primate-mtDNA-short.nex', delete=nexus.taxlabels[4:])"
   ]
  },
  {
   "cell_type": "code",
   "execution_count": 194,
   "metadata": {},
   "outputs": [
    {
     "data": {
      "text/plain": [
       "[SeqRecord(seq=Seq('AAGCTTCATAGGAGCAACCATTCTAATAATCGCACATGGCCTTACATCATCCAT...CTT', IUPACAmbiguousDNA()), id='Lemur_catta', name='Lemur_catta', description='', dbxrefs=[]),\n",
       " SeqRecord(seq=Seq('AAGCTTCACCGGCGCAGTCATTCTCATAATCGCCCACGGGCTTACATCCTCATT...CTT', IUPACAmbiguousDNA()), id='Homo_sapiens', name='Homo_sapiens', description='', dbxrefs=[]),\n",
       " SeqRecord(seq=Seq('AAGCTTCACCGGCGCAATTATCCTCATAATCGCCCACGGACTTACATCCTCATT...CTT', IUPACAmbiguousDNA()), id='Pan', name='Pan', description='', dbxrefs=[]),\n",
       " SeqRecord(seq=Seq('AAGCTTCACCGGCGCAGTTGTTCTTATAATTGCCCACGGACTTACATCATCATT...CTT', IUPACAmbiguousDNA()), id='Gorilla', name='Gorilla', description='', dbxrefs=[]),\n",
       " SeqRecord(seq=Seq('AAGCTTCACCGGCGCAACCACCCTCATGATTGCCCATGGACTCACATCCTCCCT...CTT', IUPACAmbiguousDNA()), id='Pongo', name='Pongo', description='', dbxrefs=[]),\n",
       " SeqRecord(seq=Seq('AAGCTTTACAGGTGCAACCGTCCTCATAATCGCCCACGGACTAACCTCTTCCCT...CTT', IUPACAmbiguousDNA()), id='Hylobates', name='Hylobates', description='', dbxrefs=[]),\n",
       " SeqRecord(seq=Seq('AAGCTTTTCCGGCGCAACCATCCTTATGATCGCTCACGGACTCACCTCTTCCAT...CTT', IUPACAmbiguousDNA()), id='Macaca_fuscata', name='Macaca_fuscata', description='', dbxrefs=[]),\n",
       " SeqRecord(seq=Seq('AAGCTTTTCTGGCGCAACCATCCTCATGATTGCTCACGGACTCACCTCTTCCAT...CTT', IUPACAmbiguousDNA()), id='M._mulatta', name='M._mulatta', description='', dbxrefs=[]),\n",
       " SeqRecord(seq=Seq('AAGCTTCTCCGGCGCAACCACCCTTATAATCGCCCACGGGCTCACCTCTTCCAT...CTT', IUPACAmbiguousDNA()), id='M._fascicularis', name='M._fascicularis', description='', dbxrefs=[]),\n",
       " SeqRecord(seq=Seq('AAGCTTCTCCGGTGCAACTATCCTTATAGTTGCCCATGGACTCACCTCTTCCAT...CTT', IUPACAmbiguousDNA()), id='M._sylvanus', name='M._sylvanus', description='', dbxrefs=[]),\n",
       " SeqRecord(seq=Seq('AAGCTTCACCGGCGCAATGATCCTAATAATCGCTCACGGGTTTACTTCGTCTAT...CTT', IUPACAmbiguousDNA()), id='Saimiri_sciureus', name='Saimiri_sciureus', description='', dbxrefs=[]),\n",
       " SeqRecord(seq=Seq('AAGTTTCATTGGAGCCACCACTCTTATAATTGCCCATGGCCTCACCTCCTCCCT...CTT', IUPACAmbiguousDNA()), id='Tarsius_syrichta', name='Tarsius_syrichta', description='', dbxrefs=[])]"
      ]
     },
     "execution_count": 194,
     "metadata": {},
     "output_type": "execute_result"
    }
   ],
   "source": [
    "from Bio import SeqIO\n",
    "\n",
    "seqs = list(SeqIO.parse('../data/primate-mtDNA.nex', 'nexus'))\n",
    "seqs"
   ]
  },
  {
   "cell_type": "code",
   "execution_count": 142,
   "metadata": {},
   "outputs": [
    {
     "data": {
      "text/plain": [
       "['__add__',\n",
       " '__bool__',\n",
       " '__class__',\n",
       " '__contains__',\n",
       " '__delattr__',\n",
       " '__dict__',\n",
       " '__dir__',\n",
       " '__doc__',\n",
       " '__eq__',\n",
       " '__format__',\n",
       " '__ge__',\n",
       " '__getattribute__',\n",
       " '__getitem__',\n",
       " '__gt__',\n",
       " '__hash__',\n",
       " '__init__',\n",
       " '__init_subclass__',\n",
       " '__iter__',\n",
       " '__le__',\n",
       " '__le___',\n",
       " '__len__',\n",
       " '__lt__',\n",
       " '__module__',\n",
       " '__ne__',\n",
       " '__new__',\n",
       " '__nonzero__',\n",
       " '__radd__',\n",
       " '__reduce__',\n",
       " '__reduce_ex__',\n",
       " '__repr__',\n",
       " '__setattr__',\n",
       " '__sizeof__',\n",
       " '__str__',\n",
       " '__subclasshook__',\n",
       " '__weakref__',\n",
       " '_per_letter_annotations',\n",
       " '_seq',\n",
       " '_set_per_letter_annotations',\n",
       " '_set_seq',\n",
       " 'annotations',\n",
       " 'dbxrefs',\n",
       " 'description',\n",
       " 'features',\n",
       " 'format',\n",
       " 'id',\n",
       " 'letter_annotations',\n",
       " 'lower',\n",
       " 'name',\n",
       " 'reverse_complement',\n",
       " 'seq',\n",
       " 'translate',\n",
       " 'upper']"
      ]
     },
     "execution_count": 142,
     "metadata": {},
     "output_type": "execute_result"
    }
   ],
   "source": [
    "dir(seqs[0])"
   ]
  },
  {
   "cell_type": "markdown",
   "metadata": {},
   "source": [
    "## Data structures for conditional clades"
   ]
  },
  {
   "cell_type": "code",
   "execution_count": 46,
   "metadata": {},
   "outputs": [
    {
     "data": {
      "text/plain": [
       "Split({1, 2, 3}, {1})"
      ]
     },
     "execution_count": 46,
     "metadata": {},
     "output_type": "execute_result"
    }
   ],
   "source": [
    "class Split:\n",
    "    def __init__(self, parent, child):\n",
    "        assert len(parent) > len(child)\n",
    "        assert len(child) > 0\n",
    "        assert len(parent) > 2\n",
    "        assert child.issubset(parent)\n",
    "        self.parent = parent\n",
    "        other_child = parent - child\n",
    "        child_sorted = sorted(child)\n",
    "        other_sorted = sorted(other_child)\n",
    "        if child_sorted[0] < other_sorted[0]:\n",
    "            self._child1 = frozenset(child)\n",
    "            self._child1_sorted = child_sorted\n",
    "            self._child2 = frozenset(other_child)\n",
    "            self._child2_sorted = other_sorted\n",
    "        else:\n",
    "            self._child1 = frozenset(other_child)\n",
    "            self._child1_sorted = other_sorted\n",
    "            self._child2 = frozenset(child)\n",
    "            self._child2_sorted = child_sorted\n",
    "            \n",
    "    def get_children(self):\n",
    "        return self._child1, self._child2\n",
    "    \n",
    "    def get_parent(self):\n",
    "        return frozenset.union(self._child1, self._child2)\n",
    "    \n",
    "    def __str__(self):\n",
    "        return str(self._child1_sorted) + ' | ' + str(self._child2_sorted)\n",
    "    \n",
    "    def __eq__(self, other):\n",
    "        return self.get_children() == other.get_children()\n",
    "    \n",
    "    def __repr__(self):\n",
    "        return 'Split({0}, {1})'.format(set(self.get_parent()), set(self.get_children()[0]))\n",
    "    \n",
    "    def __hash__(self):\n",
    "        return hash(self.get_children())\n",
    "    \n",
    "Split({1, 2, 3}, {1})"
   ]
  },
  {
   "cell_type": "code",
   "execution_count": 86,
   "metadata": {},
   "outputs": [
    {
     "data": {
      "text/plain": [
       "['[0] | [1, 2, 3]',\n",
       " '[0, 1] | [2, 3]',\n",
       " '[0, 2] | [1, 3]',\n",
       " '[0, 3] | [1, 2]',\n",
       " '[0, 1, 2] | [3]',\n",
       " '[0, 1, 3] | [2]',\n",
       " '[0, 2, 3] | [1]']"
      ]
     },
     "execution_count": 86,
     "metadata": {},
     "output_type": "execute_result"
    }
   ],
   "source": [
    "from itertools import combinations\n",
    "\n",
    "def get_splits(clade):\n",
    "    n = len(clade)\n",
    "    clade_sorted = sorted(clade)\n",
    "    first_slice = clade_sorted[:1]\n",
    "    others = clade_sorted[1:]\n",
    "    for k in range(n-1):\n",
    "        for combination in combinations(others, k):\n",
    "            yield Split(clade, set(list(combination) + first_slice))\n",
    "        \n",
    "[str(split) for split in get_splits(set(range(4)))]"
   ]
  },
  {
   "cell_type": "code",
   "execution_count": 75,
   "metadata": {},
   "outputs": [
    {
     "data": {
      "text/plain": [
       "-6.210292539922404"
      ]
     },
     "execution_count": 75,
     "metadata": {},
     "output_type": "execute_result"
    }
   ],
   "source": [
    "import autograd\n",
    "import autograd.numpy as anp\n",
    "\n",
    "def f(params, nested_indices):\n",
    "    return (params['a'] ** 2)* anp.cos(params['b'][nested_indices[0]]) - params['b'][nested_indices[1]]\n",
    "\n",
    "f({ 'a': 3.0, 'b': { 'a': -1.0 , 'b': 2.5 } }, ['b', 'a'])"
   ]
  },
  {
   "cell_type": "code",
   "execution_count": 76,
   "metadata": {},
   "outputs": [
    {
     "data": {
      "text/plain": [
       "{'a': array(-4.80686169), 'b': {'a': array(-1.), 'b': array(-5.3862493)}}"
      ]
     },
     "execution_count": 76,
     "metadata": {},
     "output_type": "execute_result"
    }
   ],
   "source": [
    "autograd.grad(f)({ 'a': 3.0, 'b': { 'a': -1.0 , 'b': 2.5 } }, ['b', 'a'])"
   ]
  }
 ],
 "metadata": {
  "kernelspec": {
   "display_name": "Python 3",
   "language": "python",
   "name": "python3"
  },
  "language_info": {
   "codemirror_mode": {
    "name": "ipython",
    "version": 3
   },
   "file_extension": ".py",
   "mimetype": "text/x-python",
   "name": "python",
   "nbconvert_exporter": "python",
   "pygments_lexer": "ipython3",
   "version": "3.6.4"
  }
 },
 "nbformat": 4,
 "nbformat_minor": 2
}
