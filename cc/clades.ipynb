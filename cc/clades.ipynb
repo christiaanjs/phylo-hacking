{
 "cells": [
  {
   "cell_type": "code",
   "execution_count": 1,
   "metadata": {},
   "outputs": [],
   "source": [
    "%matplotlib inline"
   ]
  },
  {
   "cell_type": "markdown",
   "metadata": {},
   "source": [
    "# Conditional clade probability summaries"
   ]
  },
  {
   "cell_type": "markdown",
   "metadata": {},
   "source": [
    "## Edit primates data to five taxa\n",
    "Five taxa is the smallest where we actually have to make the conditional independence assumption; we might observe a clade of greater than size 2 as the child of different parents."
   ]
  },
  {
   "cell_type": "code",
   "execution_count": 2,
   "metadata": {},
   "outputs": [
    {
     "data": {
      "text/plain": [
       "<Bio.Nexus.Nexus.Nexus at 0x7f816697a898>"
      ]
     },
     "execution_count": 2,
     "metadata": {},
     "output_type": "execute_result"
    }
   ],
   "source": [
    "from Bio.Nexus.Nexus import Nexus\n",
    "\n",
    "nexus = Nexus()\n",
    "nexus.read('../data/Influenza.nexus')\n",
    "nexus"
   ]
  },
  {
   "cell_type": "code",
   "execution_count": 3,
   "metadata": {},
   "outputs": [
    {
     "data": {
      "text/plain": [
       "['CY068129_A_California_VRDL396_2009_2009/04/28',\n",
       " 'CY068870_A_California_VRDL392_2009_2009/04/28',\n",
       " 'CY068686_A_California_VRDL181_2009_2009/04/28',\n",
       " 'CY068137_A_California_VRDL159_2009_2009/04/28',\n",
       " 'CY068217_A_California_VRDL173_2009_2009/04/28',\n",
       " 'CY068702_A_California_VRDL184_2009_2009/04/28',\n",
       " 'CY068742_A_California_VRDL199_2009_2009/04/28',\n",
       " 'CY068766_A_California_VRDL204_2009_2009/04/28',\n",
       " 'CY068718_A_California_VRDL187_2009_2009/04/28',\n",
       " 'CY068209_A_California_VRDL172_2009_2009/04/28',\n",
       " 'CY064879_A_California_VRDL147_2009_2009/04/28',\n",
       " 'CY068678_A_California_VRDL178_2009_2009/04/28',\n",
       " 'CY068233_A_California_VRDL211_2009_2009/04/28',\n",
       " 'CY068734_A_California_VRDL198_2009_2009/04/28',\n",
       " 'CY068633_A_California_VRDL394_2009_2009/04/28',\n",
       " 'CY068153_A_California_VRDL161_2009_2009/04/28',\n",
       " 'CY068161_A_California_VRDL164_2009_2009/04/28',\n",
       " 'CY067221_A_California_VRDL302_2009_2009/04/28',\n",
       " 'CY068758_A_California_VRDL203_2009_2009/04/28',\n",
       " 'CY092329_A_California_VRDL182_2009_2009/04/28',\n",
       " 'CY067929_A_California_VRDL177_2009_2009/04/28',\n",
       " 'CY066519_A_California_VRDL156_2009_2009/04/28',\n",
       " 'CY068177_A_California_VRDL166_2009_2009/04/28',\n",
       " 'CY068193_A_California_VRDL169_2009_2009/04/28',\n",
       " 'CY068145_A_California_VRDL160_2009_2009/04/28',\n",
       " 'CY068201_A_California_VRDL170_2009_2009/04/28',\n",
       " 'CY068798_A_California_VRDL210_2009_2009/04/28',\n",
       " 'CY068862_A_California_VRDL391_2009_2009/04/28',\n",
       " 'CY068249_A_California_VRDL216_2009_2009/04/28']"
      ]
     },
     "execution_count": 3,
     "metadata": {},
     "output_type": "execute_result"
    }
   ],
   "source": [
    "nexus.taxlabels"
   ]
  },
  {
   "cell_type": "code",
   "execution_count": 4,
   "metadata": {},
   "outputs": [
    {
     "data": {
      "text/plain": [
       "'../data/Influenza-short.nex'"
      ]
     },
     "execution_count": 4,
     "metadata": {},
     "output_type": "execute_result"
    }
   ],
   "source": [
    "# TODO: Return all with 5 taxa\n",
    "nexus.write_nexus_data('../data/Influenza-short.nex', delete=nexus.taxlabels[5:])"
   ]
  },
  {
   "cell_type": "markdown",
   "metadata": {},
   "source": [
    "## Data structures for conditional clades"
   ]
  },
  {
   "cell_type": "code",
   "execution_count": 5,
   "metadata": {},
   "outputs": [],
   "source": [
    "from splits import Split"
   ]
  },
  {
   "cell_type": "markdown",
   "metadata": {},
   "source": [
    "## Processing MCMC output"
   ]
  },
  {
   "cell_type": "code",
   "execution_count": 8,
   "metadata": {
    "scrolled": true
   },
   "outputs": [
    {
     "data": {
      "text/plain": [
       "10001"
      ]
     },
     "execution_count": 8,
     "metadata": {},
     "output_type": "execute_result"
    }
   ],
   "source": [
    "from Bio import Phylo\n",
    "trees = list(Phylo.parse('../data/Influenza-short.trees', format='nexus'))\n",
    "len(trees)"
   ]
  },
  {
   "cell_type": "code",
   "execution_count": 9,
   "metadata": {},
   "outputs": [
    {
     "data": {
      "image/png": "[encoded data removed]",
      "text/plain": [
       "<matplotlib.figure.Figure at 0x7f81650d55f8>"
      ]
     },
     "metadata": {},
     "output_type": "display_data"
    }
   ],
   "source": [
    "tree = trees[1]\n",
    "Phylo.draw(tree)"
   ]
  },
  {
   "cell_type": "code",
   "execution_count": 10,
   "metadata": {},
   "outputs": [
    {
     "data": {
      "text/plain": [
       "(0.00012464565757352433,\n",
       " frozenset({'CY068129_A_California_VRDL396_2009_2009/04/28',\n",
       "            'CY068137_A_California_VRDL159_2009_2009/04/28',\n",
       "            'CY068217_A_California_VRDL173_2009_2009/04/28'}))"
      ]
     },
     "execution_count": 10,
     "metadata": {},
     "output_type": "execute_result"
    }
   ],
   "source": [
    "def get_taxa(clade):\n",
    "    return frozenset([leaf.name for leaf in clade.get_terminals()])\n",
    "clade = list(tree.find_clades())[2]\n",
    "clade.branch_length, get_taxa(clade)"
   ]
  },
  {
   "cell_type": "code",
   "execution_count": 11,
   "metadata": {},
   "outputs": [
    {
     "data": {
      "text/plain": [
       "{'CY068129_A_California_VRDL396_2009_2009/04/28': '4',\n",
       " 'CY068137_A_California_VRDL159_2009_2009/04/28': '1',\n",
       " 'CY068217_A_California_VRDL173_2009_2009/04/28': '3',\n",
       " 'CY068686_A_California_VRDL181_2009_2009/04/28': '0',\n",
       " 'CY068870_A_California_VRDL392_2009_2009/04/28': '2'}"
      ]
     },
     "execution_count": 11,
     "metadata": {},
     "output_type": "execute_result"
    }
   ],
   "source": [
    "all_taxa = list(get_taxa(tree.root))\n",
    "name_mapping = { name: str(i) for i, name in enumerate(all_taxa)}\n",
    "name_mapping"
   ]
  },
  {
   "cell_type": "code",
   "execution_count": 12,
   "metadata": {},
   "outputs": [
    {
     "data": {
      "text/plain": [
       "[Clade(branch_length=0.0),\n",
       " Clade(branch_length=0.0001592378942861599),\n",
       " Clade(branch_length=1.377413413478014e-05),\n",
       " Clade(branch_length=0.00018363989578841652),\n",
       " Clade(branch_length=0.0016325343789806669, name='4'),\n",
       " Clade(branch_length=0.0016325343789806669, name='2'),\n",
       " Clade(branch_length=0.0018161742747690834, name='3'),\n",
       " Clade(branch_length=0.0018299484089038635, name='1'),\n",
       " Clade(branch_length=0.0019891863031900234, name='0')]"
      ]
     },
     "execution_count": 12,
     "metadata": {},
     "output_type": "execute_result"
    }
   ],
   "source": [
    "for tree in trees:\n",
    "    for clade in tree.find_clades():\n",
    "        if clade.name is not None:\n",
    "            clade.name = name_mapping[clade.name]\n",
    "\n",
    "list(tree.find_clades())"
   ]
  },
  {
   "cell_type": "code",
   "execution_count": 13,
   "metadata": {},
   "outputs": [
    {
     "data": {
      "image/png": "[encoded data removed]",
      "text/plain": [
       "<matplotlib.figure.Figure at 0x7f81650d55c0>"
      ]
     },
     "metadata": {},
     "output_type": "display_data"
    }
   ],
   "source": [
    "Phylo.draw(tree)"
   ]
  },
  {
   "cell_type": "markdown",
   "metadata": {},
   "source": [
    "### Marginal posterior"
   ]
  },
  {
   "cell_type": "code",
   "execution_count": 14,
   "metadata": {},
   "outputs": [],
   "source": [
    "bio_tree = tree"
   ]
  },
  {
   "cell_type": "code",
   "execution_count": 15,
   "metadata": {},
   "outputs": [
    {
     "data": {
      "text/plain": [
       "2"
      ]
     },
     "execution_count": 15,
     "metadata": {},
     "output_type": "execute_result"
    }
   ],
   "source": [
    "len(bio_tree.root)"
   ]
  },
  {
   "cell_type": "code",
   "execution_count": 16,
   "metadata": {},
   "outputs": [
    {
     "data": {
      "text/plain": [
       "[Clade(branch_length=0.0001592378942861599),\n",
       " Clade(branch_length=1.377413413478014e-05),\n",
       " Clade(branch_length=0.00018363989578841652),\n",
       " Clade(branch_length=0.0016325343789806669, name='4')]"
      ]
     },
     "execution_count": 16,
     "metadata": {},
     "output_type": "execute_result"
    }
   ],
   "source": [
    "bio_tree.get_path(bio_tree.get_terminals()[0])"
   ]
  },
  {
   "cell_type": "code",
   "execution_count": 45,
   "metadata": {},
   "outputs": [
    {
     "data": {
      "text/plain": [
       "<module 'splits' from '/mnt/c/chris/git/phylo-hacking/cc/splits.py'>"
      ]
     },
     "execution_count": 45,
     "metadata": {},
     "output_type": "execute_result"
    }
   ],
   "source": [
    "from importlib import reload\n",
    "import splits\n",
    "reload(splits)"
   ]
  },
  {
   "cell_type": "code",
   "execution_count": 18,
   "metadata": {},
   "outputs": [
    {
     "data": {
      "text/plain": [
       "TreeNode(0,(1,((2,4),3)))"
      ]
     },
     "execution_count": 18,
     "metadata": {},
     "output_type": "execute_result"
    }
   ],
   "source": [
    "from splits import TreeNode\n",
    "\n",
    "def convert_tree(clade):\n",
    "    if(len(clade)) == 0:\n",
    "        return clade.name\n",
    "    else:\n",
    "        return TreeNode(*[convert_tree(child) for child in clade])\n",
    "\n",
    "convert_tree(bio_tree.root)"
   ]
  },
  {
   "cell_type": "code",
   "execution_count": 19,
   "metadata": {},
   "outputs": [
    {
     "data": {
      "application/vnd.jupyter.widget-view+json": {
       "model_id": "f69d44fc72704f898bb7d059016ace82",
       "version_major": 2,
       "version_minor": 0
      },
      "text/html": [
       "<p>Failed to display Jupyter Widget of type <code>HBox</code>.</p>\n",
       "<p>\n",
       "  If you're reading this message in the Jupyter Notebook or JupyterLab Notebook, it may mean\n",
       "  that the widgets JavaScript is still loading. If this message persists, it\n",
       "  likely means that the widgets JavaScript library is either not installed or\n",
       "  not enabled. See the <a href=\"https://ipywidgets.readthedocs.io/en/stable/user_install.html\">Jupyter\n",
       "  Widgets Documentation</a> for setup instructions.\n",
       "</p>\n",
       "<p>\n",
       "  If you're reading this message in another frontend (for example, a static\n",
       "  rendering on GitHub or <a href=\"https://nbviewer.jupyter.org/\">NBViewer</a>),\n",
       "  it may mean that your frontend doesn't currently support widgets.\n",
       "</p>\n"
      ],
      "text/plain": [
       "HBox(children=(IntProgress(value=0, max=10001), HTML(value='')))"
      ]
     },
     "metadata": {},
     "output_type": "display_data"
    },
    {
     "name": "stdout",
     "output_type": "stream",
     "text": [
      "\n"
     ]
    },
    {
     "data": {
      "text/plain": [
       "{TreeNode((((0,1),2),3),4): 104,\n",
       " TreeNode((((0,1),2),4),3): 49,\n",
       " TreeNode((((0,1),3),2),4): 233,\n",
       " TreeNode((((0,1),3),4),2): 221,\n",
       " TreeNode((((0,1),4),2),3): 41,\n",
       " TreeNode((((0,1),4),3),2): 125,\n",
       " TreeNode((((0,2),1),3),4): 52,\n",
       " TreeNode((((0,2),1),4),3): 27,\n",
       " TreeNode((((0,2),3),1),4): 51,\n",
       " TreeNode((((0,2),3),4),1): 15,\n",
       " TreeNode((((0,2),4),1),3): 25,\n",
       " TreeNode((((0,2),4),3),1): 11,\n",
       " TreeNode((((0,3),1),2),4): 200,\n",
       " TreeNode((((0,3),1),4),2): 215,\n",
       " TreeNode((((0,3),2),1),4): 117,\n",
       " TreeNode((((0,3),2),4),1): 48,\n",
       " TreeNode((((0,3),4),1),2): 111,\n",
       " TreeNode((((0,3),4),2),1): 29,\n",
       " TreeNode((((0,4),1),2),3): 20,\n",
       " TreeNode((((0,4),1),3),2): 66,\n",
       " TreeNode((((0,4),2),1),3): 19,\n",
       " TreeNode((((0,4),2),3),1): 17,\n",
       " TreeNode((((0,4),3),1),2): 70,\n",
       " TreeNode((((0,4),3),2),1): 30,\n",
       " TreeNode(((0,(1,2)),3),4): 71,\n",
       " TreeNode(((0,(1,2)),4),3): 29,\n",
       " TreeNode(((0,(1,3)),2),4): 474,\n",
       " TreeNode(((0,(1,3)),4),2): 455,\n",
       " TreeNode(((0,(1,4)),2),3): 36,\n",
       " TreeNode(((0,(1,4)),3),2): 83,\n",
       " TreeNode(((0,(2,3)),1),4): 76,\n",
       " TreeNode(((0,(2,3)),4),1): 24,\n",
       " TreeNode(((0,(2,4)),1),3): 13,\n",
       " TreeNode(((0,(2,4)),3),1): 13,\n",
       " TreeNode(((0,(3,4)),1),2): 94,\n",
       " TreeNode(((0,(3,4)),2),1): 31,\n",
       " TreeNode(((0,1),(2,3)),4): 193,\n",
       " TreeNode(((0,1),(2,4)),3): 29,\n",
       " TreeNode(((0,1),(3,4)),2): 202,\n",
       " TreeNode(((0,1),2),(3,4)): 125,\n",
       " TreeNode(((0,1),3),(2,4)): 120,\n",
       " TreeNode(((0,1),4),(2,3)): 117,\n",
       " TreeNode(((0,2),(1,3)),4): 292,\n",
       " TreeNode(((0,2),(1,4)),3): 34,\n",
       " TreeNode(((0,2),(3,4)),1): 32,\n",
       " TreeNode(((0,2),1),(3,4)): 70,\n",
       " TreeNode(((0,2),3),(1,4)): 54,\n",
       " TreeNode(((0,2),4),(1,3)): 131,\n",
       " TreeNode(((0,3),(1,2)),4): 191,\n",
       " TreeNode(((0,3),(1,4)),2): 179,\n",
       " TreeNode(((0,3),(2,4)),1): 32,\n",
       " TreeNode(((0,3),1),(2,4)): 112,\n",
       " TreeNode(((0,3),2),(1,4)): 105,\n",
       " TreeNode(((0,3),4),(1,2)): 99,\n",
       " TreeNode(((0,4),(1,2)),3): 36,\n",
       " TreeNode(((0,4),(1,3)),2): 292,\n",
       " TreeNode(((0,4),(2,3)),1): 43,\n",
       " TreeNode(((0,4),1),(2,3)): 63,\n",
       " TreeNode(((0,4),2),(1,3)): 106,\n",
       " TreeNode(((0,4),3),(1,2)): 52,\n",
       " TreeNode((0,((1,2),3)),4): 115,\n",
       " TreeNode((0,((1,2),4)),3): 31,\n",
       " TreeNode((0,((1,3),2)),4): 314,\n",
       " TreeNode((0,((1,3),4)),2): 286,\n",
       " TreeNode((0,((1,4),2)),3): 26,\n",
       " TreeNode((0,((1,4),3)),2): 93,\n",
       " TreeNode((0,((2,3),4)),1): 16,\n",
       " TreeNode((0,((2,4),3)),1): 18,\n",
       " TreeNode((0,(1,(2,3))),4): 101,\n",
       " TreeNode((0,(1,(2,4))),3): 12,\n",
       " TreeNode((0,(1,(3,4))),2): 91,\n",
       " TreeNode((0,(1,2)),(3,4)): 84,\n",
       " TreeNode((0,(1,3)),(2,4)): 232,\n",
       " TreeNode((0,(1,4)),(2,3)): 83,\n",
       " TreeNode((0,(2,(3,4))),1): 18,\n",
       " TreeNode((0,(2,3)),(1,4)): 74,\n",
       " TreeNode((0,(2,4)),(1,3)): 94,\n",
       " TreeNode((0,(3,4)),(1,2)): 84,\n",
       " TreeNode((0,1),((2,3),4)): 101,\n",
       " TreeNode((0,1),((2,4),3)): 66,\n",
       " TreeNode((0,1),(2,(3,4))): 98,\n",
       " TreeNode((0,2),((1,3),4)): 215,\n",
       " TreeNode((0,2),((1,4),3)): 65,\n",
       " TreeNode((0,2),(1,(3,4))): 81,\n",
       " TreeNode((0,3),((1,2),4)): 82,\n",
       " TreeNode((0,3),((1,4),2)): 85,\n",
       " TreeNode((0,3),(1,(2,4))): 51,\n",
       " TreeNode((0,4),((1,2),3)): 76,\n",
       " TreeNode((0,4),((1,3),2)): 195,\n",
       " TreeNode((0,4),(1,(2,3))): 73,\n",
       " TreeNode(0,(((1,2),3),4)): 61,\n",
       " TreeNode(0,(((1,2),4),3)): 37,\n",
       " TreeNode(0,(((1,3),2),4)): 168,\n",
       " TreeNode(0,(((1,3),4),2)): 154,\n",
       " TreeNode(0,(((1,4),2),3)): 35,\n",
       " TreeNode(0,(((1,4),3),2)): 55,\n",
       " TreeNode(0,((1,(2,3)),4)): 46,\n",
       " TreeNode(0,((1,(2,4)),3)): 24,\n",
       " TreeNode(0,((1,(3,4)),2)): 51,\n",
       " TreeNode(0,((1,2),(3,4))): 90,\n",
       " TreeNode(0,((1,3),(2,4))): 128,\n",
       " TreeNode(0,((1,4),(2,3))): 90,\n",
       " TreeNode(0,(1,((2,3),4))): 40,\n",
       " TreeNode(0,(1,((2,4),3))): 22,\n",
       " TreeNode(0,(1,(2,(3,4)))): 36}"
      ]
     },
     "execution_count": 19,
     "metadata": {},
     "output_type": "execute_result"
    }
   ],
   "source": [
    "from tqdm import tqdm_notebook as tqdm\n",
    "\n",
    "tree_counts = {}\n",
    "\n",
    "for bio_tree in tqdm(trees):\n",
    "    clade = bio_tree.root\n",
    "    tree = convert_tree(clade)\n",
    "    if tree in tree_counts:\n",
    "        tree_counts[tree] += 1\n",
    "    else:\n",
    "        tree_counts[tree] = 1\n",
    "\n",
    "tree_counts"
   ]
  },
  {
   "cell_type": "code",
   "execution_count": 20,
   "metadata": {},
   "outputs": [
    {
     "data": {
      "text/plain": [
       "{TreeNode((((0,1),2),3),4): 0.0103989601039896,\n",
       " TreeNode((((0,1),2),4),3): 0.004899510048995101,\n",
       " TreeNode((((0,1),3),2),4): 0.023297670232976703,\n",
       " TreeNode((((0,1),3),4),2): 0.022097790220977902,\n",
       " TreeNode((((0,1),4),2),3): 0.0040995900409959,\n",
       " TreeNode((((0,1),4),3),2): 0.0124987501249875,\n",
       " TreeNode((((0,2),1),3),4): 0.0051994800519948,\n",
       " TreeNode((((0,2),1),4),3): 0.0026997300269973002,\n",
       " TreeNode((((0,2),3),1),4): 0.005099490050994901,\n",
       " TreeNode((((0,2),3),4),1): 0.0014998500149985001,\n",
       " TreeNode((((0,2),4),1),3): 0.0024997500249975004,\n",
       " TreeNode((((0,2),4),3),1): 0.0010998900109989002,\n",
       " TreeNode((((0,3),1),2),4): 0.019998000199980003,\n",
       " TreeNode((((0,3),1),4),2): 0.021497850214978503,\n",
       " TreeNode((((0,3),2),1),4): 0.011698830116988301,\n",
       " TreeNode((((0,3),2),4),1): 0.0047995200479952005,\n",
       " TreeNode((((0,3),4),1),2): 0.0110988901109889,\n",
       " TreeNode((((0,3),4),2),1): 0.0028997100289971,\n",
       " TreeNode((((0,4),1),2),3): 0.001999800019998,\n",
       " TreeNode((((0,4),1),3),2): 0.0065993400659934,\n",
       " TreeNode((((0,4),2),1),3): 0.0018998100189981002,\n",
       " TreeNode((((0,4),2),3),1): 0.0016998300169983002,\n",
       " TreeNode((((0,4),3),1),2): 0.006999300069993001,\n",
       " TreeNode((((0,4),3),2),1): 0.0029997000299970002,\n",
       " TreeNode(((0,(1,2)),3),4): 0.007099290070992901,\n",
       " TreeNode(((0,(1,2)),4),3): 0.0028997100289971,\n",
       " TreeNode(((0,(1,3)),2),4): 0.04739526047395261,\n",
       " TreeNode(((0,(1,3)),4),2): 0.045495450454954504,\n",
       " TreeNode(((0,(1,4)),2),3): 0.0035996400359964,\n",
       " TreeNode(((0,(1,4)),3),2): 0.0082991700829917,\n",
       " TreeNode(((0,(2,3)),1),4): 0.007599240075992401,\n",
       " TreeNode(((0,(2,3)),4),1): 0.0023997600239976003,\n",
       " TreeNode(((0,(2,4)),1),3): 0.0012998700129987,\n",
       " TreeNode(((0,(2,4)),3),1): 0.0012998700129987,\n",
       " TreeNode(((0,(3,4)),1),2): 0.0093990600939906,\n",
       " TreeNode(((0,(3,4)),2),1): 0.0030996900309969004,\n",
       " TreeNode(((0,1),(2,3)),4): 0.0192980701929807,\n",
       " TreeNode(((0,1),(2,4)),3): 0.0028997100289971,\n",
       " TreeNode(((0,1),(3,4)),2): 0.0201979802019798,\n",
       " TreeNode(((0,1),2),(3,4)): 0.0124987501249875,\n",
       " TreeNode(((0,1),3),(2,4)): 0.011998800119988001,\n",
       " TreeNode(((0,1),4),(2,3)): 0.011698830116988301,\n",
       " TreeNode(((0,2),(1,3)),4): 0.029197080291970802,\n",
       " TreeNode(((0,2),(1,4)),3): 0.0033996600339966003,\n",
       " TreeNode(((0,2),(3,4)),1): 0.0031996800319968005,\n",
       " TreeNode(((0,2),1),(3,4)): 0.006999300069993001,\n",
       " TreeNode(((0,2),3),(1,4)): 0.0053994600539946005,\n",
       " TreeNode(((0,2),4),(1,3)): 0.013098690130986902,\n",
       " TreeNode(((0,3),(1,2)),4): 0.019098090190980903,\n",
       " TreeNode(((0,3),(1,4)),2): 0.0178982101789821,\n",
       " TreeNode(((0,3),(2,4)),1): 0.0031996800319968005,\n",
       " TreeNode(((0,3),1),(2,4)): 0.011198880111988802,\n",
       " TreeNode(((0,3),2),(1,4)): 0.010498950104989501,\n",
       " TreeNode(((0,3),4),(1,2)): 0.0098990100989901,\n",
       " TreeNode(((0,4),(1,2)),3): 0.0035996400359964,\n",
       " TreeNode(((0,4),(1,3)),2): 0.029197080291970802,\n",
       " TreeNode(((0,4),(2,3)),1): 0.004299570042995701,\n",
       " TreeNode(((0,4),1),(2,3)): 0.006299370062993701,\n",
       " TreeNode(((0,4),2),(1,3)): 0.0105989401059894,\n",
       " TreeNode(((0,4),3),(1,2)): 0.0051994800519948,\n",
       " TreeNode((0,((1,2),3)),4): 0.011498850114988501,\n",
       " TreeNode((0,((1,2),4)),3): 0.0030996900309969004,\n",
       " TreeNode((0,((1,3),2)),4): 0.0313968603139686,\n",
       " TreeNode((0,((1,3),4)),2): 0.028597140285971403,\n",
       " TreeNode((0,((1,4),2)),3): 0.0025997400259974,\n",
       " TreeNode((0,((1,4),3)),2): 0.009299070092990702,\n",
       " TreeNode((0,((2,3),4)),1): 0.0015998400159984002,\n",
       " TreeNode((0,((2,4),3)),1): 0.0017998200179982,\n",
       " TreeNode((0,(1,(2,3))),4): 0.0100989901009899,\n",
       " TreeNode((0,(1,(2,4))),3): 0.0011998800119988001,\n",
       " TreeNode((0,(1,(3,4))),2): 0.009099090090990901,\n",
       " TreeNode((0,(1,2)),(3,4)): 0.008399160083991601,\n",
       " TreeNode((0,(1,3)),(2,4)): 0.0231976802319768,\n",
       " TreeNode((0,(1,4)),(2,3)): 0.0082991700829917,\n",
       " TreeNode((0,(2,(3,4))),1): 0.0017998200179982,\n",
       " TreeNode((0,(2,3)),(1,4)): 0.007399260073992601,\n",
       " TreeNode((0,(2,4)),(1,3)): 0.0093990600939906,\n",
       " TreeNode((0,(3,4)),(1,2)): 0.008399160083991601,\n",
       " TreeNode((0,1),((2,3),4)): 0.0100989901009899,\n",
       " TreeNode((0,1),((2,4),3)): 0.0065993400659934,\n",
       " TreeNode((0,1),(2,(3,4))): 0.009799020097990201,\n",
       " TreeNode((0,2),((1,3),4)): 0.021497850214978503,\n",
       " TreeNode((0,2),((1,4),3)): 0.0064993500649935,\n",
       " TreeNode((0,2),(1,(3,4))): 0.008099190080991902,\n",
       " TreeNode((0,3),((1,2),4)): 0.0081991800819918,\n",
       " TreeNode((0,3),((1,4),2)): 0.0084991500849915,\n",
       " TreeNode((0,3),(1,(2,4))): 0.005099490050994901,\n",
       " TreeNode((0,4),((1,2),3)): 0.007599240075992401,\n",
       " TreeNode((0,4),((1,3),2)): 0.019498050194980503,\n",
       " TreeNode((0,4),(1,(2,3))): 0.0072992700729927005,\n",
       " TreeNode(0,(((1,2),3),4)): 0.006099390060993901,\n",
       " TreeNode(0,(((1,2),4),3)): 0.0036996300369963003,\n",
       " TreeNode(0,(((1,3),2),4)): 0.016798320167983202,\n",
       " TreeNode(0,(((1,3),4),2)): 0.015398460153984602,\n",
       " TreeNode(0,(((1,4),2),3)): 0.0034996500349965005,\n",
       " TreeNode(0,(((1,4),3),2)): 0.005499450054994501,\n",
       " TreeNode(0,((1,(2,3)),4)): 0.0045995400459954,\n",
       " TreeNode(0,((1,(2,4)),3)): 0.0023997600239976003,\n",
       " TreeNode(0,((1,(3,4)),2)): 0.005099490050994901,\n",
       " TreeNode(0,((1,2),(3,4))): 0.008999100089991,\n",
       " TreeNode(0,((1,3),(2,4))): 0.012798720127987202,\n",
       " TreeNode(0,((1,4),(2,3))): 0.008999100089991,\n",
       " TreeNode(0,(1,((2,3),4))): 0.003999600039996,\n",
       " TreeNode(0,(1,((2,4),3))): 0.0021997800219978004,\n",
       " TreeNode(0,(1,(2,(3,4)))): 0.0035996400359964}"
      ]
     },
     "execution_count": 20,
     "metadata": {},
     "output_type": "execute_result"
    }
   ],
   "source": [
    "def normalise_dict_entries(dict_):\n",
    "    sum_ = sum(dict_.values())\n",
    "    return { key: value/sum_ for key, value in dict_.items() }\n",
    "\n",
    "p = normalise_dict_entries(tree_counts)\n",
    "p"
   ]
  },
  {
   "cell_type": "code",
   "execution_count": 25,
   "metadata": {},
   "outputs": [
    {
     "data": {
      "text/plain": [
       "(array([44., 29., 13.,  6.,  7.,  1.,  3.,  0.,  0.,  2.]),\n",
       " array([0.00109989, 0.00572943, 0.01035896, 0.0149885 , 0.01961804,\n",
       "        0.02424758, 0.02887711, 0.03350665, 0.03813619, 0.04276572,\n",
       "        0.04739526]),\n",
       " <a list of 10 Patch objects>)"
      ]
     },
     "execution_count": 25,
     "metadata": {},
     "output_type": "execute_result"
    },
    {
     "data": {
      "image/png": "[encoded data removed]",
      "text/plain": [
       "<matplotlib.figure.Figure at 0x7f815a28ba20>"
      ]
     },
     "metadata": {},
     "output_type": "display_data"
    }
   ],
   "source": [
    "import matplotlib.pyplot as plt\n",
    "import numpy as np\n",
    "\n",
    "plt.hist(p.values())"
   ]
  },
  {
   "cell_type": "code",
   "execution_count": 26,
   "metadata": {},
   "outputs": [],
   "source": [
    "import pickle\n",
    "\n",
    "with open('p.pickle', 'wb') as f:\n",
    "    pickle.dump(p, f)"
   ]
  },
  {
   "cell_type": "markdown",
   "metadata": {},
   "source": [
    "### Conditional clade summary"
   ]
  },
  {
   "cell_type": "code",
   "execution_count": 27,
   "metadata": {
    "scrolled": true
   },
   "outputs": [
    {
     "data": {
      "application/vnd.jupyter.widget-view+json": {
       "model_id": "4826fe95ffee42f6805678b7afe5138d",
       "version_major": 2,
       "version_minor": 0
      },
      "text/html": [
       "<p>Failed to display Jupyter Widget of type <code>HBox</code>.</p>\n",
       "<p>\n",
       "  If you're reading this message in the Jupyter Notebook or JupyterLab Notebook, it may mean\n",
       "  that the widgets JavaScript is still loading. If this message persists, it\n",
       "  likely means that the widgets JavaScript library is either not installed or\n",
       "  not enabled. See the <a href=\"https://ipywidgets.readthedocs.io/en/stable/user_install.html\">Jupyter\n",
       "  Widgets Documentation</a> for setup instructions.\n",
       "</p>\n",
       "<p>\n",
       "  If you're reading this message in another frontend (for example, a static\n",
       "  rendering on GitHub or <a href=\"https://nbviewer.jupyter.org/\">NBViewer</a>),\n",
       "  it may mean that your frontend doesn't currently support widgets.\n",
       "</p>\n"
      ],
      "text/plain": [
       "HBox(children=(IntProgress(value=0, max=10001), HTML(value='')))"
      ]
     },
     "metadata": {},
     "output_type": "display_data"
    },
    {
     "name": "stdout",
     "output_type": "stream",
     "text": [
      "\n"
     ]
    },
    {
     "data": {
      "text/plain": [
       "{frozenset({'0', '1', '4'}): {Split({'0', '4', '1'}, {'0', '1'}): 283,\n",
       "  Split({'0', '4', '1'}, {'0', '4'}): 149,\n",
       "  Split({'0', '4', '1'}, {'0'}): 202},\n",
       " frozenset({'0',\n",
       "            '1',\n",
       "            '2',\n",
       "            '4'}): {Split({'2', '0', '4', '1'}, {'2', '0', '1'}): 105, Split({'2', '0', '1', '4'}, {'0', '1', '4'}): 97, Split({'2', '1', '4', '0'}, {'1', '0'}): 29, Split({'2', '0', '4', '1'}, {'2', '0', '4'}): 57, Split({'2', '0', '4', '1'}, {'2', '0'}): 34, Split({'2', '0', '4', '1'}, {'0', '4'}): 36, Split({'2', '0', '4', '1'}, {'0'}): 69},\n",
       " frozenset({'1', '3', '4'}): {Split({'1', '4', '3'}, {'1', '3'}): 655,\n",
       "  Split({'1', '4', '3'}, {'1', '4'}): 213,\n",
       "  Split({'1', '4', '3'}, {'1'}): 223},\n",
       " frozenset({'0', '1', '3'}): {Split({'1', '0', '3'}, {'1', '0'}): 574,\n",
       "  Split({'0', '1', '3'}, {'0', '3'}): 527,\n",
       "  Split({'0', '1', '3'}, {'0'}): 1161},\n",
       " frozenset({'0',\n",
       "            '1',\n",
       "            '3',\n",
       "            '4'}): {Split({'0', '4', '1', '3'}, {'0', '1', '3'}): 891, Split({'0', '1', '4', '3'}, {'0', '1', '4'}): 274, Split({'0', '4', '1', '3'}, {'0', '1'}): 202, Split({'0', '4', '1', '3'}, {'0', '4', '3'}): 275, Split({'0', '4', '1', '3'}, {'0', '3'}): 179, Split({'0', '4', '1', '3'}, {'0', '4'}): 292, Split({'0', '4', '1', '3'}, {'0'}): 470},\n",
       " frozenset({'0', '2', '3'}): {Split({'2', '0', '3'}, {'2', '0'}): 120,\n",
       "  Split({'2', '0', '3'}, {'0', '3'}): 270,\n",
       "  Split({'2', '0', '3'}, {'0'}): 174},\n",
       " frozenset({'0',\n",
       "            '1',\n",
       "            '2',\n",
       "            '3'}): {Split({'2', '1', '0', '3'}, {'2', '1', '0'}): 227, Split({'2', '1', '0', '3'}, {'1', '0', '3'}): 907, Split({'2', '1', '0', '3'}, {'1', '0'}): 193, Split({'2', '0', '1', '3'}, {'2', '0', '3'}): 244, Split({'2', '0', '1', '3'}, {'2', '0'}): 292, Split({'2', '0', '1', '3'}, {'0', '3'}): 191, Split({'2', '0', '1', '3'}, {'0'}): 530},\n",
       " frozenset({'0', '2', '4'}): {Split({'2', '0', '4'}, {'2', '0'}): 167,\n",
       "  Split({'2', '0', '4'}, {'0', '4'}): 142,\n",
       "  Split({'2', '0', '4'}, {'0'}): 120},\n",
       " frozenset({'1', '2', '3'}): {Split({'2', '1', '3'}, {'2', '1'}): 252,\n",
       "  Split({'2', '1', '3'}, {'1', '3'}): 677,\n",
       "  Split({'2', '1', '3'}, {'1'}): 220},\n",
       " frozenset({'2', '3', '4'}): {Split({'2', '4', '3'}, {'2', '3'}): 157,\n",
       "  Split({'2', '4', '3'}, {'2', '4'}): 106,\n",
       "  Split({'2', '4', '3'}, {'2'}): 152},\n",
       " frozenset({'1', '2', '4'}): {Split({'2', '1', '4'}, {'2', '1'}): 150,\n",
       "  Split({'2', '1', '4'}, {'1', '4'}): 146,\n",
       "  Split({'2', '1', '4'}, {'1'}): 87},\n",
       " frozenset({'1',\n",
       "            '2',\n",
       "            '3',\n",
       "            '4'}): {Split({'2', '1', '4', '3'}, {'2', '1', '3'}): 275, Split({'2', '1', '4', '3'}, {'2', '1', '4'}): 96, Split({'2', '1', '4', '3'}, {'2', '1'}): 90, Split({'2', '1', '4', '3'}, {'1', '4', '3'}): 260, Split({'2', '1', '4', '3'}, {'1', '3'}): 128, Split({'2', '1', '4', '3'}, {'1', '4'}): 90, Split({'2', '1', '4', '3'}, {'1'}): 98},\n",
       " frozenset({'0', '1', '2'}): {Split({'2', '1', '0'}, {'1', '0'}): 278,\n",
       "  Split({'2', '0', '1'}, {'2', '0'}): 149,\n",
       "  Split({'2', '0', '1'}, {'0'}): 184},\n",
       " frozenset({'0', '3', '4'}): {Split({'0', '4', '3'}, {'0', '3'}): 239,\n",
       "  Split({'0', '4', '3'}, {'0', '4'}): 152,\n",
       "  Split({'0', '4', '3'}, {'0'}): 209},\n",
       " frozenset({'0',\n",
       "            '2',\n",
       "            '3',\n",
       "            '4'}): {Split({'2', '0', '4', '3'}, {'2', '0', '3'}): 87, Split({'2', '0', '4', '3'}, {'2', '0', '4'}): 41, Split({'2', '0', '4', '3'}, {'2', '0'}): 32, Split({'2', '0', '4', '3'}, {'0', '4', '3'}): 90, Split({'2', '0', '4', '3'}, {'0', '3'}): 32, Split({'2', '0', '4', '3'}, {'0', '4'}): 43, Split({'2', '0', '4', '3'}, {'0'}): 52},\n",
       " frozenset({'0',\n",
       "            '1',\n",
       "            '2',\n",
       "            '3',\n",
       "            '4'}): {Split({'4', '1', '3', '2', '0'}, {'2', '0', '1', '3'}): 2584, Split({'4', '1', '3', '2', '0'}, {'2', '0', '1', '4'}): 427, Split({'4', '1', '3', '2', '0'}, {'2', '0', '1'}): 279, Split({'4', '1', '3', '2', '0'}, {'0', '1', '4', '3'}): 2583, Split({'4', '1', '3', '2', '0'}, {'0', '1', '3'}): 464, Split({'4', '1', '3', '2', '0'}, {'0', '1', '4'}): 263, Split({'4', '1', '3', '2', '0'}, {'0', '1'}): 265, Split({'4', '1', '3', '2', '0'}, {'2', '0', '4', '3'}): 377, Split({'4', '1', '3', '2', '0'}, {'2', '0', '3'}): 233, Split({'4', '1', '3', '2', '0'}, {'2', '0', '4'}): 331, Split({'4', '1', '3', '2', '0'}, {'2', '0'}): 361, Split({'4', '1', '3', '2', '0'}, {'0', '4', '3'}): 235, Split({'4', '1', '3', '2', '0'}, {'0', '3'}): 218, Split({'4', '1', '3', '2', '0'}, {'0', '4'}): 344, Split({'4', '1', '3', '2', '0'}, {'0'}): 1037}}"
      ]
     },
     "execution_count": 27,
     "metadata": {},
     "output_type": "execute_result"
    }
   ],
   "source": [
    "from splits import Split\n",
    "\n",
    "subclade_counts = {}\n",
    "\n",
    "for tree in tqdm(trees):\n",
    "    for clade in tree.find_clades():\n",
    "        taxa = get_taxa(clade)\n",
    "        if len(taxa) > 2:\n",
    "            if taxa not in subclade_counts:\n",
    "                subclade_counts[taxa] = {}\n",
    "            conditional_split = Split(taxa, get_taxa(clade[0]))\n",
    "            if conditional_split not in subclade_counts[taxa]:\n",
    "                subclade_counts[taxa][conditional_split] = 1\n",
    "            else:\n",
    "                subclade_counts[taxa][conditional_split] += 1\n",
    "subclade_counts"
   ]
  },
  {
   "cell_type": "code",
   "execution_count": 28,
   "metadata": {
    "scrolled": true
   },
   "outputs": [
    {
     "data": {
      "text/plain": [
       "{frozenset({'0',\n",
       "            '1',\n",
       "            '4'}): {Split({'0', '4', '1'}, {'0', '1'}): 0.44637223974763407, Split({'0', '4', '1'}, {'0', '4'}): 0.23501577287066247, Split({'0', '4', '1'}, {'0'}): 0.3186119873817035},\n",
       " frozenset({'0',\n",
       "            '1',\n",
       "            '2',\n",
       "            '4'}): {Split({'2', '0', '4', '1'}, {'2', '0', '1'}): 0.2459016393442623, Split({'2', '0', '1', '4'}, {'0', '1', '4'}): 0.22716627634660422, Split({'2', '1', '4', '0'}, {'1', '0'}): 0.06791569086651054, Split({'2', '0', '4', '1'}, {'2', '0', '4'}): 0.13348946135831383, Split({'2', '0', '4', '1'}, {'2', '0'}): 0.07962529274004684, Split({'2', '0', '4', '1'}, {'0', '4'}): 0.08430913348946135, Split({'2', '0', '4', '1'}, {'0'}): 0.16159250585480095},\n",
       " frozenset({'1',\n",
       "            '3',\n",
       "            '4'}): {Split({'1', '4', '3'}, {'1', '3'}): 0.6003666361136571, Split({'1', '4', '3'}, {'1', '4'}): 0.19523373052245646, Split({'1', '4', '3'}, {'1'}): 0.20439963336388633},\n",
       " frozenset({'0',\n",
       "            '1',\n",
       "            '3'}): {Split({'1', '0', '3'}, {'1', '0'}): 0.2537577365163572, Split({'0', '1', '3'}, {'0', '3'}): 0.23297966401414677, Split({'0', '1', '3'}, {'0'}): 0.513262599469496},\n",
       " frozenset({'0',\n",
       "            '1',\n",
       "            '3',\n",
       "            '4'}): {Split({'0', '4', '1', '3'}, {'0', '1', '3'}): 0.34494773519163763, Split({'0', '1', '4', '3'}, {'0', '1', '4'}): 0.10607820363917925, Split({'0', '4', '1', '3'}, {'0', '1'}): 0.07820363917924894, Split({'0', '4', '1', '3'}, {'0', '4', '3'}): 0.1064653503677894, Split({'0', '4', '1', '3'}, {'0', '3'}): 0.06929926442121565, Split({'0', '4', '1', '3'}, {'0', '4'}): 0.11304684475416182, Split({'0', '4', '1', '3'}, {'0'}): 0.18195896244676732},\n",
       " frozenset({'0',\n",
       "            '2',\n",
       "            '3'}): {Split({'2', '0', '3'}, {'2', '0'}): 0.2127659574468085, Split({'2', '0', '3'}, {'0', '3'}): 0.4787234042553192, Split({'2', '0', '3'}, {'0'}): 0.30851063829787234},\n",
       " frozenset({'0',\n",
       "            '1',\n",
       "            '2',\n",
       "            '3'}): {Split({'2', '1', '0', '3'}, {'2', '1', '0'}): 0.08784829721362229, Split({'2', '1', '0', '3'}, {'1', '0', '3'}): 0.3510061919504644, Split({'2', '1', '0', '3'}, {'1', '0'}): 0.07469040247678019, Split({'2', '0', '1', '3'}, {'2', '0', '3'}): 0.09442724458204334, Split({'2', '0', '1', '3'}, {'2', '0'}): 0.1130030959752322, Split({'2', '0', '1', '3'}, {'0', '3'}): 0.07391640866873066, Split({'2', '0', '1', '3'}, {'0'}): 0.20510835913312694},\n",
       " frozenset({'0',\n",
       "            '2',\n",
       "            '4'}): {Split({'2', '0', '4'}, {'2', '0'}): 0.38927738927738925, Split({'2', '0', '4'}, {'0', '4'}): 0.331002331002331, Split({'2', '0', '4'}, {'0'}): 0.27972027972027974},\n",
       " frozenset({'1',\n",
       "            '2',\n",
       "            '3'}): {Split({'2', '1', '3'}, {'2', '1'}): 0.2193211488250653, Split({'2', '1', '3'}, {'1', '3'}): 0.5892080069625761, Split({'2', '1', '3'}, {'1'}): 0.19147084421235858},\n",
       " frozenset({'2',\n",
       "            '3',\n",
       "            '4'}): {Split({'2', '4', '3'}, {'2', '3'}): 0.3783132530120482, Split({'2', '4', '3'}, {'2', '4'}): 0.25542168674698795, Split({'2', '4', '3'}, {'2'}): 0.36626506024096384},\n",
       " frozenset({'1',\n",
       "            '2',\n",
       "            '4'}): {Split({'2', '1', '4'}, {'2', '1'}): 0.391644908616188, Split({'2', '1', '4'}, {'1', '4'}): 0.381201044386423, Split({'2', '1', '4'}, {'1'}): 0.22715404699738903},\n",
       " frozenset({'1',\n",
       "            '2',\n",
       "            '3',\n",
       "            '4'}): {Split({'2', '1', '4', '3'}, {'2', '1', '3'}): 0.2651880424300868, Split({'2', '1', '4', '3'}, {'2', '1', '4'}): 0.09257473481195758, Split({'2', '1', '4', '3'}, {'2', '1'}): 0.08678881388621022, Split({'2', '1', '4', '3'}, {'1', '4', '3'}): 0.2507232401157184, Split({'2', '1', '4', '3'}, {'1', '3'}): 0.12343297974927676, Split({'2', '1', '4', '3'}, {'1', '4'}): 0.08678881388621022, Split({'2', '1', '4', '3'}, {'1'}): 0.09450337512054002},\n",
       " frozenset({'0',\n",
       "            '1',\n",
       "            '2'}): {Split({'2', '1', '0'}, {'1', '0'}): 0.45499181669394434, Split({'2', '0', '1'}, {'2', '0'}): 0.24386252045826515, Split({'2', '0', '1'}, {'0'}): 0.3011456628477905},\n",
       " frozenset({'0',\n",
       "            '3',\n",
       "            '4'}): {Split({'0', '4', '3'}, {'0', '3'}): 0.3983333333333333, Split({'0', '4', '3'}, {'0', '4'}): 0.25333333333333335, Split({'0', '4', '3'}, {'0'}): 0.34833333333333333},\n",
       " frozenset({'0',\n",
       "            '2',\n",
       "            '3',\n",
       "            '4'}): {Split({'2', '0', '4', '3'}, {'2', '0', '3'}): 0.23076923076923078, Split({'2', '0', '4', '3'}, {'2', '0', '4'}): 0.10875331564986737, Split({'2', '0', '4', '3'}, {'2', '0'}): 0.08488063660477453, Split({'2', '0', '4', '3'}, {'0', '4', '3'}): 0.23872679045092837, Split({'2', '0', '4', '3'}, {'0', '3'}): 0.08488063660477453, Split({'2', '0', '4', '3'}, {'0', '4'}): 0.11405835543766578, Split({'2', '0', '4', '3'}, {'0'}): 0.13793103448275862},\n",
       " frozenset({'0',\n",
       "            '1',\n",
       "            '2',\n",
       "            '3',\n",
       "            '4'}): {Split({'4', '1', '3', '2', '0'}, {'2', '0', '1', '3'}): 0.25837416258374163, Split({'4', '1', '3', '2', '0'}, {'2', '0', '1', '4'}): 0.042695730426957304, Split({'4', '1', '3', '2', '0'}, {'2', '0', '1'}): 0.027897210278972105, Split({'4', '1', '3', '2', '0'}, {'0', '1', '4', '3'}): 0.2582741725827417, Split({'4', '1', '3', '2', '0'}, {'0', '1', '3'}): 0.0463953604639536, Split({'4', '1', '3', '2', '0'}, {'0', '1', '4'}): 0.026297370262973702, Split({'4', '1', '3', '2', '0'}, {'0', '1'}): 0.026497350264973504, Split({'4', '1', '3', '2', '0'}, {'2', '0', '4', '3'}): 0.037696230376962306, Split({'4', '1', '3', '2', '0'}, {'2', '0', '3'}): 0.023297670232976703, Split({'4', '1', '3', '2', '0'}, {'2', '0', '4'}): 0.033096690330966905, Split({'4', '1', '3', '2', '0'}, {'2', '0'}): 0.036096390360963904, Split({'4', '1', '3', '2', '0'}, {'0', '4', '3'}): 0.023497650234976502, Split({'4', '1', '3', '2', '0'}, {'0', '3'}): 0.0217978202179782, Split({'4', '1', '3', '2', '0'}, {'0', '4'}): 0.034396560343965606, Split({'4', '1', '3', '2', '0'}, {'0'}): 0.10368963103689631}}"
      ]
     },
     "execution_count": 28,
     "metadata": {},
     "output_type": "execute_result"
    }
   ],
   "source": [
    "split_p = { clade: normalise_dict_entries(subclades) for clade, subclades in subclade_counts.items() }\n",
    "split_p"
   ]
  },
  {
   "cell_type": "code",
   "execution_count": 29,
   "metadata": {
    "scrolled": true
   },
   "outputs": [
    {
     "data": {
      "text/plain": [
       "{TreeNode((((0,1),2),3),4): 0.010327281510801457,\n",
       " TreeNode((((0,1),2),4),3): 0.00477693638164825,\n",
       " TreeNode((((0,1),3),2),4): 0.02301352534949865,\n",
       " TreeNode((((0,1),3),4),2): 0.0226075535682506,\n",
       " TreeNode((((0,1),4),2),3): 0.004329377787773273,\n",
       " TreeNode((((0,1),4),3),2): 0.012229376431442028,\n",
       " TreeNode((((0,2),1),3),4): 0.005535125701832436,\n",
       " TreeNode((((0,2),1),4),3): 0.0025603004347683075,\n",
       " TreeNode((((0,2),3),1),4): 0.00519097026467566,\n",
       " TreeNode((((0,2),3),4),1): 0.001850878741913043,\n",
       " TreeNode((((0,2),4),1),3): 0.0022186592529558234,\n",
       " TreeNode((((0,2),4),3),1): 0.0015958777082664694,\n",
       " TreeNode((((0,3),1),2),4): 0.02112914261182193,\n",
       " TreeNode((((0,3),1),4),2): 0.020756412422418234,\n",
       " TreeNode((((0,3),2),1),4): 0.011679683095520236,\n",
       " TreeNode((((0,3),2),4),1): 0.004164477169304347,\n",
       " TreeNode((((0,3),4),1),2): 0.010953071359530714,\n",
       " TreeNode((((0,3),4),2),1): 0.003584641535846415,\n",
       " TreeNode((((0,4),1),2),3): 0.002279425054339992,\n",
       " TreeNode((((0,4),1),3),2): 0.006438788297826369,\n",
       " TreeNode((((0,4),2),1),3): 0.0018865246342498617,\n",
       " TreeNode((((0,4),2),3),1): 0.0013569738597235849,\n",
       " TreeNode((((0,4),3),1),2): 0.006965970069659701,\n",
       " TreeNode((((0,4),3),2),1): 0.0022797720227977205,\n",
       " TreeNode(((0,(1,2)),3),4): 0.00683532301434341,\n",
       " TreeNode(((0,(1,2)),4),3): 0.0031617132885729425,\n",
       " TreeNode(((0,(1,3)),2),4): 0.04654826294558873,\n",
       " TreeNode(((0,(1,3)),4),2): 0.04572712490024207,\n",
       " TreeNode(((0,(1,4)),2),3): 0.0030902272548770362,\n",
       " TreeNode(((0,(1,4)),3),2): 0.008729095544704205,\n",
       " TreeNode(((0,(2,3)),1),4): 0.007526906883779706,\n",
       " TreeNode(((0,(2,3)),4),1): 0.0026837741757739122,\n",
       " TreeNode(((0,(2,4)),1),3): 0.0015942461697886158,\n",
       " TreeNode(((0,(2,4)),3),1): 0.0011467384730058463,\n",
       " TreeNode(((0,(3,4)),1),2): 0.009578208845782088,\n",
       " TreeNode(((0,(3,4)),2),1): 0.003134686531346865,\n",
       " TreeNode(((0,1),(2,3)),4): 0.0192980701929807,\n",
       " TreeNode(((0,1),(2,4)),3): 0.0028997100289971005,\n",
       " TreeNode(((0,1),(3,4)),2): 0.0201979802019798,\n",
       " TreeNode(((0,1),2),(3,4)): 0.012693002385522496,\n",
       " TreeNode(((0,1),3),(2,4)): 0.011773181656193354,\n",
       " TreeNode(((0,1),4),(2,3)): 0.011738416063756401,\n",
       " TreeNode(((0,2),(1,3)),4): 0.029197080291970802,\n",
       " TreeNode(((0,2),(1,4)),3): 0.0033996600339966003,\n",
       " TreeNode(((0,2),(3,4)),1): 0.0031996800319968005,\n",
       " TreeNode(((0,2),1),(3,4)): 0.006803084012384359,\n",
       " TreeNode(((0,2),3),(1,4)): 0.004956951113399299,\n",
       " TreeNode(((0,2),4),(1,3)): 0.012883793205761008,\n",
       " TreeNode(((0,3),(1,2)),4): 0.019098090190980903,\n",
       " TreeNode(((0,3),(1,4)),2): 0.0178982101789821,\n",
       " TreeNode(((0,3),(2,4)),1): 0.0031996800319968005,\n",
       " TreeNode(((0,3),1),(2,4)): 0.010809175492707138,\n",
       " TreeNode(((0,3),2),(1,4)): 0.011153140005148422,\n",
       " TreeNode(((0,3),4),(1,2)): 0.009359897343598973,\n",
       " TreeNode(((0,4),(1,2)),3): 0.0035996400359964,\n",
       " TreeNode(((0,4),(1,3)),2): 0.029197080291970802,\n",
       " TreeNode(((0,4),(2,3)),1): 0.004299570042995701,\n",
       " TreeNode(((0,4),1),(2,3)): 0.006180296796818741,\n",
       " TreeNode(((0,4),2),(1,3)): 0.010955081648012356,\n",
       " TreeNode(((0,4),3),(1,2)): 0.005952738059527381,\n",
       " TreeNode((0,((1,2),3)),4): 0.011622858601868274,\n",
       " TreeNode((0,((1,2),4)),3): 0.002702079661485549,\n",
       " TreeNode((0,((1,3),2)),4): 0.03122490187882865,\n",
       " TreeNode((0,((1,3),4)),2): 0.028214410456296253,\n",
       " TreeNode((0,((1,4),2)),3): 0.0026300242038459344,\n",
       " TreeNode((0,((1,4),3)),2): 0.009175067827772675,\n",
       " TreeNode((0,((2,3),4)),1): 0.0019670322124414065,\n",
       " TreeNode((0,((2,4),3)),1): 0.0013280599650878286,\n",
       " TreeNode((0,(1,(2,3))),4): 0.01014694004925008,\n",
       " TreeNode((0,(1,(2,4))),3): 0.0015672062036616182,\n",
       " TreeNode((0,(1,(3,4))),2): 0.009605822185884069,\n",
       " TreeNode((0,(1,2)),(3,4)): 0.008401123881065248,\n",
       " TreeNode((0,(1,3)),(2,4)): 0.023813003315053108,\n",
       " TreeNode((0,(1,4)),(2,3)): 0.008378657402398562,\n",
       " TreeNode((0,(2,(3,4))),1): 0.0019043878744655655,\n",
       " TreeNode((0,(2,3)),(1,4)): 0.007187579114428983,\n",
       " TreeNode((0,(2,4)),(1,3)): 0.00925781547719354,\n",
       " TreeNode((0,(3,4)),(1,2)): 0.008185014831850149,\n",
       " TreeNode((0,1),((2,3),4)): 0.010024298774941784,\n",
       " TreeNode((0,1),((2,4),3)): 0.00676799789900528,\n",
       " TreeNode((0,1),(2,(3,4))): 0.00970505359102644,\n",
       " TreeNode((0,2),((1,3),4)): 0.02167106845685734,\n",
       " TreeNode((0,2),((1,4),3)): 0.007047232948565822,\n",
       " TreeNode((0,2),(1,(3,4))): 0.0073780889555407425,\n",
       " TreeNode((0,3),((1,2),4)): 0.008537005307302168,\n",
       " TreeNode((0,3),((1,4),2)): 0.008309351832440777,\n",
       " TreeNode((0,3),(1,(2,4))): 0.004951463078235257,\n",
       " TreeNode((0,4),((1,2),3)): 0.007543893130269219,\n",
       " TreeNode((0,4),((1,3),2)): 0.020266728766635957,\n",
       " TreeNode((0,4),(1,(2,3))): 0.006585938447060429,\n",
       " TreeNode(0,(((1,2),3),4)): 0.006030728519837312,\n",
       " TreeNode(0,(((1,2),4),3)): 0.003759415181197285,\n",
       " TreeNode(0,(((1,3),2),4)): 0.0162016000314677,\n",
       " TreeNode(0,(((1,3),4),2)): 0.015607971741780906,\n",
       " TreeNode(0,(((1,4),2),3)): 0.0036591641096986914,\n",
       " TreeNode(0,(((1,4),3),2)): 0.005075569436640203,\n",
       " TreeNode(0,((1,(2,3)),4)): 0.0052649217236674945,\n",
       " TreeNode(0,((1,(2,4)),3)): 0.0021804608050944255,\n",
       " TreeNode(0,((1,(3,4)),2)): 0.005313859081552888,\n",
       " TreeNode(0,((1,2),(3,4))): 0.008999100089991,\n",
       " TreeNode(0,((1,3),(2,4))): 0.012798720127987202,\n",
       " TreeNode(0,((1,4),(2,3))): 0.008999100089991,\n",
       " TreeNode(0,(1,((2,3),4))): 0.0037070991696011124,\n",
       " TreeNode(0,(1,((2,4),3))): 0.002502882241896292,\n",
       " TreeNode(0,(1,(2,(3,4)))): 0.0035890386864927963}"
      ]
     },
     "execution_count": 29,
     "metadata": {},
     "output_type": "execute_result"
    }
   ],
   "source": [
    "from operator import mul\n",
    "from functools import reduce\n",
    "from splits import get_clade\n",
    "\n",
    "prod = lambda xs: reduce(mul, xs)\n",
    "\n",
    "def get_split_p(clade, split, split_ps):\n",
    "    if clade in split_ps:\n",
    "        if split in split_ps[clade]:\n",
    "            return split_ps[clade][split]\n",
    "        else:\n",
    "            return 0.0\n",
    "    else:\n",
    "        return 0.0\n",
    "    \n",
    "def p_approx(tree, split_ps):\n",
    "    if isinstance(tree, str):\n",
    "        return 1.0\n",
    "    else:\n",
    "        children = tree.get_children()\n",
    "        if all([isinstance(child, str) for child in children]):\n",
    "            return 1.0\n",
    "        else:\n",
    "            clade = tree.get_clade()\n",
    "            subtree_p_approxs = [p_approx(subtree, split_ps) for subtree in children]\n",
    "            split = Split(tree.get_clade(), get_clade(children[0]))\n",
    "            split_p = get_split_p(clade, split, split_ps)\n",
    "            return split_p*prod(subtree_p_approxs)\n",
    "    \n",
    "p_approxs = { tree: p_approx(tree, split_p) for tree in p.keys() }\n",
    "p_approxs"
   ]
  },
  {
   "cell_type": "code",
   "execution_count": 30,
   "metadata": {
    "collapsed": true
   },
   "outputs": [
    {
     "data": {
      "text/plain": [
       "{TreeNode((((0,1),2),3),4): (0.0103989601039896, 0.010327281510801457),\n",
       " TreeNode((((0,1),2),4),3): (0.004899510048995101, 0.00477693638164825),\n",
       " TreeNode((((0,1),3),2),4): (0.023297670232976703, 0.02301352534949865),\n",
       " TreeNode((((0,1),3),4),2): (0.022097790220977902, 0.0226075535682506),\n",
       " TreeNode((((0,1),4),2),3): (0.0040995900409959, 0.004329377787773273),\n",
       " TreeNode((((0,1),4),3),2): (0.0124987501249875, 0.012229376431442028),\n",
       " TreeNode((((0,2),1),3),4): (0.0051994800519948, 0.005535125701832436),\n",
       " TreeNode((((0,2),1),4),3): (0.0026997300269973002, 0.0025603004347683075),\n",
       " TreeNode((((0,2),3),1),4): (0.005099490050994901, 0.00519097026467566),\n",
       " TreeNode((((0,2),3),4),1): (0.0014998500149985001, 0.001850878741913043),\n",
       " TreeNode((((0,2),4),1),3): (0.0024997500249975004, 0.0022186592529558234),\n",
       " TreeNode((((0,2),4),3),1): (0.0010998900109989002, 0.0015958777082664694),\n",
       " TreeNode((((0,3),1),2),4): (0.019998000199980003, 0.02112914261182193),\n",
       " TreeNode((((0,3),1),4),2): (0.021497850214978503, 0.020756412422418234),\n",
       " TreeNode((((0,3),2),1),4): (0.011698830116988301, 0.011679683095520236),\n",
       " TreeNode((((0,3),2),4),1): (0.0047995200479952005, 0.004164477169304347),\n",
       " TreeNode((((0,3),4),1),2): (0.0110988901109889, 0.010953071359530714),\n",
       " TreeNode((((0,3),4),2),1): (0.0028997100289971, 0.003584641535846415),\n",
       " TreeNode((((0,4),1),2),3): (0.001999800019998, 0.002279425054339992),\n",
       " TreeNode((((0,4),1),3),2): (0.0065993400659934, 0.006438788297826369),\n",
       " TreeNode((((0,4),2),1),3): (0.0018998100189981002, 0.0018865246342498617),\n",
       " TreeNode((((0,4),2),3),1): (0.0016998300169983002, 0.0013569738597235849),\n",
       " TreeNode((((0,4),3),1),2): (0.006999300069993001, 0.006965970069659701),\n",
       " TreeNode((((0,4),3),2),1): (0.0029997000299970002, 0.0022797720227977205),\n",
       " TreeNode(((0,(1,2)),3),4): (0.007099290070992901, 0.00683532301434341),\n",
       " TreeNode(((0,(1,2)),4),3): (0.0028997100289971, 0.0031617132885729425),\n",
       " TreeNode(((0,(1,3)),2),4): (0.04739526047395261, 0.04654826294558873),\n",
       " TreeNode(((0,(1,3)),4),2): (0.045495450454954504, 0.04572712490024207),\n",
       " TreeNode(((0,(1,4)),2),3): (0.0035996400359964, 0.0030902272548770362),\n",
       " TreeNode(((0,(1,4)),3),2): (0.0082991700829917, 0.008729095544704205),\n",
       " TreeNode(((0,(2,3)),1),4): (0.007599240075992401, 0.007526906883779706),\n",
       " TreeNode(((0,(2,3)),4),1): (0.0023997600239976003, 0.0026837741757739122),\n",
       " TreeNode(((0,(2,4)),1),3): (0.0012998700129987, 0.0015942461697886158),\n",
       " TreeNode(((0,(2,4)),3),1): (0.0012998700129987, 0.0011467384730058463),\n",
       " TreeNode(((0,(3,4)),1),2): (0.0093990600939906, 0.009578208845782088),\n",
       " TreeNode(((0,(3,4)),2),1): (0.0030996900309969004, 0.003134686531346865),\n",
       " TreeNode(((0,1),(2,3)),4): (0.0192980701929807, 0.0192980701929807),\n",
       " TreeNode(((0,1),(2,4)),3): (0.0028997100289971, 0.0028997100289971005),\n",
       " TreeNode(((0,1),(3,4)),2): (0.0201979802019798, 0.0201979802019798),\n",
       " TreeNode(((0,1),2),(3,4)): (0.0124987501249875, 0.012693002385522496),\n",
       " TreeNode(((0,1),3),(2,4)): (0.011998800119988001, 0.011773181656193354),\n",
       " TreeNode(((0,1),4),(2,3)): (0.011698830116988301, 0.011738416063756401),\n",
       " TreeNode(((0,2),(1,3)),4): (0.029197080291970802, 0.029197080291970802),\n",
       " TreeNode(((0,2),(1,4)),3): (0.0033996600339966003, 0.0033996600339966003),\n",
       " TreeNode(((0,2),(3,4)),1): (0.0031996800319968005, 0.0031996800319968005),\n",
       " TreeNode(((0,2),1),(3,4)): (0.006999300069993001, 0.006803084012384359),\n",
       " TreeNode(((0,2),3),(1,4)): (0.0053994600539946005, 0.004956951113399299),\n",
       " TreeNode(((0,2),4),(1,3)): (0.013098690130986902, 0.012883793205761008),\n",
       " TreeNode(((0,3),(1,2)),4): (0.019098090190980903, 0.019098090190980903),\n",
       " TreeNode(((0,3),(1,4)),2): (0.0178982101789821, 0.0178982101789821),\n",
       " TreeNode(((0,3),(2,4)),1): (0.0031996800319968005, 0.0031996800319968005),\n",
       " TreeNode(((0,3),1),(2,4)): (0.011198880111988802, 0.010809175492707138),\n",
       " TreeNode(((0,3),2),(1,4)): (0.010498950104989501, 0.011153140005148422),\n",
       " TreeNode(((0,3),4),(1,2)): (0.0098990100989901, 0.009359897343598973),\n",
       " TreeNode(((0,4),(1,2)),3): (0.0035996400359964, 0.0035996400359964),\n",
       " TreeNode(((0,4),(1,3)),2): (0.029197080291970802, 0.029197080291970802),\n",
       " TreeNode(((0,4),(2,3)),1): (0.004299570042995701, 0.004299570042995701),\n",
       " TreeNode(((0,4),1),(2,3)): (0.006299370062993701, 0.006180296796818741),\n",
       " TreeNode(((0,4),2),(1,3)): (0.0105989401059894, 0.010955081648012356),\n",
       " TreeNode(((0,4),3),(1,2)): (0.0051994800519948, 0.005952738059527381),\n",
       " TreeNode((0,((1,2),3)),4): (0.011498850114988501, 0.011622858601868274),\n",
       " TreeNode((0,((1,2),4)),3): (0.0030996900309969004, 0.002702079661485549),\n",
       " TreeNode((0,((1,3),2)),4): (0.0313968603139686, 0.03122490187882865),\n",
       " TreeNode((0,((1,3),4)),2): (0.028597140285971403, 0.028214410456296253),\n",
       " TreeNode((0,((1,4),2)),3): (0.0025997400259974, 0.0026300242038459344),\n",
       " TreeNode((0,((1,4),3)),2): (0.009299070092990702, 0.009175067827772675),\n",
       " TreeNode((0,((2,3),4)),1): (0.0015998400159984002, 0.0019670322124414065),\n",
       " TreeNode((0,((2,4),3)),1): (0.0017998200179982, 0.0013280599650878286),\n",
       " TreeNode((0,(1,(2,3))),4): (0.0100989901009899, 0.01014694004925008),\n",
       " TreeNode((0,(1,(2,4))),3): (0.0011998800119988001, 0.0015672062036616182),\n",
       " TreeNode((0,(1,(3,4))),2): (0.009099090090990901, 0.009605822185884069),\n",
       " TreeNode((0,(1,2)),(3,4)): (0.008399160083991601, 0.008401123881065248),\n",
       " TreeNode((0,(1,3)),(2,4)): (0.0231976802319768, 0.023813003315053108),\n",
       " TreeNode((0,(1,4)),(2,3)): (0.0082991700829917, 0.008378657402398562),\n",
       " TreeNode((0,(2,(3,4))),1): (0.0017998200179982, 0.0019043878744655655),\n",
       " TreeNode((0,(2,3)),(1,4)): (0.007399260073992601, 0.007187579114428983),\n",
       " TreeNode((0,(2,4)),(1,3)): (0.0093990600939906, 0.00925781547719354),\n",
       " TreeNode((0,(3,4)),(1,2)): (0.008399160083991601, 0.008185014831850149),\n",
       " TreeNode((0,1),((2,3),4)): (0.0100989901009899, 0.010024298774941784),\n",
       " TreeNode((0,1),((2,4),3)): (0.0065993400659934, 0.00676799789900528),\n",
       " TreeNode((0,1),(2,(3,4))): (0.009799020097990201, 0.00970505359102644),\n",
       " TreeNode((0,2),((1,3),4)): (0.021497850214978503, 0.02167106845685734),\n",
       " TreeNode((0,2),((1,4),3)): (0.0064993500649935, 0.007047232948565822),\n",
       " TreeNode((0,2),(1,(3,4))): (0.008099190080991902, 0.0073780889555407425),\n",
       " TreeNode((0,3),((1,2),4)): (0.0081991800819918, 0.008537005307302168),\n",
       " TreeNode((0,3),((1,4),2)): (0.0084991500849915, 0.008309351832440777),\n",
       " TreeNode((0,3),(1,(2,4))): (0.005099490050994901, 0.004951463078235257),\n",
       " TreeNode((0,4),((1,2),3)): (0.007599240075992401, 0.007543893130269219),\n",
       " TreeNode((0,4),((1,3),2)): (0.019498050194980503, 0.020266728766635957),\n",
       " TreeNode((0,4),(1,(2,3))): (0.0072992700729927005, 0.006585938447060429),\n",
       " TreeNode(0,(((1,2),3),4)): (0.006099390060993901, 0.006030728519837312),\n",
       " TreeNode(0,(((1,2),4),3)): (0.0036996300369963003, 0.003759415181197285),\n",
       " TreeNode(0,(((1,3),2),4)): (0.016798320167983202, 0.0162016000314677),\n",
       " TreeNode(0,(((1,3),4),2)): (0.015398460153984602, 0.015607971741780906),\n",
       " TreeNode(0,(((1,4),2),3)): (0.0034996500349965005, 0.0036591641096986914),\n",
       " TreeNode(0,(((1,4),3),2)): (0.005499450054994501, 0.005075569436640203),\n",
       " TreeNode(0,((1,(2,3)),4)): (0.0045995400459954, 0.0052649217236674945),\n",
       " TreeNode(0,((1,(2,4)),3)): (0.0023997600239976003, 0.0021804608050944255),\n",
       " TreeNode(0,((1,(3,4)),2)): (0.005099490050994901, 0.005313859081552888),\n",
       " TreeNode(0,((1,2),(3,4))): (0.008999100089991, 0.008999100089991),\n",
       " TreeNode(0,((1,3),(2,4))): (0.012798720127987202, 0.012798720127987202),\n",
       " TreeNode(0,((1,4),(2,3))): (0.008999100089991, 0.008999100089991),\n",
       " TreeNode(0,(1,((2,3),4))): (0.003999600039996, 0.0037070991696011124),\n",
       " TreeNode(0,(1,((2,4),3))): (0.0021997800219978004, 0.002502882241896292),\n",
       " TreeNode(0,(1,(2,(3,4)))): (0.0035996400359964, 0.0035890386864927963)}"
      ]
     },
     "execution_count": 30,
     "metadata": {},
     "output_type": "execute_result"
    }
   ],
   "source": [
    "{ tree: (p[tree], p_approxs[tree]) for tree in p.keys() }"
   ]
  },
  {
   "cell_type": "code",
   "execution_count": 32,
   "metadata": {},
   "outputs": [
    {
     "data": {
      "text/plain": [
       "<matplotlib.collections.PathCollection at 0x7f8164543a90>"
      ]
     },
     "execution_count": 32,
     "metadata": {},
     "output_type": "execute_result"
    },
    {
     "data": {
      "image/png": "[encoded data removed]",
      "text/plain": [
       "<matplotlib.figure.Figure at 0x7f8164f046d8>"
      ]
     },
     "metadata": {},
     "output_type": "display_data"
    }
   ],
   "source": [
    "p_list, p_approx_list = zip(*[(p[tree], p_approxs[tree]) for tree in p.keys()])\n",
    "plt.scatter(p_list, p_approx_list)"
   ]
  },
  {
   "cell_type": "code",
   "execution_count": 49,
   "metadata": {},
   "outputs": [
    {
     "data": {
      "text/plain": [
       "0.0012321255861456"
      ]
     },
     "execution_count": 49,
     "metadata": {},
     "output_type": "execute_result"
    }
   ],
   "source": [
    "from math import log\n",
    "\n",
    "# Assume p contains all trees\n",
    "def kl(p, split_ps):\n",
    "    def tree_term(p, p_approx):\n",
    "        return p_approx*(log(p_approx) - log(p)) if p_approx > 0 else 0\n",
    "    return sum([tree_term(p[tree], p_approx(tree, split_ps)) for tree in p])\n",
    "\n",
    "kl(p, split_p)"
   ]
  },
  {
   "cell_type": "code",
   "execution_count": 54,
   "metadata": {
    "scrolled": true
   },
   "outputs": [
    {
     "data": {
      "text/plain": [
       "0.02328706465825252"
      ]
     },
     "execution_count": 54,
     "metadata": {},
     "output_type": "execute_result"
    }
   ],
   "source": [
    "split_p_list = [(split, p) for parent, splits in split_p.items() for split, p in splits.items()]\n",
    "split_p_list = sorted(split_p_list, key = lambda x: x[1], reverse=True)\n",
    "\n",
    "def rebuild_split_dict(split_list):\n",
    "    split_dict = {}\n",
    "    for split, split_p in split_list:\n",
    "        parent = split.get_parent()\n",
    "        if parent not in split_dict:\n",
    "            split_dict[parent] = {}\n",
    "        split_dict[parent][split] = split_p\n",
    "    return { parent: normalise_dict_entries(split_ps) for parent, split_ps in split_dict.items() }\n",
    "\n",
    "kl(p, rebuild_split_dict(split_p_list[:-1]))"
   ]
  },
  {
   "cell_type": "code",
   "execution_count": 57,
   "metadata": {},
   "outputs": [
    {
     "data": {
      "text/plain": [
       "[<matplotlib.lines.Line2D at 0x7f816637ad68>]"
      ]
     },
     "execution_count": 57,
     "metadata": {},
     "output_type": "execute_result"
    },
    {
     "data": {
      "image/png": "[encoded data removed]",
      "text/plain": [
       "<matplotlib.figure.Figure at 0x7f8165315748>"
      ]
     },
     "metadata": {},
     "output_type": "display_data"
    }
   ],
   "source": [
    "n_splits = list(range(10, 50))\n",
    "kls = [kl(p, rebuild_split_dict(split_p_list[:-i])) for i in n_splits]\n",
    "plt.plot(n_splits, kls)"
   ]
  }
 ],
 "metadata": {
  "kernelspec": {
   "display_name": "Python 3",
   "language": "python",
   "name": "python3"
  },
  "language_info": {
   "codemirror_mode": {
    "name": "ipython",
    "version": 3
   },
   "file_extension": ".py",
   "mimetype": "text/x-python",
   "name": "python",
   "nbconvert_exporter": "python",
   "pygments_lexer": "ipython3",
   "version": "3.6.4"
  }
 },
 "nbformat": 4,
 "nbformat_minor": 2
}
