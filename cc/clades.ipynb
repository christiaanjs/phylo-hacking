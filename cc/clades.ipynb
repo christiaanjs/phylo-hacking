{
 "cells": [
  {
   "cell_type": "code",
   "execution_count": 1,
   "metadata": {},
   "outputs": [],
   "source": [
    "%matplotlib inline"
   ]
  },
  {
   "cell_type": "markdown",
   "metadata": {},
   "source": [
    "# Conditional clade probability summaries"
   ]
  },
  {
   "cell_type": "markdown",
   "metadata": {},
   "source": [
    "## Edit primates data to five taxa\n",
    "Five taxa is the smallest where we actually have to make the conditional independence assumption; we might observe a clade of greater than size 2 as the child of different parents."
   ]
  },
  {
   "cell_type": "code",
   "execution_count": 2,
   "metadata": {},
   "outputs": [
    {
     "data": {
      "text/plain": [
       "<Bio.Nexus.Nexus.Nexus at 0x10812f5f8>"
      ]
     },
     "execution_count": 2,
     "metadata": {},
     "output_type": "execute_result"
    }
   ],
   "source": [
    "from Bio.Nexus.Nexus import Nexus\n",
    "\n",
    "nexus = Nexus()\n",
    "nexus.read('../data/Influenza.nexus')\n",
    "nexus"
   ]
  },
  {
   "cell_type": "code",
   "execution_count": 3,
   "metadata": {},
   "outputs": [
    {
     "data": {
      "text/plain": [
       "[]"
      ]
     },
     "execution_count": 3,
     "metadata": {},
     "output_type": "execute_result"
    }
   ],
   "source": [
    "nexus.taxlabels"
   ]
  },
  {
   "cell_type": "code",
   "execution_count": 4,
   "metadata": {},
   "outputs": [],
   "source": [
    "# TODO: Return all with 5 taxa\n",
    "nexus.write_nexus_data('../data/Influenza-short.nex', delete=nexus.taxlabels[5:])"
   ]
  },
  {
   "cell_type": "markdown",
   "metadata": {},
   "source": [
    "## Data structures for conditional clades"
   ]
  },
  {
   "cell_type": "code",
   "execution_count": 5,
   "metadata": {},
   "outputs": [],
   "source": [
    "from splits import Split"
   ]
  },
  {
   "cell_type": "markdown",
   "metadata": {},
   "source": [
    "## Processing MCMC output"
   ]
  },
  {
   "cell_type": "code",
   "execution_count": 6,
   "metadata": {
    "scrolled": true
   },
   "outputs": [
    {
     "data": {
      "text/plain": [
       "10001"
      ]
     },
     "execution_count": 6,
     "metadata": {},
     "output_type": "execute_result"
    }
   ],
   "source": [
    "from Bio import Phylo\n",
    "trees = list(Phylo.parse('../data/Influenza-short.trees', format='nexus'))\n",
    "len(trees)"
   ]
  },
  {
   "cell_type": "code",
   "execution_count": 7,
   "metadata": {},
   "outputs": [
    {
     "data": {
      "image/png": "[encoded data removed]",
      "text/plain": [
       "<Figure size 432x288 with 1 Axes>"
      ]
     },
     "metadata": {},
     "output_type": "display_data"
    }
   ],
   "source": [
    "tree = trees[1]\n",
    "Phylo.draw(tree)"
   ]
  },
  {
   "cell_type": "code",
   "execution_count": 8,
   "metadata": {},
   "outputs": [
    {
     "data": {
      "text/plain": [
       "(0.00012464565757352433,\n",
       " frozenset({'CY068129_A_California_VRDL396_2009_2009/04/28',\n",
       "            'CY068137_A_California_VRDL159_2009_2009/04/28',\n",
       "            'CY068217_A_California_VRDL173_2009_2009/04/28'}))"
      ]
     },
     "execution_count": 8,
     "metadata": {},
     "output_type": "execute_result"
    }
   ],
   "source": [
    "def get_taxa(clade):\n",
    "    return frozenset([leaf.name for leaf in clade.get_terminals()])\n",
    "clade = list(tree.find_clades())[2]\n",
    "clade.branch_length, get_taxa(clade)"
   ]
  },
  {
   "cell_type": "code",
   "execution_count": 9,
   "metadata": {},
   "outputs": [
    {
     "data": {
      "text/plain": [
       "{'CY068129_A_California_VRDL396_2009_2009/04/28': '0',\n",
       " 'CY068870_A_California_VRDL392_2009_2009/04/28': '1',\n",
       " 'CY068686_A_California_VRDL181_2009_2009/04/28': '2',\n",
       " 'CY068217_A_California_VRDL173_2009_2009/04/28': '3',\n",
       " 'CY068137_A_California_VRDL159_2009_2009/04/28': '4'}"
      ]
     },
     "execution_count": 9,
     "metadata": {},
     "output_type": "execute_result"
    }
   ],
   "source": [
    "all_taxa = list(get_taxa(tree.root))\n",
    "name_mapping = { name: str(i) for i, name in enumerate(all_taxa)}\n",
    "name_mapping"
   ]
  },
  {
   "cell_type": "code",
   "execution_count": 10,
   "metadata": {},
   "outputs": [
    {
     "data": {
      "text/plain": [
       "[Clade(branch_length=0.0),\n",
       " Clade(branch_length=0.0001592378942861599),\n",
       " Clade(branch_length=1.377413413478014e-05),\n",
       " Clade(branch_length=0.00018363989578841652),\n",
       " Clade(branch_length=0.0016325343789806669, name='0'),\n",
       " Clade(branch_length=0.0016325343789806669, name='1'),\n",
       " Clade(branch_length=0.0018161742747690834, name='3'),\n",
       " Clade(branch_length=0.0018299484089038635, name='4'),\n",
       " Clade(branch_length=0.0019891863031900234, name='2')]"
      ]
     },
     "execution_count": 10,
     "metadata": {},
     "output_type": "execute_result"
    }
   ],
   "source": [
    "for tree in trees:\n",
    "    for clade in tree.find_clades():\n",
    "        if clade.name is not None:\n",
    "            clade.name = name_mapping[clade.name]\n",
    "\n",
    "list(tree.find_clades())"
   ]
  },
  {
   "cell_type": "code",
   "execution_count": 11,
   "metadata": {},
   "outputs": [
    {
     "data": {
      "image/png": "[encoded data removed]",
      "text/plain": [
       "<Figure size 432x288 with 1 Axes>"
      ]
     },
     "metadata": {},
     "output_type": "display_data"
    }
   ],
   "source": [
    "Phylo.draw(tree)"
   ]
  },
  {
   "cell_type": "markdown",
   "metadata": {},
   "source": [
    "### Conditional clade summary"
   ]
  },
  {
   "cell_type": "code",
   "execution_count": 12,
   "metadata": {
    "scrolled": true
   },
   "outputs": [
    {
     "data": {
      "application/vnd.jupyter.widget-view+json": {
       "model_id": "5d5efbc333c041f891bc7739c400ea9c",
       "version_major": 2,
       "version_minor": 0
      },
      "text/plain": [
       "HBox(children=(IntProgress(value=0, max=10001), HTML(value='')))"
      ]
     },
     "metadata": {},
     "output_type": "display_data"
    },
    {
     "name": "stdout",
     "output_type": "stream",
     "text": [
      "\n"
     ]
    },
    {
     "data": {
      "application/vnd.jupyter.widget-view+json": {
       "model_id": "4acdaa94029f4b96a92a47961414f51c",
       "version_major": 2,
       "version_minor": 0
      },
      "text/plain": [
       "HBox(children=(IntProgress(value=0, max=10001), HTML(value='')))"
      ]
     },
     "metadata": {},
     "output_type": "display_data"
    },
    {
     "name": "stdout",
     "output_type": "stream",
     "text": [
      "\n"
     ]
    },
    {
     "data": {
      "text/plain": [
       "({TreeNode((((0,4),2),1),3): 0.0035996400359964,\n",
       "  TreeNode((((0,3),4),2),1): 0.009099090090990901,\n",
       "  TreeNode(0,(1,(2,(3,4)))): 0.04739526047395261,\n",
       "  TreeNode(0,((1,2),(3,4))): 0.029197080291970802,\n",
       "  TreeNode(((0,2),(3,4)),1): 0.029197080291970802,\n",
       "  TreeNode(0,(1,((2,3),4))): 0.019998000199980003,\n",
       "  TreeNode(0,(((1,2),3),4)): 0.005099490050994901,\n",
       "  TreeNode((0,(1,2)),(3,4)): 0.013098690130986902,\n",
       "  TreeNode(((0,(3,4)),2),1): 0.028597140285971403,\n",
       "  TreeNode(((0,3),(2,4)),1): 0.0201979802019798,\n",
       "  TreeNode(((0,1),(3,4)),2): 0.012798720127987202,\n",
       "  TreeNode(0,((1,(3,4)),2)): 0.0313968603139686,\n",
       "  TreeNode(0,((1,4),(2,3))): 0.019098090190980903,\n",
       "  TreeNode((0,((2,4),3)),1): 0.022097790220977902,\n",
       "  TreeNode(0,((1,(2,4)),3)): 0.0103989601039896,\n",
       "  TreeNode((0,2),(1,(3,4))): 0.019498050194980503,\n",
       "  TreeNode((((0,3),1),4),2): 0.0035996400359964,\n",
       "  TreeNode(((0,4),(2,3)),1): 0.0178982101789821,\n",
       "  TreeNode(0,((1,(2,3)),4)): 0.011698830116988301,\n",
       "  TreeNode(0,(1,((2,4),3))): 0.023297670232976703,\n",
       "  TreeNode(((0,(1,4)),3),2): 0.0036996300369963003,\n",
       "  TreeNode(((0,(2,4)),3),1): 0.0124987501249875,\n",
       "  TreeNode((((0,4),2),3),1): 0.0082991700829917,\n",
       "  TreeNode(((0,1),(2,4)),3): 0.0028997100289971,\n",
       "  TreeNode(((0,3),4),(1,2)): 0.008099190080991902,\n",
       "  TreeNode((0,(2,4)),(1,3)): 0.011698830116988301,\n",
       "  TreeNode((0,3),((1,4),2)): 0.008399160083991601,\n",
       "  TreeNode((((0,1),4),3),2): 0.0023997600239976003,\n",
       "  TreeNode(((0,1),(2,3)),4): 0.0031996800319968005,\n",
       "  TreeNode((((0,3),2),1),4): 0.0030996900309969004,\n",
       "  TreeNode((0,((2,3),4)),1): 0.021497850214978503,\n",
       "  TreeNode((((0,2),3),4),1): 0.006999300069993001,\n",
       "  TreeNode(((0,1),3),(2,4)): 0.0065993400659934,\n",
       "  TreeNode(0,(((1,2),4),3)): 0.0051994800519948,\n",
       "  TreeNode(0,(((1,4),2),3)): 0.007099290070992901,\n",
       "  TreeNode((0,2),((1,4),3)): 0.007599240075992401,\n",
       "  TreeNode((((0,4),3),1),2): 0.005499450054994501,\n",
       "  TreeNode(((0,2),4),(1,3)): 0.006299370062993701,\n",
       "  TreeNode((0,2),((1,3),4)): 0.0072992700729927005,\n",
       "  TreeNode((0,((1,4),3)),2): 0.006099390060993901,\n",
       "  TreeNode(((0,4),(1,2)),3): 0.0033996600339966003,\n",
       "  TreeNode((0,1),(2,(3,4))): 0.0231976802319768,\n",
       "  TreeNode(((0,1),2),(3,4)): 0.0093990600939906,\n",
       "  TreeNode(((0,(2,3)),4),1): 0.0110988901109889,\n",
       "  TreeNode((((0,2),1),4),3): 0.0018998100189981002,\n",
       "  TreeNode((0,4),((1,3),2)): 0.007399260073992601,\n",
       "  TreeNode(0,(((1,3),2),4)): 0.007599240075992401,\n",
       "  TreeNode((((0,3),4),1),2): 0.005099490050994901,\n",
       "  TreeNode((0,4),(1,(2,3))): 0.010498950104989501,\n",
       "  TreeNode((0,(1,(2,3))),4): 0.0047995200479952005,\n",
       "  TreeNode((((0,4),3),2),1): 0.009299070092990702,\n",
       "  TreeNode(((0,4),2),(1,3)): 0.0082991700829917,\n",
       "  TreeNode((0,(1,3)),(2,4)): 0.0100989901009899,\n",
       "  TreeNode(((0,3),(1,4)),2): 0.008999100089991,\n",
       "  TreeNode((0,((1,2),4)),3): 0.0026997300269973002,\n",
       "  TreeNode(((0,4),(1,3)),2): 0.008999100089991,\n",
       "  TreeNode((((0,2),4),3),1): 0.0065993400659934,\n",
       "  TreeNode(((0,(1,4)),2),3): 0.0030996900309969004,\n",
       "  TreeNode(((0,4),1),(2,3)): 0.0084991500849915,\n",
       "  TreeNode(0,(((1,4),3),2)): 0.011498850114988501,\n",
       "  TreeNode(0,((1,3),(2,4))): 0.0192980701929807,\n",
       "  TreeNode((0,(1,(3,4))),2): 0.016798320167983202,\n",
       "  TreeNode((((0,1),3),2),4): 0.0017998200179982,\n",
       "  TreeNode(((0,(3,4)),1),2): 0.015398460153984602,\n",
       "  TreeNode(0,(((1,3),4),2)): 0.0100989901009899,\n",
       "  TreeNode((0,3),((1,2),4)): 0.006999300069993001,\n",
       "  TreeNode((0,3),(1,(2,4))): 0.0124987501249875,\n",
       "  TreeNode(((0,(1,3)),2),4): 0.0015998400159984002,\n",
       "  TreeNode(((0,2),(1,3)),4): 0.004299570042995701,\n",
       "  TreeNode((((0,3),1),2),4): 0.0017998200179982,\n",
       "  TreeNode(((0,3),2),(1,4)): 0.008399160083991601,\n",
       "  TreeNode(((0,(1,3)),4),2): 0.003999600039996,\n",
       "  TreeNode(((0,(2,4)),1),3): 0.0040995900409959,\n",
       "  TreeNode((0,4),((1,2),3)): 0.0053994600539946005,\n",
       "  TreeNode((((0,3),2),4),1): 0.0093990600939906,\n",
       "  TreeNode((0,1),((2,3),4)): 0.011198880111988802,\n",
       "  TreeNode(((0,2),3),(1,4)): 0.0051994800519948,\n",
       "  TreeNode(((0,1),4),(2,3)): 0.005099490050994901,\n",
       "  TreeNode((0,(2,(3,4))),1): 0.045495450454954504,\n",
       "  TreeNode((0,(3,4)),(1,2)): 0.021497850214978503,\n",
       "  TreeNode(((0,2),1),(3,4)): 0.0105989401059894,\n",
       "  TreeNode(((0,3),(1,2)),4): 0.0031996800319968005,\n",
       "  TreeNode((0,(1,(2,4))),3): 0.004899510048995101,\n",
       "  TreeNode(((0,4),3),(1,2)): 0.0064993500649935,\n",
       "  TreeNode((0,(2,3)),(1,4)): 0.0098990100989901,\n",
       "  TreeNode((0,((1,3),2)),4): 0.0023997600239976003,\n",
       "  TreeNode((0,(1,4)),(2,3)): 0.0081991800819918,\n",
       "  TreeNode((0,1),((2,4),3)): 0.011998800119988001,\n",
       "  TreeNode((0,((1,2),3)),4): 0.0014998500149985001,\n",
       "  TreeNode((((0,1),3),4),2): 0.0021997800219978004,\n",
       "  TreeNode((0,((1,4),2)),3): 0.0028997100289971,\n",
       "  TreeNode((0,((1,3),4)),2): 0.0045995400459954,\n",
       "  TreeNode(((0,3),1),(2,4)): 0.009799020097990201,\n",
       "  TreeNode((((0,4),1),3),2): 0.0034996500349965005,\n",
       "  TreeNode(((0,2),(1,4)),3): 0.0035996400359964,\n",
       "  TreeNode((((0,4),1),2),3): 0.0025997400259974,\n",
       "  TreeNode((((0,1),2),3),4): 0.0012998700129987,\n",
       "  TreeNode((((0,2),3),1),4): 0.0029997000299970002,\n",
       "  TreeNode(((0,(2,3)),1),4): 0.0028997100289971,\n",
       "  TreeNode((((0,2),4),1),3): 0.001999800019998,\n",
       "  TreeNode(((0,(1,2)),4),3): 0.0024997500249975004,\n",
       "  TreeNode(((0,(1,2)),3),4): 0.0010998900109989002,\n",
       "  TreeNode((((0,1),2),4),3): 0.0012998700129987,\n",
       "  TreeNode((((0,2),1),3),4): 0.0016998300169983002,\n",
       "  TreeNode((((0,1),4),2),3): 0.0011998800119988001},\n",
       " {frozenset({'0',\n",
       "             '1',\n",
       "             '2',\n",
       "             '3',\n",
       "             '4'}): {Split({'0', '2', '1', '4', '3'}, {'2', '1', '4', '0'}): 0.042695730426957304, Split({'0', '2', '1', '4', '3'}, {'2', '4', '3', '0'}): 0.2582741725827417, Split({'0', '2', '1', '4', '3'}, {'0'}): 0.25837416258374163, Split({'0', '2', '1', '4', '3'}, {'2', '1', '0'}): 0.033096690330966905, Split({'0', '2', '1', '4', '3'}, {'1', '4', '3', '0'}): 0.10368963103689631, Split({'0', '2', '1', '4', '3'}, {'2', '0'}): 0.034396560343965606, Split({'0', '2', '1', '4', '3'}, {'4', '3', '0'}): 0.036096390360963904, Split({'0', '2', '1', '4', '3'}, {'2', '4', '0'}): 0.026297370262973702, Split({'0', '2', '1', '4', '3'}, {'3', '0'}): 0.027897210278972105, Split({'0', '2', '1', '4', '3'}, {'2', '1', '3', '0'}): 0.037696230376962306, Split({'0', '2', '1', '4', '3'}, {'1', '3', '0'}): 0.026497350264973504, Split({'0', '2', '1', '4', '3'}, {'1', '0'}): 0.0463953604639536, Split({'0', '2', '1', '4', '3'}, {'4', '0'}): 0.023297670232976703, Split({'0', '2', '1', '4', '3'}, {'1', '4', '0'}): 0.0217978202179782, Split({'0', '2', '1', '4', '3'}, {'2', '3', '0'}): 0.023497650234976502},\n",
       "  frozenset({'0',\n",
       "             '1',\n",
       "             '2',\n",
       "             '4'}): {Split({'2', '1', '4', '0'}, {'2', '4', '0'}): 0.22716627634660422, Split({'2', '1', '4', '0'}, {'1', '0'}): 0.06791569086651054, Split({'2', '1', '4', '0'}, {'4', '0'}): 0.07962529274004684, Split({'2', '1', '4', '0'}, {'2', '1', '0'}): 0.13348946135831383, Split({'2', '1', '4', '0'}, {'0'}): 0.2459016393442623, Split({'2', '1', '4', '0'}, {'1', '4', '0'}): 0.16159250585480095, Split({'2', '1', '4', '0'}, {'2', '0'}): 0.08430913348946135},\n",
       "  frozenset({'0',\n",
       "             '2',\n",
       "             '4'}): {Split({'2', '4', '0'}, {'4', '0'}): 0.3186119873817035, Split({'2', '4', '0'}, {'0'}): 0.44637223974763407, Split({'2', '4', '0'}, {'2', '0'}): 0.23501577287066247},\n",
       "  frozenset({'0',\n",
       "             '2',\n",
       "             '3',\n",
       "             '4'}): {Split({'2', '4', '3', '0'}, {'4', '3', '0'}): 0.18195896244676732, Split({'2', '4', '3', '0'}, {'2', '0'}): 0.11304684475416182, Split({'2', '4', '3', '0'}, {'3', '0'}): 0.07820363917924894, Split({'2', '4', '3', '0'}, {'0'}): 0.34494773519163763, Split({'2', '4', '3', '0'}, {'4', '0'}): 0.06929926442121565, Split({'2', '4', '3', '0'}, {'2', '4', '0'}): 0.10607820363917925, Split({'2', '4', '3', '0'}, {'2', '3', '0'}): 0.1064653503677894},\n",
       "  frozenset({'0',\n",
       "             '3',\n",
       "             '4'}): {Split({'4', '3', '0'}, {'3', '0'}): 0.20439963336388633, Split({'4', '3', '0'}, {'0'}): 0.6003666361136571, Split({'4', '3', '0'}, {'4', '0'}): 0.19523373052245646},\n",
       "  frozenset({'1',\n",
       "             '2',\n",
       "             '3',\n",
       "             '4'}): {Split({'2', '1', '4', '3'}, {'1'}): 0.3510061919504644, Split({'2', '1', '4', '3'}, {'2', '1'}): 0.1130030959752322, Split({'2', '1', '4', '3'}, {'2', '1', '3'}): 0.09442724458204334, Split({'2', '1', '4', '3'}, {'1', '4', '3'}): 0.20510835913312694, Split({'2', '1', '4', '3'}, {'1', '4'}): 0.07391640866873066, Split({'2', '1', '4', '3'}, {'2', '1', '4'}): 0.08784829721362229, Split({'2', '1', '4', '3'}, {'1', '3'}): 0.07469040247678019},\n",
       "  frozenset({'2',\n",
       "             '3',\n",
       "             '4'}): {Split({'2', '4', '3'}, {'2'}): 0.513262599469496, Split({'2', '4', '3'}, {'2', '3'}): 0.23297966401414677, Split({'2', '4', '3'}, {'2', '4'}): 0.2537577365163572},\n",
       "  frozenset({'1',\n",
       "             '2',\n",
       "             '3'}): {Split({'2', '1', '3'}, {'2', '1'}): 0.2127659574468085, Split({'2', '1', '3'}, {'1'}): 0.4787234042553192, Split({'2', '1', '3'}, {'1', '3'}): 0.30851063829787234},\n",
       "  frozenset({'0',\n",
       "             '1',\n",
       "             '2'}): {Split({'2', '1', '0'}, {'0'}): 0.38927738927738925, Split({'2', '1', '0'}, {'1', '0'}): 0.27972027972027974, Split({'2', '1', '0'}, {'2', '0'}): 0.331002331002331},\n",
       "  frozenset({'0',\n",
       "             '1',\n",
       "             '3',\n",
       "             '4'}): {Split({'1', '4', '3', '0'}, {'1', '0'}): 0.12343297974927676, Split({'1', '4', '3', '0'}, {'1', '3', '0'}): 0.09450337512054002, Split({'1', '4', '3', '0'}, {'1', '4', '0'}): 0.09257473481195758, Split({'1', '4', '3', '0'}, {'4', '3', '0'}): 0.2507232401157184, Split({'1', '4', '3', '0'}, {'0'}): 0.2651880424300868, Split({'1', '4', '3', '0'}, {'3', '0'}): 0.08678881388621022, Split({'1', '4', '3', '0'}, {'4', '0'}): 0.08678881388621022},\n",
       "  frozenset({'1',\n",
       "             '3',\n",
       "             '4'}): {Split({'1', '4', '3'}, {'1'}): 0.5892080069625761, Split({'1', '4', '3'}, {'1', '4'}): 0.2193211488250653, Split({'1', '4', '3'}, {'1', '3'}): 0.19147084421235858},\n",
       "  frozenset({'1',\n",
       "             '2',\n",
       "             '4'}): {Split({'2', '1', '4'}, {'1'}): 0.45499181669394434, Split({'2', '1', '4'}, {'1', '4'}): 0.3011456628477905, Split({'2', '1', '4'}, {'2', '1'}): 0.24386252045826515},\n",
       "  frozenset({'0',\n",
       "             '1',\n",
       "             '3'}): {Split({'1', '3', '0'}, {'3', '0'}): 0.36626506024096384, Split({'1', '3', '0'}, {'1', '0'}): 0.25542168674698795, Split({'1', '3', '0'}, {'0'}): 0.3783132530120482},\n",
       "  frozenset({'0',\n",
       "             '1',\n",
       "             '4'}): {Split({'1', '4', '0'}, {'0'}): 0.391644908616188, Split({'1', '4', '0'}, {'1', '0'}): 0.22715404699738903, Split({'1', '4', '0'}, {'4', '0'}): 0.381201044386423},\n",
       "  frozenset({'0',\n",
       "             '1',\n",
       "             '2',\n",
       "             '3'}): {Split({'2', '1', '3', '0'}, {'1', '0'}): 0.08488063660477453, Split({'2', '1', '3', '0'}, {'2', '3', '0'}): 0.23872679045092837, Split({'2', '1', '3', '0'}, {'0'}): 0.23076923076923078, Split({'2', '1', '3', '0'}, {'1', '3', '0'}): 0.13793103448275862, Split({'2', '1', '3', '0'}, {'2', '0'}): 0.11405835543766578, Split({'2', '1', '3', '0'}, {'3', '0'}): 0.08488063660477453, Split({'2', '1', '3', '0'}, {'2', '1', '0'}): 0.10875331564986737},\n",
       "  frozenset({'0',\n",
       "             '2',\n",
       "             '3'}): {Split({'2', '3', '0'}, {'3', '0'}): 0.34833333333333333, Split({'2', '3', '0'}, {'2', '0'}): 0.25333333333333335, Split({'2', '3', '0'}, {'0'}): 0.3983333333333333}})"
      ]
     },
     "execution_count": 12,
     "metadata": {},
     "output_type": "execute_result"
    }
   ],
   "source": [
    "from tqdm import tqdm_notebook as tqdm\n",
    "\n",
    "from importlib import reload\n",
    "import splits\n",
    "reload(splits)\n",
    "from splits import *\n",
    "\n",
    "def normalise_dict_entries(dict_):\n",
    "    sum_ = sum(dict_.values())\n",
    "    return { key: value/sum_ for key, value in dict_.items() }\n",
    "\n",
    "def convert_tree(clade):\n",
    "    if(len(clade)) == 0:\n",
    "        return clade.name\n",
    "    else:\n",
    "        return TreeNode(*[convert_tree(child) for child in clade])\n",
    "\n",
    "tree_counts = {}\n",
    "\n",
    "for bio_tree in tqdm(trees):\n",
    "    clade = bio_tree.root\n",
    "    tree = convert_tree(clade)\n",
    "    if tree in tree_counts:\n",
    "        tree_counts[tree] += 1\n",
    "    else:\n",
    "        tree_counts[tree] = 1\n",
    "\n",
    "p = normalise_dict_entries(tree_counts)\n",
    "\n",
    "subclade_counts = {}\n",
    "\n",
    "for tree in tqdm(trees):\n",
    "    for clade in tree.find_clades():\n",
    "        taxa = get_taxa(clade)\n",
    "        if len(taxa) > 2:\n",
    "            if taxa not in subclade_counts:\n",
    "                subclade_counts[taxa] = {}\n",
    "            conditional_split = Split(taxa, get_taxa(clade[0]))\n",
    "            if conditional_split not in subclade_counts[taxa]:\n",
    "                subclade_counts[taxa][conditional_split] = 1\n",
    "            else:\n",
    "                subclade_counts[taxa][conditional_split] += 1\n",
    "\n",
    "split_ps = { clade: normalise_dict_entries(subclades) for clade, subclades in subclade_counts.items() }\n",
    "p, split_ps"
   ]
  },
  {
   "cell_type": "markdown",
   "metadata": {},
   "source": [
    "### Marginal posterior"
   ]
  },
  {
   "cell_type": "code",
   "execution_count": 13,
   "metadata": {},
   "outputs": [],
   "source": [
    "import pickle\n",
    "\n",
    "with open('p.pickle', 'wb') as f:\n",
    "    pickle.dump(p, f)"
   ]
  },
  {
   "cell_type": "code",
   "execution_count": 89,
   "metadata": {
    "scrolled": true
   },
   "outputs": [
    {
     "data": {
      "text/plain": [
       "{TreeNode((((0,1),4),3),2): 0.0030902272548770362,\n",
       " TreeNode((((0,2),1),4),3): 0.009605822185884069,\n",
       " TreeNode(0,(((1,2),4),3)): 0.04654826294558873,\n",
       " TreeNode(0,((1,2),(3,4))): 0.029197080291970802,\n",
       " TreeNode(((0,4),(1,2)),3): 0.029197080291970802,\n",
       " TreeNode(0,((1,(2,4)),3)): 0.02112914261182193,\n",
       " TreeNode(0,(1,(2,(3,4)))): 0.00519097026467566,\n",
       " TreeNode((0,(3,4)),(1,2)): 0.012883793205761008,\n",
       " TreeNode(((0,(1,2)),4),3): 0.028214410456296253,\n",
       " TreeNode(((0,2),(1,4)),3): 0.0201979802019798,\n",
       " TreeNode(((0,3),(1,2)),4): 0.012798720127987202,\n",
       " TreeNode(0,(((1,2),3),4)): 0.03122490187882865,\n",
       " TreeNode(0,((1,3),(2,4))): 0.019098090190980903,\n",
       " TreeNode((0,((1,4),2)),3): 0.0226075535682506,\n",
       " TreeNode(0,(((1,4),3),2)): 0.010327281510801457,\n",
       " TreeNode((0,4),((1,2),3)): 0.020266728766635957,\n",
       " TreeNode((((0,2),3),1),4): 0.0035890386864927963,\n",
       " TreeNode(((0,1),(2,4)),3): 0.0178982101789821,\n",
       " TreeNode(0,(1,((2,4),3))): 0.011679683095520236,\n",
       " TreeNode(0,(((1,4),2),3)): 0.02301352534949865,\n",
       " TreeNode(((0,(1,3)),2),4): 0.003759415181197285,\n",
       " TreeNode(((0,(1,4)),2),3): 0.012229376431442028,\n",
       " TreeNode((((0,1),4),2),3): 0.008729095544704205,\n",
       " TreeNode(((0,3),(1,4)),2): 0.0028997100289971005,\n",
       " TreeNode(((0,2),1),(3,4)): 0.0073780889555407425,\n",
       " TreeNode((0,(1,4)),(2,3)): 0.011738416063756401,\n",
       " TreeNode((0,2),((1,3),4)): 0.008401123881065248,\n",
       " TreeNode((((0,3),1),2),4): 0.0021804608050944255,\n",
       " TreeNode(((0,3),(2,4)),1): 0.0031996800319968005,\n",
       " TreeNode((((0,2),4),3),1): 0.003134686531346865,\n",
       " TreeNode((0,(1,(2,4))),3): 0.020756412422418234,\n",
       " TreeNode((((0,4),2),1),3): 0.006965970069659701,\n",
       " TreeNode(((0,3),2),(1,4)): 0.00676799789900528,\n",
       " TreeNode(0,((1,(3,4)),2)): 0.005535125701832436,\n",
       " TreeNode(0,(((1,3),4),2)): 0.00683532301434341,\n",
       " TreeNode((0,4),((1,3),2)): 0.007543893130269219,\n",
       " TreeNode((((0,1),2),3),4): 0.005075569436640203,\n",
       " TreeNode(((0,4),1),(2,3)): 0.006180296796818741,\n",
       " TreeNode((0,4),(1,(2,3))): 0.006585938447060429,\n",
       " TreeNode((0,((1,3),2)),4): 0.006030728519837312,\n",
       " TreeNode(((0,1),(3,4)),2): 0.0033996600339966003,\n",
       " TreeNode((0,3),((1,2),4)): 0.023813003315053108,\n",
       " TreeNode(((0,3),4),(1,2)): 0.00925781547719354,\n",
       " TreeNode(((0,(2,4)),1),3): 0.010953071359530714,\n",
       " TreeNode((((0,4),3),1),2): 0.0018865246342498617,\n",
       " TreeNode((0,1),((2,3),4)): 0.007187579114428983,\n",
       " TreeNode(0,(1,((2,3),4))): 0.007526906883779706,\n",
       " TreeNode((((0,2),1),3),4): 0.005313859081552888,\n",
       " TreeNode((0,1),((2,4),3)): 0.011153140005148422,\n",
       " TreeNode((0,((2,4),3)),1): 0.004164477169304347,\n",
       " TreeNode((((0,1),2),4),3): 0.009175067827772675,\n",
       " TreeNode(((0,1),4),(2,3)): 0.008378657402398562,\n",
       " TreeNode((0,(2,3)),(1,4)): 0.010024298774941784,\n",
       " TreeNode(((0,2),(1,3)),4): 0.008999100089991,\n",
       " TreeNode((0,(1,(3,4))),2): 0.0025603004347683075,\n",
       " TreeNode(((0,1),(2,3)),4): 0.008999100089991,\n",
       " TreeNode((((0,4),1),2),3): 0.006438788297826369,\n",
       " TreeNode(((0,(1,3)),4),2): 0.002702079661485549,\n",
       " TreeNode(((0,1),3),(2,4)): 0.008309351832440777,\n",
       " TreeNode(0,(((1,3),2),4)): 0.011622858601868274,\n",
       " TreeNode(0,((1,4),(2,3))): 0.0192980701929807,\n",
       " TreeNode((0,((1,2),3)),4): 0.0162016000314677,\n",
       " TreeNode((((0,3),2),4),1): 0.0013280599650878286,\n",
       " TreeNode(((0,(1,2)),3),4): 0.015607971741780906,\n",
       " TreeNode(0,((1,(2,3)),4)): 0.01014694004925008,\n",
       " TreeNode((0,2),(1,(3,4))): 0.006803084012384359,\n",
       " TreeNode((0,2),((1,4),3)): 0.012693002385522496,\n",
       " TreeNode(((0,(2,3)),4),1): 0.0019670322124414065,\n",
       " TreeNode(((0,4),(2,3)),1): 0.004299570042995701,\n",
       " TreeNode((((0,2),3),4),1): 0.0019043878744655655,\n",
       " TreeNode(((0,2),4),(1,3)): 0.008185014831850149,\n",
       " TreeNode(((0,(2,3)),1),4): 0.0037070991696011124,\n",
       " TreeNode(((0,(1,4)),3),2): 0.004329377787773273,\n",
       " TreeNode((0,1),(2,(3,4))): 0.004956951113399299,\n",
       " TreeNode((((0,2),4),1),3): 0.009578208845782088,\n",
       " TreeNode((0,3),(1,(2,4))): 0.010809175492707138,\n",
       " TreeNode(((0,4),2),(1,3)): 0.005952738059527381,\n",
       " TreeNode(((0,3),1),(2,4)): 0.004951463078235257,\n",
       " TreeNode((0,((1,2),4)),3): 0.04572712490024207,\n",
       " TreeNode((0,(1,2)),(3,4)): 0.02167106845685734,\n",
       " TreeNode(((0,4),3),(1,2)): 0.010955081648012356,\n",
       " TreeNode(((0,2),(3,4)),1): 0.0031996800319968005,\n",
       " TreeNode((0,((1,4),3)),2): 0.00477693638164825,\n",
       " TreeNode(((0,1),2),(3,4)): 0.007047232948565822,\n",
       " TreeNode((0,(2,4)),(1,3)): 0.009359897343598973,\n",
       " TreeNode((0,((2,3),4)),1): 0.0026837741757739122,\n",
       " TreeNode((0,(1,3)),(2,4)): 0.008537005307302168,\n",
       " TreeNode((0,3),((1,4),2)): 0.011773181656193354,\n",
       " TreeNode((0,(2,(3,4))),1): 0.001850878741913043,\n",
       " TreeNode((((0,3),2),1),4): 0.002502882241896292,\n",
       " TreeNode((0,((1,3),4)),2): 0.0031617132885729425,\n",
       " TreeNode((0,(1,(2,3))),4): 0.0052649217236674945,\n",
       " TreeNode(((0,2),3),(1,4)): 0.00970505359102644,\n",
       " TreeNode((((0,1),3),2),4): 0.0036591641096986914,\n",
       " TreeNode(((0,4),(1,3)),2): 0.0035996400359964,\n",
       " TreeNode((((0,1),3),4),2): 0.0026300242038459344,\n",
       " TreeNode((((0,3),4),2),1): 0.0011467384730058463,\n",
       " TreeNode((((0,4),2),3),1): 0.0022797720227977205,\n",
       " TreeNode(((0,(2,4)),3),1): 0.003584641535846415,\n",
       " TreeNode((((0,4),1),3),2): 0.002279425054339992,\n",
       " TreeNode(((0,(3,4)),1),2): 0.0022186592529558234,\n",
       " TreeNode(((0,(3,4)),2),1): 0.0015958777082664694,\n",
       " TreeNode((((0,3),4),1),2): 0.0015942461697886158,\n",
       " TreeNode((((0,4),3),2),1): 0.0013569738597235849,\n",
       " TreeNode((((0,3),1),4),2): 0.0015672062036616182}"
      ]
     },
     "execution_count": 89,
     "metadata": {},
     "output_type": "execute_result"
    }
   ],
   "source": [
    "p_approxs = { tree: tree_split_p(tree, split_ps) for tree in p.keys() }\n",
    "p_approxs"
   ]
  },
  {
   "cell_type": "code",
   "execution_count": 90,
   "metadata": {},
   "outputs": [
    {
     "data": {
      "text/plain": [
       "1.0000000000000002"
      ]
     },
     "execution_count": 90,
     "metadata": {},
     "output_type": "execute_result"
    }
   ],
   "source": [
    "sum(p_approxs.values())"
   ]
  },
  {
   "cell_type": "code",
   "execution_count": 91,
   "metadata": {
    "collapsed": true
   },
   "outputs": [
    {
     "data": {
      "text/plain": [
       "<matplotlib.collections.PathCollection at 0x10e616b00>"
      ]
     },
     "execution_count": 91,
     "metadata": {},
     "output_type": "execute_result"
    },
    {
     "data": {
      "image/png": "[encoded data removed]",
      "text/plain": [
       "<Figure size 432x288 with 1 Axes>"
      ]
     },
     "metadata": {},
     "output_type": "display_data"
    }
   ],
   "source": [
    "p_list, p_approx_list = zip(*[(p[tree], p_approxs[tree]) for tree in p.keys()])\n",
    "plt.scatter(p_list, p_approx_list)"
   ]
  },
  {
   "cell_type": "code",
   "execution_count": 112,
   "metadata": {},
   "outputs": [
    {
     "data": {
      "text/plain": [
       "(TreeNode(0,(((1,2),4),3)),\n",
       " [(Split({'4', '0', '3', '2', '1'}, {'0'}), array(0.18015835)),\n",
       "  (Split({'2', '3', '1', '4'}, {'2', '1', '4'}), array(0.13261379)),\n",
       "  (Split({'2', '1', '4'}, {'2', '1'}), array(0.09069093))])"
      ]
     },
     "execution_count": 112,
     "metadata": {},
     "output_type": "execute_result"
    }
   ],
   "source": [
    "import autograd\n",
    "\n",
    "tree = list(p.keys())[2]\n",
    "\n",
    "def nonzero_splits(dict_):\n",
    "    return [(split, val) for clade_splits in dict_.values() for split, val in clade_splits.items() if val > 0]\n",
    "\n",
    "split_p_grad = autograd.grad(tree_split_p, argnum=1)\n",
    "grad_dict = split_p_grad(tree, split_ps)\n",
    "tree, nonzero_splits(grad_dict)"
   ]
  },
  {
   "cell_type": "code",
   "execution_count": 121,
   "metadata": {},
   "outputs": [
    {
     "data": {
      "text/plain": [
       "0.0012321255861456"
      ]
     },
     "execution_count": 121,
     "metadata": {},
     "output_type": "execute_result"
    }
   ],
   "source": [
    "from autograd.numpy import log\n",
    "\n",
    "trees = list(p.keys())\n",
    "\n",
    "# Assume p contains all trees\n",
    "def kl(p, split_ps):\n",
    "    def tree_term(p, p_approx):\n",
    "        return p_approx*(log(p_approx) - log(p)) if p_approx > 0 else 0\n",
    "    return sum([tree_term(p[tree], tree_split_p(tree, split_ps)) for tree in p])\n",
    "kl(p, split_ps)"
   ]
  },
  {
   "cell_type": "code",
   "execution_count": 122,
   "metadata": {
    "scrolled": true
   },
   "outputs": [
    {
     "data": {
      "text/plain": [
       "{frozenset({'0',\n",
       "            '1',\n",
       "            '2',\n",
       "            '3',\n",
       "            '4'}): {Split({'4', '3', '0', '2', '1'}, {'4', '3', '0', '1'}): array(1.0048067), Split({'4', '0', '3', '2', '1'}, {'2', '0', '1', '4'}): array(1.00021371), Split({'4', '0', '3', '2', '1'}, {'0'}): array(1.00022839), Split({'4', '3', '0', '2', '1'}, {'4', '3', '0'}): array(1.00026458), Split({'4', '3', '0', '2', '1'}, {'2', '3', '0', '1'}): array(1.00120628), Split({'4', '0', '3', '2', '1'}, {'4', '0'}): array(1.00148878), Split({'4', '0', '3', '2', '1'}, {'2', '0', '1'}): array(1.00155873), Split({'4', '0', '3', '2', '1'}, {'4', '0', '1'}): array(1.00006004), Split({'4', '0', '3', '2', '1'}, {'2', '0'}): array(1.00015336), Split({'4', '3', '0', '2', '1'}, {'2', '3', '0', '4'}): array(1.01387184), Split({'4', '3', '0', '2', '1'}, {'2', '3', '0'}): array(1.00010816), Split({'4', '3', '0', '2', '1'}, {'3', '0'}): array(1.00036824), Split({'4', '0', '3', '2', '1'}, {'0', '1'}): array(1.00178891), Split({'4', '3', '0', '2', '1'}, {'3', '0', '1'}): array(1.00051247), Split({'4', '0', '3', '2', '1'}, {'2', '0', '4'}): array(1.002971)},\n",
       " frozenset({'0',\n",
       "            '1',\n",
       "            '3',\n",
       "            '4'}): {Split({'4', '3', '0', '1'}, {'4', '0', '1'}): array(0.04297261), Split({'4', '3', '0', '1'}, {'3', '0'}): array(0.04269573), Split({'4', '3', '0', '1'}, {'0', '1'}): array(0.04269573), Split({'4', '3', '0', '1'}, {'4', '3', '0'}): array(0.04305191), Split({'4', '3', '0', '1'}, {'0'}): array(0.04276367), Split({'4', '3', '0', '1'}, {'3', '0', '1'}): array(0.04317889), Split({'4', '3', '0', '1'}, {'4', '0'}): array(0.04269573)},\n",
       " frozenset({'0',\n",
       "            '1',\n",
       "            '4'}): {Split({'4', '0', '1'}, {'0', '1'}): array(0.0635481), Split({'4', '0', '1'}, {'0'}): array(0.06341453), Split({'4', '0', '1'}, {'4', '0'}): array(0.06348641)},\n",
       " frozenset({'0',\n",
       "            '1',\n",
       "            '2',\n",
       "            '4'}): {Split({'2', '0', '1', '4'}, {'2', '0', '1'}): array(0.25836902), Split({'4', '2', '0', '1'}, {'4', '0'}): array(0.25827417), Split({'2', '0', '1', '4'}, {'2', '0'}): array(0.25827417), Split({'4', '2', '0', '1'}, {'0'}): array(0.25833029), Split({'2', '0', '1', '4'}, {'0', '1'}): array(0.25827417), Split({'4', '2', '0', '1'}, {'4', '0', '1'}): array(0.25842351), Split({'4', '2', '0', '1'}, {'4', '2', '0'}): array(0.25829989)},\n",
       " frozenset({'0',\n",
       "            '1',\n",
       "            '2'}): {Split({'2', '0', '1'}, {'2', '0'}): array(0.10934055), Split({'2', '0', '1'}, {'0'}): array(0.1090969), Split({'2', '0', '1'}, {'0', '1'}): array(0.10929435)},\n",
       " frozenset({'1',\n",
       "            '2',\n",
       "            '3',\n",
       "            '4'}): {Split({'2', '3', '1', '4'}, {'2', '1', '4'}): array(0.25849028), Split({'2', '3', '1', '4'}, {'2', '1'}): array(0.25837416), Split({'2', '3', '1', '4'}, {'1'}): array(0.25838662), Split({'2', '3', '1', '4'}, {'2', '3', '1'}): array(0.25838027), Split({'2', '3', '1', '4'}, {'3', '1'}): array(0.25837416), Split({'4', '3', '2', '1'}, {'4', '3', '1'}): array(0.2585543), Split({'4', '3', '2', '1'}, {'4', '1'}): array(0.25837416)},\n",
       " frozenset({'1',\n",
       "            '2',\n",
       "            '4'}): {Split({'2', '1', '4'}, {'2', '1'}): array(0.22620912), Split({'2', '1', '4'}, {'1'}): array(0.22639714), Split({'4', '2', '1'}, {'4', '1'}): array(0.22621565)},\n",
       " frozenset({'2', '3', '4'}): {Split({'2', '3', '4'}, {'2'}): array(0.0566654),\n",
       "  Split({'2', '3', '4'}, {'2', '4'}): array(0.05652802),\n",
       "  Split({'2', '3', '4'}, {'2', '3'}): array(0.05645784)},\n",
       " frozenset({'0', '3', '4'}): {Split({'4', '3', '0'}, {'0'}): array(0.04319428),\n",
       "  Split({'4', '3', '0'}, {'3', '0'}): array(0.04304418),\n",
       "  Split({'4', '3', '0'}, {'4', '0'}): array(0.04302602)},\n",
       " frozenset({'0',\n",
       "            '1',\n",
       "            '2',\n",
       "            '3'}): {Split({'2', '3', '0', '1'}, {'3', '0'}): array(0.10368963), Split({'2', '3', '0', '1'}, {'2', '3', '0'}): array(0.1040173), Split({'2', '3', '0', '1'}, {'3', '0', '1'}): array(0.1038452), Split({'2', '3', '0', '1'}, {'2', '0', '1'}): array(0.10377991), Split({'2', '3', '0', '1'}, {'0'}): array(0.10390486), Split({'2', '3', '0', '1'}, {'2', '0'}): array(0.10368963), Split({'2', '3', '0', '1'}, {'0', '1'}): array(0.10368963)},\n",
       " frozenset({'1',\n",
       "            '2',\n",
       "            '3'}): {Split({'2', '3', '1'}, {'2', '1'}): array(0.1149329), Split({'2', '3', '1'}, {'3', '1'}): array(0.11489424), Split({'2', '3', '1'}, {'1'}): array(0.11531743)},\n",
       " frozenset({'1',\n",
       "            '3',\n",
       "            '4'}): {Split({'4', '3', '1'}, {'4', '1'}): array(0.06110113), Split({'4', '3', '1'}, {'3', '1'}): array(0.06114857), Split({'4', '3', '1'}, {'1'}): array(0.0611638)},\n",
       " frozenset({'0',\n",
       "            '2',\n",
       "            '3'}): {Split({'2', '3', '0'}, {'2', '0'}): array(0.04150526), Split({'2', '3', '0'}, {'3', '0'}): array(0.04184897), Split({'2', '3', '0'}, {'0'}): array(0.04162929)},\n",
       " frozenset({'0', '1', '3'}): {Split({'3', '0', '1'}, {'0'}): array(0.03838302),\n",
       "  Split({'3', '0', '1'}, {'3', '0'}): array(0.03857678),\n",
       "  Split({'3', '0', '1'}, {'0', '1'}): array(0.03831163)},\n",
       " frozenset({'0',\n",
       "            '2',\n",
       "            '3',\n",
       "            '4'}): {Split({'2', '3', '0', '4'}, {'3', '0'}): array(0.03769623), Split({'2', '3', '0', '4'}, {'2', '0', '4'}): array(0.0384069), Split({'2', '3', '0', '4'}, {'0'}): array(0.03812255), Split({'2', '3', '0', '4'}, {'2', '3', '0'}): array(0.03849586), Split({'4', '3', '2', '0'}, {'4', '0'}): array(0.03769623), Split({'2', '3', '0', '4'}, {'2', '0'}): array(0.03769623), Split({'4', '3', '2', '0'}, {'4', '3', '0'}): array(0.03902571)},\n",
       " frozenset({'0',\n",
       "            '2',\n",
       "            '4'}): {Split({'2', '0', '4'}, {'2', '0'}): array(0.06000734), Split({'4', '2', '0'}, {'4', '0'}): array(0.06057212), Split({'2', '0', '4'}, {'0'}): array(0.0602227)}}"
      ]
     },
     "execution_count": 122,
     "metadata": {},
     "output_type": "execute_result"
    }
   ],
   "source": [
    "autograd.grad(kl, argnum=1)(p, split_ps)"
   ]
  },
  {
   "cell_type": "code",
   "execution_count": 125,
   "metadata": {},
   "outputs": [],
   "source": [
    "with open('split_ps.pickle', 'wb') as f:\n",
    "    pickle.dump(split_ps, f)"
   ]
  }
 ],
 "metadata": {
  "kernelspec": {
   "display_name": "Python 3",
   "language": "python",
   "name": "python3"
  },
  "language_info": {
   "codemirror_mode": {
    "name": "ipython",
    "version": 3
   },
   "file_extension": ".py",
   "mimetype": "text/x-python",
   "name": "python",
   "nbconvert_exporter": "python",
   "pygments_lexer": "ipython3",
   "version": "3.6.5"
  }
 },
 "nbformat": 4,
 "nbformat_minor": 2
}
