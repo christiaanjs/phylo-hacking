{
 "cells": [
  {
   "cell_type": "code",
   "execution_count": 22,
   "metadata": {},
   "outputs": [],
   "source": [
    "%matplotlib inline"
   ]
  },
  {
   "cell_type": "markdown",
   "metadata": {},
   "source": [
    "# Conditional clade probability summaries"
   ]
  },
  {
   "cell_type": "markdown",
   "metadata": {},
   "source": [
    "## Edit primates data to five taxa\n",
    "Five taxa is the smallest where we actually have to make the conditional independence assumption; we might observe a clade of greater than size 2 as the child of different parents."
   ]
  },
  {
   "cell_type": "code",
   "execution_count": 23,
   "metadata": {},
   "outputs": [
    {
     "data": {
      "text/plain": [
       "<Bio.Nexus.Nexus.Nexus at 0x7f9da09f1a20>"
      ]
     },
     "execution_count": 23,
     "metadata": {},
     "output_type": "execute_result"
    }
   ],
   "source": [
    "from Bio.Nexus.Nexus import Nexus\n",
    "\n",
    "nexus = Nexus()\n",
    "nexus.read('../data/Influenza.nexus')\n",
    "nexus"
   ]
  },
  {
   "cell_type": "code",
   "execution_count": 24,
   "metadata": {},
   "outputs": [
    {
     "data": {
      "text/plain": [
       "['CY068129_A_California_VRDL396_2009_2009/04/28',\n",
       " 'CY068870_A_California_VRDL392_2009_2009/04/28',\n",
       " 'CY068686_A_California_VRDL181_2009_2009/04/28',\n",
       " 'CY068137_A_California_VRDL159_2009_2009/04/28',\n",
       " 'CY068217_A_California_VRDL173_2009_2009/04/28',\n",
       " 'CY068702_A_California_VRDL184_2009_2009/04/28',\n",
       " 'CY068742_A_California_VRDL199_2009_2009/04/28',\n",
       " 'CY068766_A_California_VRDL204_2009_2009/04/28',\n",
       " 'CY068718_A_California_VRDL187_2009_2009/04/28',\n",
       " 'CY068209_A_California_VRDL172_2009_2009/04/28',\n",
       " 'CY064879_A_California_VRDL147_2009_2009/04/28',\n",
       " 'CY068678_A_California_VRDL178_2009_2009/04/28',\n",
       " 'CY068233_A_California_VRDL211_2009_2009/04/28',\n",
       " 'CY068734_A_California_VRDL198_2009_2009/04/28',\n",
       " 'CY068633_A_California_VRDL394_2009_2009/04/28',\n",
       " 'CY068153_A_California_VRDL161_2009_2009/04/28',\n",
       " 'CY068161_A_California_VRDL164_2009_2009/04/28',\n",
       " 'CY067221_A_California_VRDL302_2009_2009/04/28',\n",
       " 'CY068758_A_California_VRDL203_2009_2009/04/28',\n",
       " 'CY092329_A_California_VRDL182_2009_2009/04/28',\n",
       " 'CY067929_A_California_VRDL177_2009_2009/04/28',\n",
       " 'CY066519_A_California_VRDL156_2009_2009/04/28',\n",
       " 'CY068177_A_California_VRDL166_2009_2009/04/28',\n",
       " 'CY068193_A_California_VRDL169_2009_2009/04/28',\n",
       " 'CY068145_A_California_VRDL160_2009_2009/04/28',\n",
       " 'CY068201_A_California_VRDL170_2009_2009/04/28',\n",
       " 'CY068798_A_California_VRDL210_2009_2009/04/28',\n",
       " 'CY068862_A_California_VRDL391_2009_2009/04/28',\n",
       " 'CY068249_A_California_VRDL216_2009_2009/04/28']"
      ]
     },
     "execution_count": 24,
     "metadata": {},
     "output_type": "execute_result"
    }
   ],
   "source": [
    "nexus.taxlabels"
   ]
  },
  {
   "cell_type": "code",
   "execution_count": 80,
   "metadata": {},
   "outputs": [
    {
     "data": {
      "text/plain": [
       "'../data/Influenza-short.nex'"
      ]
     },
     "execution_count": 80,
     "metadata": {},
     "output_type": "execute_result"
    }
   ],
   "source": [
    "# TODO: Return all with 5 taxa\n",
    "nexus.write_nexus_data('../data/Influenza-short.nex', delete=nexus.taxlabels[5:])"
   ]
  },
  {
   "cell_type": "markdown",
   "metadata": {},
   "source": [
    "## Data structures for conditional clades"
   ]
  },
  {
   "cell_type": "code",
   "execution_count": 26,
   "metadata": {},
   "outputs": [],
   "source": [
    "from splits import Split"
   ]
  },
  {
   "cell_type": "markdown",
   "metadata": {},
   "source": [
    "## Processing MCMC output"
   ]
  },
  {
   "cell_type": "code",
   "execution_count": 27,
   "metadata": {
    "scrolled": true
   },
   "outputs": [
    {
     "data": {
      "text/plain": [
       "10001"
      ]
     },
     "execution_count": 27,
     "metadata": {},
     "output_type": "execute_result"
    }
   ],
   "source": [
    "from Bio import Phylo\n",
    "trees = list(Phylo.parse('../data/Influenza-short.trees', format='nexus'))\n",
    "len(trees)"
   ]
  },
  {
   "cell_type": "code",
   "execution_count": 28,
   "metadata": {},
   "outputs": [
    {
     "data": {
      "image/png": "[encoded data removed]",
      "text/plain": [
       "<matplotlib.figure.Figure at 0x7f9da05daa58>"
      ]
     },
     "metadata": {},
     "output_type": "display_data"
    }
   ],
   "source": [
    "tree = trees[1]\n",
    "Phylo.draw(tree)"
   ]
  },
  {
   "cell_type": "code",
   "execution_count": 29,
   "metadata": {},
   "outputs": [
    {
     "data": {
      "text/plain": [
       "(0.0016604658705306958,\n",
       " frozenset({'CY068129_A_California_VRDL396_2009_2009/04/28'}))"
      ]
     },
     "execution_count": 29,
     "metadata": {},
     "output_type": "execute_result"
    }
   ],
   "source": [
    "def get_taxa(clade):\n",
    "    return frozenset([leaf.name for leaf in clade.get_terminals()])\n",
    "clade = list(tree.find_clades())[2]\n",
    "clade.branch_length, get_taxa(clade)"
   ]
  },
  {
   "cell_type": "code",
   "execution_count": 30,
   "metadata": {},
   "outputs": [
    {
     "data": {
      "text/plain": [
       "{'CY068129_A_California_VRDL396_2009_2009/04/28': '0',\n",
       " 'CY068137_A_California_VRDL159_2009_2009/04/28': '2',\n",
       " 'CY068686_A_California_VRDL181_2009_2009/04/28': '3',\n",
       " 'CY068870_A_California_VRDL392_2009_2009/04/28': '1'}"
      ]
     },
     "execution_count": 30,
     "metadata": {},
     "output_type": "execute_result"
    }
   ],
   "source": [
    "all_taxa = list(get_taxa(tree.root))\n",
    "name_mapping = { name: str(i) for i, name in enumerate(all_taxa)}\n",
    "name_mapping"
   ]
  },
  {
   "cell_type": "code",
   "execution_count": 31,
   "metadata": {},
   "outputs": [
    {
     "data": {
      "text/plain": [
       "[Clade(branch_length=0.0),\n",
       " Clade(branch_length=0.001610199693661754),\n",
       " Clade(branch_length=0.002607478011988455, name='0'),\n",
       " Clade(branch_length=0.0011313513390237963),\n",
       " Clade(branch_length=0.0014761266729646585, name='2'),\n",
       " Clade(branch_length=0.0014761266729646585, name='3'),\n",
       " Clade(branch_length=0.004217677705650209, name='1')]"
      ]
     },
     "execution_count": 31,
     "metadata": {},
     "output_type": "execute_result"
    }
   ],
   "source": [
    "for tree in trees:\n",
    "    for clade in tree.find_clades():\n",
    "        if clade.name is not None:\n",
    "            clade.name = name_mapping[clade.name]\n",
    "\n",
    "list(tree.find_clades())"
   ]
  },
  {
   "cell_type": "code",
   "execution_count": 47,
   "metadata": {},
   "outputs": [
    {
     "data": {
      "image/png": "[encoded data removed]",
      "text/plain": [
       "<matplotlib.figure.Figure at 0x7f9d968905c0>"
      ]
     },
     "metadata": {},
     "output_type": "display_data"
    }
   ],
   "source": [
    "Phylo.draw(tree)"
   ]
  },
  {
   "cell_type": "markdown",
   "metadata": {},
   "source": [
    "### Marginal posterior"
   ]
  },
  {
   "cell_type": "code",
   "execution_count": 33,
   "metadata": {},
   "outputs": [],
   "source": [
    "bio_tree = tree"
   ]
  },
  {
   "cell_type": "code",
   "execution_count": 38,
   "metadata": {},
   "outputs": [
    {
     "data": {
      "text/plain": [
       "2"
      ]
     },
     "execution_count": 38,
     "metadata": {},
     "output_type": "execute_result"
    }
   ],
   "source": [
    "len(bio_tree.root)"
   ]
  },
  {
   "cell_type": "code",
   "execution_count": 43,
   "metadata": {},
   "outputs": [
    {
     "data": {
      "text/plain": [
       "[Clade(branch_length=0.001610199693661754),\n",
       " Clade(branch_length=0.002607478011988455, name='0')]"
      ]
     },
     "execution_count": 43,
     "metadata": {},
     "output_type": "execute_result"
    }
   ],
   "source": [
    "bio_tree.get_path(bio_tree.get_terminals()[0])"
   ]
  },
  {
   "cell_type": "code",
   "execution_count": 39,
   "metadata": {},
   "outputs": [
    {
     "data": {
      "text/plain": [
       "0"
      ]
     },
     "execution_count": 39,
     "metadata": {},
     "output_type": "execute_result"
    }
   ],
   "source": [
    "len(bio_tree.get_terminals()[0])"
   ]
  },
  {
   "cell_type": "code",
   "execution_count": 45,
   "metadata": {},
   "outputs": [
    {
     "data": {
      "text/plain": [
       "<module 'splits' from '/mnt/c/chris/git/phylo-hacking/cc/splits.py'>"
      ]
     },
     "execution_count": 45,
     "metadata": {},
     "output_type": "execute_result"
    }
   ],
   "source": [
    "from importlib import reload\n",
    "import splits\n",
    "reload(splits)"
   ]
  },
  {
   "cell_type": "code",
   "execution_count": 46,
   "metadata": {},
   "outputs": [
    {
     "data": {
      "text/plain": [
       "TreeNode((0,(2,3)),1)"
      ]
     },
     "execution_count": 46,
     "metadata": {},
     "output_type": "execute_result"
    }
   ],
   "source": [
    "from splits import TreeNode\n",
    "\n",
    "def convert_tree(clade):\n",
    "    if(len(clade)) == 0:\n",
    "        return clade.name\n",
    "    else:\n",
    "        return TreeNode(*[convert_tree(child) for child in clade])\n",
    "\n",
    "convert_tree(bio_tree.root)"
   ]
  },
  {
   "cell_type": "code",
   "execution_count": 53,
   "metadata": {},
   "outputs": [
    {
     "data": {
      "application/vnd.jupyter.widget-view+json": {
       "model_id": "4db0b7be2d01458eb52a380de3398dea",
       "version_major": 2,
       "version_minor": 0
      },
      "text/html": [
       "<p>Failed to display Jupyter Widget of type <code>HBox</code>.</p>\n",
       "<p>\n",
       "  If you're reading this message in the Jupyter Notebook or JupyterLab Notebook, it may mean\n",
       "  that the widgets JavaScript is still loading. If this message persists, it\n",
       "  likely means that the widgets JavaScript library is either not installed or\n",
       "  not enabled. See the <a href=\"https://ipywidgets.readthedocs.io/en/stable/user_install.html\">Jupyter\n",
       "  Widgets Documentation</a> for setup instructions.\n",
       "</p>\n",
       "<p>\n",
       "  If you're reading this message in another frontend (for example, a static\n",
       "  rendering on GitHub or <a href=\"https://nbviewer.jupyter.org/\">NBViewer</a>),\n",
       "  it may mean that your frontend doesn't currently support widgets.\n",
       "</p>\n"
      ],
      "text/plain": [
       "HBox(children=(IntProgress(value=0, max=10001), HTML(value='')))"
      ]
     },
     "metadata": {},
     "output_type": "display_data"
    },
    {
     "name": "stdout",
     "output_type": "stream",
     "text": [
      "\n"
     ]
    },
    {
     "data": {
      "text/plain": [
       "{TreeNode(((0,1),2),3): 152,\n",
       " TreeNode(((0,1),3),2): 73,\n",
       " TreeNode(((0,2),1),3): 330,\n",
       " TreeNode(((0,2),3),1): 1001,\n",
       " TreeNode(((0,3),1),2): 101,\n",
       " TreeNode(((0,3),2),1): 603,\n",
       " TreeNode((0,(1,2)),3): 328,\n",
       " TreeNode((0,(1,3)),2): 118,\n",
       " TreeNode((0,(2,3)),1): 2326,\n",
       " TreeNode((0,1),(2,3)): 521,\n",
       " TreeNode((0,2),(1,3)): 284,\n",
       " TreeNode((0,3),(1,2)): 245,\n",
       " TreeNode(0,((1,2),3)): 1000,\n",
       " TreeNode(0,((1,3),2)): 649,\n",
       " TreeNode(0,(1,(2,3))): 2270}"
      ]
     },
     "execution_count": 53,
     "metadata": {},
     "output_type": "execute_result"
    }
   ],
   "source": [
    "from tqdm import tqdm_notebook as tqdm\n",
    "\n",
    "tree_counts = {}\n",
    "\n",
    "for bio_tree in tqdm(trees):\n",
    "    clade = bio_tree.root\n",
    "    tree = convert_tree(clade)\n",
    "    if tree in tree_counts:\n",
    "        tree_counts[tree] += 1\n",
    "    else:\n",
    "        tree_counts[tree] = 1\n",
    "\n",
    "tree_counts"
   ]
  },
  {
   "cell_type": "code",
   "execution_count": 55,
   "metadata": {},
   "outputs": [
    {
     "data": {
      "text/plain": [
       "{TreeNode(((0,1),2),3): 0.015198480151984802,\n",
       " TreeNode(((0,1),3),2): 0.0072992700729927005,\n",
       " TreeNode(((0,2),1),3): 0.032996700329967,\n",
       " TreeNode(((0,2),3),1): 0.10008999100089991,\n",
       " TreeNode(((0,3),1),2): 0.0100989901009899,\n",
       " TreeNode(((0,3),2),1): 0.06029397060293971,\n",
       " TreeNode((0,(1,2)),3): 0.0327967203279672,\n",
       " TreeNode((0,(1,3)),2): 0.0117988201179882,\n",
       " TreeNode((0,(2,3)),1): 0.23257674232576742,\n",
       " TreeNode((0,1),(2,3)): 0.052094790520947905,\n",
       " TreeNode((0,2),(1,3)): 0.028397160283971604,\n",
       " TreeNode((0,3),(1,2)): 0.0244975502449755,\n",
       " TreeNode(0,((1,2),3)): 0.0999900009999,\n",
       " TreeNode(0,((1,3),2)): 0.0648935106489351,\n",
       " TreeNode(0,(1,(2,3))): 0.22697730226977303}"
      ]
     },
     "execution_count": 55,
     "metadata": {},
     "output_type": "execute_result"
    }
   ],
   "source": [
    "def normalise_dict_entries(dict_):\n",
    "    sum_ = sum(dict_.values())\n",
    "    return { key: value/sum_ for key, value in dict_.items() }\n",
    "\n",
    "p = normalise_dict_entries(tree_counts)\n",
    "p"
   ]
  },
  {
   "cell_type": "code",
   "execution_count": 56,
   "metadata": {},
   "outputs": [],
   "source": [
    "import pickle\n",
    "\n",
    "with open('p.pickle', 'wb') as f:\n",
    "    pickle.dump(p, f)"
   ]
  },
  {
   "cell_type": "markdown",
   "metadata": {},
   "source": [
    "### Conditional clade summary"
   ]
  },
  {
   "cell_type": "code",
   "execution_count": 68,
   "metadata": {},
   "outputs": [
    {
     "data": {
      "application/vnd.jupyter.widget-view+json": {
       "model_id": "8ffadc4ee6b3409f8465afa57bd93891",
       "version_major": 2,
       "version_minor": 0
      },
      "text/html": [
       "<p>Failed to display Jupyter Widget of type <code>HBox</code>.</p>\n",
       "<p>\n",
       "  If you're reading this message in the Jupyter Notebook or JupyterLab Notebook, it may mean\n",
       "  that the widgets JavaScript is still loading. If this message persists, it\n",
       "  likely means that the widgets JavaScript library is either not installed or\n",
       "  not enabled. See the <a href=\"https://ipywidgets.readthedocs.io/en/stable/user_install.html\">Jupyter\n",
       "  Widgets Documentation</a> for setup instructions.\n",
       "</p>\n",
       "<p>\n",
       "  If you're reading this message in another frontend (for example, a static\n",
       "  rendering on GitHub or <a href=\"https://nbviewer.jupyter.org/\">NBViewer</a>),\n",
       "  it may mean that your frontend doesn't currently support widgets.\n",
       "</p>\n"
      ],
      "text/plain": [
       "HBox(children=(IntProgress(value=0, max=10001), HTML(value='')))"
      ]
     },
     "metadata": {},
     "output_type": "display_data"
    },
    {
     "name": "stdout",
     "output_type": "stream",
     "text": [
      "\n"
     ]
    },
    {
     "data": {
      "text/plain": [
       "{frozenset({'1', '2', '3'}): {Split({'2', '3', '1'}, {'2', '1'}): 1000,\n",
       "  Split({'2', '1', '3'}, {'1', '3'}): 649,\n",
       "  Split({'2', '1', '3'}, {'1'}): 2270},\n",
       " frozenset({'0', '1', '2'}): {Split({'2', '1', '0'}, {'1', '0'}): 152,\n",
       "  Split({'2', '0', '1'}, {'2', '0'}): 330,\n",
       "  Split({'2', '0', '1'}, {'0'}): 328},\n",
       " frozenset({'0', '2', '3'}): {Split({'3', '2', '0'}, {'2', '0'}): 1001,\n",
       "  Split({'3', '2', '0'}, {'3', '0'}): 603,\n",
       "  Split({'3', '2', '0'}, {'0'}): 2326},\n",
       " frozenset({'0', '1', '3'}): {Split({'3', '1', '0'}, {'1', '0'}): 73,\n",
       "  Split({'3', '1', '0'}, {'3', '0'}): 101,\n",
       "  Split({'3', '1', '0'}, {'0'}): 118},\n",
       " frozenset({'0',\n",
       "            '1',\n",
       "            '2',\n",
       "            '3'}): {Split({'3', '2', '0', '1'}, {'2', '0', '1'}): 810, Split({'3', '2', '1', '0'}, {'3', '1', '0'}): 292, Split({'3', '2', '1', '0'}, {'1', '0'}): 521, Split({'3', '2', '0', '1'}, {'3', '2', '0'}): 3930, Split({'3', '2', '0', '1'}, {'2', '0'}): 284, Split({'3', '2', '0', '1'}, {'3', '0'}): 245, Split({'3', '2', '0', '1'}, {'0'}): 3919}}"
      ]
     },
     "execution_count": 68,
     "metadata": {},
     "output_type": "execute_result"
    }
   ],
   "source": [
    "from splits import Split\n",
    "\n",
    "subclade_counts = {}\n",
    "\n",
    "for tree in tqdm(trees):\n",
    "    for clade in tree.find_clades():\n",
    "        taxa = get_taxa(clade)\n",
    "        if len(taxa) > 2:\n",
    "            if taxa not in subclade_counts:\n",
    "                subclade_counts[taxa] = {}\n",
    "            conditional_split = Split(taxa, get_taxa(clade[0]))\n",
    "            if conditional_split not in subclade_counts[taxa]:\n",
    "                subclade_counts[taxa][conditional_split] = 1\n",
    "            else:\n",
    "                subclade_counts[taxa][conditional_split] += 1\n",
    "subclade_counts"
   ]
  },
  {
   "cell_type": "code",
   "execution_count": 61,
   "metadata": {},
   "outputs": [
    {
     "data": {
      "text/plain": [
       "{frozenset({'1',\n",
       "            '2',\n",
       "            '3'}): {Split({'2', '3', '1'}, {'2', '1'}): 0.25516713447307987, Split({'2', '1', '3'}, {'1', '3'}): 0.16560347027302882, Split({'2', '1', '3'}, {'1'}): 0.5792293952538913},\n",
       " frozenset({'0',\n",
       "            '1',\n",
       "            '2'}): {Split({'2', '1', '0'}, {'1', '0'}): 0.18765432098765433, Split({'2', '0', '1'}, {'2', '0'}): 0.4074074074074074, Split({'2', '0', '1'}, {'0'}): 0.4049382716049383},\n",
       " frozenset({'0',\n",
       "            '2',\n",
       "            '3'}): {Split({'3', '2', '0'}, {'2', '0'}): 0.25470737913486, Split({'3', '2', '0'}, {'3', '0'}): 0.1534351145038168, Split({'3', '2', '0'}, {'0'}): 0.5918575063613232},\n",
       " frozenset({'0', '1', '3'}): {Split({'3', '1', '0'}, {'1', '0'}): 0.25,\n",
       "  Split({'3', '1', '0'}, {'3', '0'}): 0.3458904109589041,\n",
       "  Split({'3', '1', '0'}, {'0'}): 0.4041095890410959},\n",
       " frozenset({'0',\n",
       "            '1',\n",
       "            '2',\n",
       "            '3'}): {Split({'3', '2', '0', '1'}, {'2', '0', '1'}): 0.08099190080991901, Split({'3', '2', '1', '0'}, {'3', '1', '0'}): 0.029197080291970802, Split({'3', '2', '1', '0'}, {'1', '0'}): 0.052094790520947905, Split({'3', '2', '0', '1'}, {'3', '2', '0'}): 0.392960703929607, Split({'3', '2', '0', '1'}, {'2', '0'}): 0.028397160283971604, Split({'3', '2', '0', '1'}, {'3', '0'}): 0.0244975502449755, Split({'3', '2', '0', '1'}, {'0'}): 0.39186081391860816}}"
      ]
     },
     "execution_count": 61,
     "metadata": {},
     "output_type": "execute_result"
    }
   ],
   "source": [
    "split_p = { clade: normalise_dict_entries(subclades) for clade, subclades in subclade_counts.items() }\n",
    "split_p"
   ]
  },
  {
   "cell_type": "code",
   "execution_count": null,
   "metadata": {},
   "outputs": [],
   "source": []
  },
  {
   "cell_type": "code",
   "execution_count": 74,
   "metadata": {},
   "outputs": [
    {
     "data": {
      "text/plain": [
       "{TreeNode(((0,1),2),3): 0.015198480151984804,\n",
       " TreeNode(((0,1),3),2): 0.0072992700729927005,\n",
       " TreeNode(((0,2),1),3): 0.032996700329967,\n",
       " TreeNode(((0,2),3),1): 0.1000899910008999,\n",
       " TreeNode(((0,3),1),2): 0.0100989901009899,\n",
       " TreeNode(((0,3),2),1): 0.06029397060293971,\n",
       " TreeNode((0,(1,2)),3): 0.0327967203279672,\n",
       " TreeNode((0,(1,3)),2): 0.0117988201179882,\n",
       " TreeNode((0,(2,3)),1): 0.23257674232576742,\n",
       " TreeNode((0,1),(2,3)): 0.052094790520947905,\n",
       " TreeNode((0,2),(1,3)): 0.028397160283971604,\n",
       " TreeNode((0,3),(1,2)): 0.0244975502449755,\n",
       " TreeNode(0,((1,2),3)): 0.09999000099990002,\n",
       " TreeNode(0,((1,3),2)): 0.0648935106489351,\n",
       " TreeNode(0,(1,(2,3))): 0.22697730226977303}"
      ]
     },
     "execution_count": 74,
     "metadata": {},
     "output_type": "execute_result"
    }
   ],
   "source": [
    "from operator import mul\n",
    "from functools import reduce\n",
    "from splits import get_clade\n",
    "\n",
    "prod = lambda xs: reduce(mul, xs)\n",
    "\n",
    "def get_split_p(clade, split, split_ps):\n",
    "    if clade in split_ps:\n",
    "        if split in split_ps[clade]:\n",
    "            return split_ps[clade][split]\n",
    "        else:\n",
    "            return 0.0\n",
    "    else:\n",
    "        return 0.0\n",
    "    \n",
    "def p_approx(tree, split_ps):\n",
    "    if isinstance(tree, str):\n",
    "        return 1.0\n",
    "    else:\n",
    "        children = tree.get_children()\n",
    "        if all([isinstance(child, str) for child in children]):\n",
    "            return 1.0\n",
    "        else:\n",
    "            clade = tree.get_clade()\n",
    "            subtree_p_approxs = [p_approx(subtree, split_ps) for subtree in children]\n",
    "            split = Split(tree.get_clade(), get_clade(children[0]))\n",
    "            split_p = get_split_p(clade, split, split_ps)\n",
    "            return split_p*prod(subtree_p_approxs)\n",
    "    \n",
    "p_approxs = { tree: p_approx(tree, split_p) for tree in p.keys() }\n",
    "p_approxs"
   ]
  },
  {
   "cell_type": "code",
   "execution_count": 76,
   "metadata": {},
   "outputs": [
    {
     "data": {
      "text/plain": [
       "{TreeNode(((0,1),2),3): (0.015198480151984802, 0.015198480151984804),\n",
       " TreeNode(((0,1),3),2): (0.0072992700729927005, 0.0072992700729927005),\n",
       " TreeNode(((0,2),1),3): (0.032996700329967, 0.032996700329967),\n",
       " TreeNode(((0,2),3),1): (0.10008999100089991, 0.1000899910008999),\n",
       " TreeNode(((0,3),1),2): (0.0100989901009899, 0.0100989901009899),\n",
       " TreeNode(((0,3),2),1): (0.06029397060293971, 0.06029397060293971),\n",
       " TreeNode((0,(1,2)),3): (0.0327967203279672, 0.0327967203279672),\n",
       " TreeNode((0,(1,3)),2): (0.0117988201179882, 0.0117988201179882),\n",
       " TreeNode((0,(2,3)),1): (0.23257674232576742, 0.23257674232576742),\n",
       " TreeNode((0,1),(2,3)): (0.052094790520947905, 0.052094790520947905),\n",
       " TreeNode((0,2),(1,3)): (0.028397160283971604, 0.028397160283971604),\n",
       " TreeNode((0,3),(1,2)): (0.0244975502449755, 0.0244975502449755),\n",
       " TreeNode(0,((1,2),3)): (0.0999900009999, 0.09999000099990002),\n",
       " TreeNode(0,((1,3),2)): (0.0648935106489351, 0.0648935106489351),\n",
       " TreeNode(0,(1,(2,3))): (0.22697730226977303, 0.22697730226977303)}"
      ]
     },
     "execution_count": 76,
     "metadata": {},
     "output_type": "execute_result"
    }
   ],
   "source": [
    "{ tree: (p[tree], p_approxs[tree]) for tree in p.keys() }"
   ]
  }
 ],
 "metadata": {
  "kernelspec": {
   "display_name": "Python 3",
   "language": "python",
   "name": "python3"
  },
  "language_info": {
   "codemirror_mode": {
    "name": "ipython",
    "version": 3
   },
   "file_extension": ".py",
   "mimetype": "text/x-python",
   "name": "python",
   "nbconvert_exporter": "python",
   "pygments_lexer": "ipython3",
   "version": "3.6.4"
  }
 },
 "nbformat": 4,
 "nbformat_minor": 2
}
