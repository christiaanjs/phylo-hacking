{
 "cells": [
  {
   "cell_type": "code",
   "execution_count": 9,
   "metadata": {},
   "outputs": [],
   "source": [
    "%matplotlib inline"
   ]
  },
  {
   "cell_type": "markdown",
   "metadata": {},
   "source": [
    "# Conditional clade probability summaries"
   ]
  },
  {
   "cell_type": "markdown",
   "metadata": {},
   "source": [
    "## Edit primates data to four taxa"
   ]
  },
  {
   "cell_type": "code",
   "execution_count": 1,
   "metadata": {},
   "outputs": [
    {
     "data": {
      "text/plain": [
       "<Bio.Nexus.Nexus.Nexus at 0x7f4d704d0400>"
      ]
     },
     "execution_count": 1,
     "metadata": {},
     "output_type": "execute_result"
    }
   ],
   "source": [
    "from Bio.Nexus.Nexus import Nexus\n",
    "\n",
    "nexus = Nexus()\n",
    "nexus.read('../data/Influenza.nexus')\n",
    "nexus"
   ]
  },
  {
   "cell_type": "code",
   "execution_count": 2,
   "metadata": {
    "collapsed": true
   },
   "outputs": [
    {
     "data": {
      "text/plain": [
       "['CY068129_A_California_VRDL396_2009_2009/04/28',\n",
       " 'CY068870_A_California_VRDL392_2009_2009/04/28',\n",
       " 'CY068686_A_California_VRDL181_2009_2009/04/28',\n",
       " 'CY068137_A_California_VRDL159_2009_2009/04/28',\n",
       " 'CY068217_A_California_VRDL173_2009_2009/04/28',\n",
       " 'CY068702_A_California_VRDL184_2009_2009/04/28',\n",
       " 'CY068742_A_California_VRDL199_2009_2009/04/28',\n",
       " 'CY068766_A_California_VRDL204_2009_2009/04/28',\n",
       " 'CY068718_A_California_VRDL187_2009_2009/04/28',\n",
       " 'CY068209_A_California_VRDL172_2009_2009/04/28',\n",
       " 'CY064879_A_California_VRDL147_2009_2009/04/28',\n",
       " 'CY068678_A_California_VRDL178_2009_2009/04/28',\n",
       " 'CY068233_A_California_VRDL211_2009_2009/04/28',\n",
       " 'CY068734_A_California_VRDL198_2009_2009/04/28',\n",
       " 'CY068633_A_California_VRDL394_2009_2009/04/28',\n",
       " 'CY068153_A_California_VRDL161_2009_2009/04/28',\n",
       " 'CY068161_A_California_VRDL164_2009_2009/04/28',\n",
       " 'CY067221_A_California_VRDL302_2009_2009/04/28',\n",
       " 'CY068758_A_California_VRDL203_2009_2009/04/28',\n",
       " 'CY092329_A_California_VRDL182_2009_2009/04/28',\n",
       " 'CY067929_A_California_VRDL177_2009_2009/04/28',\n",
       " 'CY066519_A_California_VRDL156_2009_2009/04/28',\n",
       " 'CY068177_A_California_VRDL166_2009_2009/04/28',\n",
       " 'CY068193_A_California_VRDL169_2009_2009/04/28',\n",
       " 'CY068145_A_California_VRDL160_2009_2009/04/28',\n",
       " 'CY068201_A_California_VRDL170_2009_2009/04/28',\n",
       " 'CY068798_A_California_VRDL210_2009_2009/04/28',\n",
       " 'CY068862_A_California_VRDL391_2009_2009/04/28',\n",
       " 'CY068249_A_California_VRDL216_2009_2009/04/28']"
      ]
     },
     "execution_count": 2,
     "metadata": {},
     "output_type": "execute_result"
    }
   ],
   "source": [
    "nexus.taxlabels"
   ]
  },
  {
   "cell_type": "code",
   "execution_count": 3,
   "metadata": {},
   "outputs": [
    {
     "data": {
      "text/plain": [
       "'../data/Influenza-short.nex'"
      ]
     },
     "execution_count": 3,
     "metadata": {},
     "output_type": "execute_result"
    }
   ],
   "source": [
    "nexus.write_nexus_data('../data/Influenza-short.nex', delete=nexus.taxlabels[4:])"
   ]
  },
  {
   "cell_type": "markdown",
   "metadata": {},
   "source": [
    "## Data structures for conditional clades"
   ]
  },
  {
   "cell_type": "code",
   "execution_count": 115,
   "metadata": {},
   "outputs": [],
   "source": [
    "from splits import Split"
   ]
  },
  {
   "cell_type": "markdown",
   "metadata": {},
   "source": [
    "## Processing MCMC output"
   ]
  },
  {
   "cell_type": "code",
   "execution_count": 93,
   "metadata": {
    "scrolled": true
   },
   "outputs": [
    {
     "data": {
      "text/plain": [
       "1001"
      ]
     },
     "execution_count": 93,
     "metadata": {},
     "output_type": "execute_result"
    }
   ],
   "source": [
    "from Bio import Phylo\n",
    "trees = list(Phylo.parse('../data/Influenza-short.trees', format='nexus'))\n",
    "len(trees)"
   ]
  },
  {
   "cell_type": "code",
   "execution_count": 94,
   "metadata": {},
   "outputs": [
    {
     "data": {
      "image/png": "[encoded data removed]",
      "text/plain": [
       "<matplotlib.figure.Figure at 0x7f4d4b3d1208>"
      ]
     },
     "metadata": {},
     "output_type": "display_data"
    }
   ],
   "source": [
    "tree = trees[1]\n",
    "Phylo.draw(tree)"
   ]
  },
  {
   "cell_type": "code",
   "execution_count": 95,
   "metadata": {},
   "outputs": [
    {
     "data": {
      "text/plain": [
       "(0.0003469073668290693,\n",
       " frozenset({'CY068137_A_California_VRDL159_2009_2009/04/28',\n",
       "            'CY068686_A_California_VRDL181_2009_2009/04/28',\n",
       "            'CY068870_A_California_VRDL392_2009_2009/04/28'}))"
      ]
     },
     "execution_count": 95,
     "metadata": {},
     "output_type": "execute_result"
    }
   ],
   "source": [
    "def get_taxa(clade):\n",
    "    return frozenset([leaf.name for leaf in clade.get_terminals()])\n",
    "clade = list(tree.find_clades())[2]\n",
    "clade.branch_length, get_taxa(clade)"
   ]
  },
  {
   "cell_type": "code",
   "execution_count": 96,
   "metadata": {},
   "outputs": [
    {
     "data": {
      "text/plain": [
       "{'CY068129_A_California_VRDL396_2009_2009/04/28': '1',\n",
       " 'CY068137_A_California_VRDL159_2009_2009/04/28': '0',\n",
       " 'CY068686_A_California_VRDL181_2009_2009/04/28': '2',\n",
       " 'CY068870_A_California_VRDL392_2009_2009/04/28': '3'}"
      ]
     },
     "execution_count": 96,
     "metadata": {},
     "output_type": "execute_result"
    }
   ],
   "source": [
    "all_taxa = list(get_taxa(tree.root))\n",
    "name_mapping = { name: str(i) for i, name in enumerate(all_taxa)}\n",
    "name_mapping"
   ]
  },
  {
   "cell_type": "code",
   "execution_count": 97,
   "metadata": {},
   "outputs": [
    {
     "data": {
      "text/plain": [
       "[Clade(branch_length=0.0),\n",
       " Clade(branch_length=0.002277814031265325, name='1'),\n",
       " Clade(branch_length=0.0003798014538035255),\n",
       " Clade(branch_length=0.0009167878028191378),\n",
       " Clade(branch_length=0.0009812247746426616, name='0'),\n",
       " Clade(branch_length=0.0009812247746426616, name='2'),\n",
       " Clade(branch_length=0.0018980125774617994, name='3')]"
      ]
     },
     "execution_count": 97,
     "metadata": {},
     "output_type": "execute_result"
    }
   ],
   "source": [
    "for tree in trees:\n",
    "    for clade in tree.find_clades():\n",
    "        if clade.name is not None:\n",
    "            clade.name = name_mapping[clade.name]\n",
    "\n",
    "list(tree.find_clades())"
   ]
  },
  {
   "cell_type": "code",
   "execution_count": 98,
   "metadata": {},
   "outputs": [
    {
     "data": {
      "application/vnd.jupyter.widget-view+json": {
       "model_id": "beed7e0903df4e06ae0f7b108127ed5a",
       "version_major": 2,
       "version_minor": 0
      },
      "text/html": [
       "<p>Failed to display Jupyter Widget of type <code>HBox</code>.</p>\n",
       "<p>\n",
       "  If you're reading this message in the Jupyter Notebook or JupyterLab Notebook, it may mean\n",
       "  that the widgets JavaScript is still loading. If this message persists, it\n",
       "  likely means that the widgets JavaScript library is either not installed or\n",
       "  not enabled. See the <a href=\"https://ipywidgets.readthedocs.io/en/stable/user_install.html\">Jupyter\n",
       "  Widgets Documentation</a> for setup instructions.\n",
       "</p>\n",
       "<p>\n",
       "  If you're reading this message in another frontend (for example, a static\n",
       "  rendering on GitHub or <a href=\"https://nbviewer.jupyter.org/\">NBViewer</a>),\n",
       "  it may mean that your frontend doesn't currently support widgets.\n",
       "</p>\n"
      ],
      "text/plain": [
       "HBox(children=(IntProgress(value=0, max=1001), HTML(value='')))"
      ]
     },
     "metadata": {},
     "output_type": "display_data"
    },
    {
     "name": "stdout",
     "output_type": "stream",
     "text": [
      "\n"
     ]
    },
    {
     "data": {
      "text/plain": [
       "{frozenset({'0', '2', '3'}): {Split({'3', '0', '2'}, {'0', '2'}): 236,\n",
       "  Split({'3', '0', '2'}, {'3', '0'}): 88,\n",
       "  Split({'3', '0', '2'}, {'0'}): 60},\n",
       " frozenset({'0', '1', '2'}): {Split({'2', '0', '1'}, {'0', '1'}): 106,\n",
       "  Split({'1', '0', '2'}, {'0', '2'}): 233,\n",
       "  Split({'1', '0', '2'}, {'0'}): 58},\n",
       " frozenset({'0', '1', '3'}): {Split({'3', '0', '1'}, {'0', '1'}): 26,\n",
       "  Split({'3', '0', '1'}, {'3', '0'}): 40,\n",
       "  Split({'3', '0', '1'}, {'0'}): 20},\n",
       " frozenset({'1', '2', '3'}): {Split({'3', '2', '1'}, {'2', '1'}): 17,\n",
       "  Split({'2', '3', '1'}, {'3', '1'}): 5,\n",
       "  Split({'2', '3', '1'}, {'1'}): 8},\n",
       " frozenset({'0',\n",
       "            '1',\n",
       "            '2',\n",
       "            '3'}): {Split({'3', '2', '0', '1'}, {'2', '0', '1'}): 397, Split({'2', '3', '0', '1'}, {'3', '0', '1'}): 86, Split({'2', '3', '0', '1'}, {'0', '1'}): 26, Split({'3', '0', '2', '1'}, {'3', '0', '2'}): 384, Split({'3', '0', '2', '1'}, {'0', '2'}): 47, Split({'3', '0', '2', '1'}, {'3', '0'}): 31, Split({'3', '0', '2', '1'}, {'0'}): 30}}"
      ]
     },
     "execution_count": 98,
     "metadata": {},
     "output_type": "execute_result"
    }
   ],
   "source": [
    "from tqdm import tqdm_notebook as tqdm\n",
    "\n",
    "subclade_counts = {}\n",
    "\n",
    "for tree in tqdm(trees):\n",
    "    for clade in tree.find_clades():\n",
    "        taxa = get_taxa(clade)\n",
    "        if len(taxa) > 2:\n",
    "            if taxa not in subclade_counts:\n",
    "                subclade_counts[taxa] = {}\n",
    "            conditional_split = Split(taxa, get_taxa(clade[0]))\n",
    "            if conditional_split not in subclade_counts[taxa]:\n",
    "                subclade_counts[taxa][conditional_split] = 1\n",
    "            else:\n",
    "                subclade_counts[taxa][conditional_split] += 1\n",
    "subclade_counts"
   ]
  },
  {
   "cell_type": "code",
   "execution_count": 107,
   "metadata": {},
   "outputs": [
    {
     "data": {
      "text/plain": [
       "86"
      ]
     },
     "execution_count": 107,
     "metadata": {},
     "output_type": "execute_result"
    }
   ],
   "source": [
    "sum(list(subclade_counts.values())[3].values())"
   ]
  },
  {
   "cell_type": "code",
   "execution_count": 113,
   "metadata": {},
   "outputs": [
    {
     "data": {
      "text/plain": [
       "{frozenset({'0',\n",
       "            '2',\n",
       "            '3'}): {Split({'3', '0', '2'}, {'0', '2'}): 0.6145833333333334, Split({'3', '0', '2'}, {'3', '0'}): 0.22916666666666666, Split({'3', '0', '2'}, {'0'}): 0.15625},\n",
       " frozenset({'0',\n",
       "            '1',\n",
       "            '2'}): {Split({'2', '0', '1'}, {'0', '1'}): 0.26700251889168763, Split({'1', '0', '2'}, {'0', '2'}): 0.5869017632241813, Split({'1', '0', '2'}, {'0'}): 0.14609571788413098},\n",
       " frozenset({'0',\n",
       "            '1',\n",
       "            '3'}): {Split({'3', '0', '1'}, {'0', '1'}): 0.3023255813953488, Split({'3', '0', '1'}, {'3', '0'}): 0.46511627906976744, Split({'3', '0', '1'}, {'0'}): 0.23255813953488372},\n",
       " frozenset({'1',\n",
       "            '2',\n",
       "            '3'}): {Split({'3', '2', '1'}, {'2', '1'}): 0.5666666666666667, Split({'2', '3', '1'}, {'3', '1'}): 0.16666666666666666, Split({'2', '3', '1'}, {'1'}): 0.26666666666666666},\n",
       " frozenset({'0',\n",
       "            '1',\n",
       "            '2',\n",
       "            '3'}): {Split({'3', '2', '0', '1'}, {'2', '0', '1'}): 0.3966033966033966, Split({'2', '3', '0', '1'}, {'3', '0', '1'}): 0.08591408591408592, Split({'2', '3', '0', '1'}, {'0', '1'}): 0.025974025974025976, Split({'3', '0', '2', '1'}, {'3', '0', '2'}): 0.3836163836163836, Split({'3', '0', '2', '1'}, {'0', '2'}): 0.04695304695304695, Split({'3', '0', '2', '1'}, {'3', '0'}): 0.030969030969030968, Split({'3', '0', '2', '1'}, {'0'}): 0.029970029970029972}}"
      ]
     },
     "execution_count": 113,
     "metadata": {},
     "output_type": "execute_result"
    }
   ],
   "source": [
    "import math\n",
    "\n",
    "def normalise_dict_entries(dict_):\n",
    "    sum_ = sum(dict_.values())\n",
    "    return { key: value/sum_ for key, value in dict_.items() }\n",
    "\n",
    "p = { clade: normalise_dict_entries(subclades) for clade, subclades in subclade_counts.items() }\n",
    "p"
   ]
  },
  {
   "cell_type": "code",
   "execution_count": 114,
   "metadata": {},
   "outputs": [],
   "source": [
    "import pickle\n",
    "\n",
    "with open('p.pickle', 'wb') as f:\n",
    "    pickle.dump(p, f)"
   ]
  }
 ],
 "metadata": {
  "kernelspec": {
   "display_name": "Python 3",
   "language": "python",
   "name": "python3"
  },
  "language_info": {
   "codemirror_mode": {
    "name": "ipython",
    "version": 3
   },
   "file_extension": ".py",
   "mimetype": "text/x-python",
   "name": "python",
   "nbconvert_exporter": "python",
   "pygments_lexer": "ipython3",
   "version": "3.6.4"
  }
 },
 "nbformat": 4,
 "nbformat_minor": 2
}
