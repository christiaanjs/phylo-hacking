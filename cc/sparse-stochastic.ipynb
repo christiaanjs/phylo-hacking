{
 "cells": [
  {
   "cell_type": "markdown",
   "metadata": {},
   "source": [
    "# Stochastic variational inference"
   ]
  },
  {
   "cell_type": "code",
   "execution_count": 2,
   "metadata": {},
   "outputs": [],
   "source": [
    "from tqdm import tqdm_notebook as tqdm\n",
    "import autograd.numpy as np\n",
    "\n",
    "# https://github.com/bamos/opt.py/blob/master/bamos_opt/pgd.py\n",
    "def psgd(x0, g, proj, eps, maxit, lam, callback=None, **kwargs):\n",
    "    \"\"\"TODO.\"\"\"\n",
    "    results = {\n",
    "        'feval': 0,\n",
    "        'geval': 0\n",
    "    }\n",
    "\n",
    "    x = proj(np.copy(x0))\n",
    "\n",
    "    for k in tqdm(range(maxit)):\n",
    "        g_x = g(x, **kwargs)\n",
    "        lam_val = lam(k)\n",
    "        x = proj(x - lam_val * g_x)\n",
    "        \n",
    "        if callback:\n",
    "            callback(k, x, g_x, lam_val)\n",
    "\n",
    "    return x\n",
    "\n",
    "def lam_inverse(init_lam):\n",
    "    return lambda k: init_lam/k\n",
    "\n",
    "def sort_rows(z):\n",
    "    perm = anp.argsort(z, axis=1)\n",
    "    rows = anp.arange(z.shape[0], dtype=int).reshape(-1, 1)\n",
    "    return z[rows, perm]\n",
    "\n",
    "def sparsemax_rows(z):\n",
    "    ncols = z.shape[1]\n",
    "    u = sort_rows(z)[:, ::-1]\n",
    "    cssv = u.cumsum(axis=1) - 1\n",
    "    ind = anp.arange(ncols) + 1\n",
    "    cond = u - cssv / ind > 0\n",
    "    argmin = anp.argmin(cond, axis=1)\n",
    "    rho = np.where(argmin > 0, argmin, ncols)\n",
    "    theta = cssv[anp.arange(z.shape[0]) , rho - 1]/rho\n",
    "    return np.clip(z - theta.reshape(-1, 1), 0, None)"
   ]
  },
  {
   "cell_type": "markdown",
   "metadata": {},
   "source": [
    "Always assume a dimension for samples"
   ]
  },
  {
   "cell_type": "code",
   "execution_count": 109,
   "metadata": {},
   "outputs": [
    {
     "data": {
      "text/plain": [
       "(array([-9.99541264]), array([-13.54310484]))"
      ]
     },
     "execution_count": 109,
     "metadata": {},
     "output_type": "execute_result"
    }
   ],
   "source": [
    "from autograd.scipy.stats import norm\n",
    "\n",
    "n_clusters = 3\n",
    "n_data = 4\n",
    "mu = np.arange(n_clusters)\n",
    "p = np.array([0.2, 0.3, 0.5])\n",
    "indices = np.arange(n_clusters)\n",
    "assignments = np.random.choice(indices, size=n_data, p=p)\n",
    "assignments0 = np.random.choice(indices, size=n_data)\n",
    "x = np.random.normal(loc=mu[assignments])\n",
    "log_p = lambda assignments: np.sum(norm.logpdf(x[:, np.newaxis], loc=mu[assignments]) + np.log(p[assignments]), axis=0)\n",
    "log_p(assignments[:, np.newaxis]), log_p(assignments0[:, np.newaxis])"
   ]
  },
  {
   "cell_type": "code",
   "execution_count": 128,
   "metadata": {},
   "outputs": [
    {
     "data": {
      "text/plain": [
       "(array([-4.39444915]), array([-4.39444915]))"
      ]
     },
     "execution_count": 128,
     "metadata": {},
     "output_type": "execute_result"
    }
   ],
   "source": [
    "rows = np.arange(n_data)\n",
    "log_q = lambda assignments, lam: np.log(lam[rows[:, np.newaxis], assignments]).sum(axis=0)\n",
    "lam0 = np.ones((n_data, n_clusters))/n_clusters\n",
    "log_q(assignments[:, np.newaxis], lam0), log_q(assignments0[:, np.newaxis], lam0)"
   ]
  },
  {
   "cell_type": "code",
   "execution_count": 131,
   "metadata": {},
   "outputs": [
    {
     "data": {
      "text/plain": [
       "array([5.60096349])"
      ]
     },
     "execution_count": 131,
     "metadata": {},
     "output_type": "execute_result"
    }
   ],
   "source": [
    "kl_point = lambda assignments, lam: log_q(assignments, lam) - log_p(assignments)\n",
    "kl_point(assignments[:, np.newaxis], lam0)"
   ]
  },
  {
   "cell_type": "code",
   "execution_count": 148,
   "metadata": {},
   "outputs": [
    {
     "data": {
      "text/plain": [
       "(array([[0],\n",
       "        [2],\n",
       "        [1],\n",
       "        [1]]), array([[0, 0, 1, 1, 2, 0, 2, 0, 0, 0],\n",
       "        [2, 1, 2, 1, 1, 1, 1, 2, 1, 0],\n",
       "        [1, 1, 1, 0, 1, 0, 0, 1, 1, 2],\n",
       "        [0, 1, 2, 0, 0, 1, 1, 1, 0, 1]]))"
      ]
     },
     "execution_count": 148,
     "metadata": {},
     "output_type": "execute_result"
    }
   ],
   "source": [
    "def random_choice_row(p, n_samples=1):\n",
    "    u = np.random.uniform(size=(p.shape[0], n_samples)) #[index, sample]\n",
    "    pf = p.cumsum(axis=1) #[index, row]\n",
    "    return np.argmax(u[:, np.newaxis, :] < pf[:, :, np.newaxis], axis=1)\n",
    "\n",
    "random_choice_row(lam0), random_choice_row(lam0, n_samples=10)"
   ]
  },
  {
   "cell_type": "code",
   "execution_count": 167,
   "metadata": {},
   "outputs": [
    {
     "data": {
      "text/plain": [
       "7.340918732922332"
      ]
     },
     "execution_count": 167,
     "metadata": {},
     "output_type": "execute_result"
    }
   ],
   "source": [
    "def kl_mc(lam, n_samples=1):\n",
    "    assignments = random_choice_row(lam, n_samples=n_samples)\n",
    "    return np.mean(kl_point(assignments, lam))\n",
    "\n",
    "kl_mc(lam0, n_samples=100000)"
   ]
  },
  {
   "cell_type": "code",
   "execution_count": 161,
   "metadata": {},
   "outputs": [
    {
     "data": {
      "text/plain": [
       "7.338103815469151"
      ]
     },
     "execution_count": 161,
     "metadata": {},
     "output_type": "execute_result"
    }
   ],
   "source": [
    "all_assignments = np.repeat(np.arange(n_clusters)[np.newaxis, :], n_data, axis=0)\n",
    "\n",
    "def kl(lam):\n",
    "    log_p = norm.logpdf(x[:, np.newaxis], loc=mu[all_assignments]) + np.log(p[all_assignments])\n",
    "    return np.sum(lam*np.log(lam)) - np.sum(log_p * lam)\n",
    "\n",
    "kl(lam0)"
   ]
  },
  {
   "cell_type": "code",
   "execution_count": 164,
   "metadata": {},
   "outputs": [
    {
     "data": {
      "text/plain": [
       "array([[2.85179924, 2.02760122, 2.09804268],\n",
       "       [2.44275679, 2.69849116, 3.84886501],\n",
       "       [4.32626996, 2.47323929, 1.51484811],\n",
       "       [5.20904469, 2.9459195 , 1.57743379]])"
      ]
     },
     "execution_count": 164,
     "metadata": {},
     "output_type": "execute_result"
    }
   ],
   "source": [
    "import autograd \n",
    "kl_grad = autograd.grad(kl)\n",
    "kl_grad(lam0)"
   ]
  },
  {
   "cell_type": "code",
   "execution_count": null,
   "metadata": {},
   "outputs": [],
   "source": [
    "true_posterior = "
   ]
  },
  {
   "cell_type": "code",
   "execution_count": 265,
   "metadata": {},
   "outputs": [
    {
     "data": {
      "text/plain": [
       "(13,)"
      ]
     },
     "execution_count": 265,
     "metadata": {},
     "output_type": "execute_result"
    }
   ],
   "source": [
    "kl_point(random_choice_row(lam0, n_samples=13), lam0).shape"
   ]
  },
  {
   "cell_type": "code",
   "execution_count": 263,
   "metadata": {},
   "outputs": [
    {
     "data": {
      "text/plain": [
       "<function autograd.wrap_util.unary_to_nary.<locals>.nary_operator.<locals>.nary_f(*args, **kwargs)>"
      ]
     },
     "execution_count": 263,
     "metadata": {},
     "output_type": "execute_result"
    }
   ],
   "source": [
    "log_q_grad"
   ]
  },
  {
   "cell_type": "code",
   "execution_count": 264,
   "metadata": {},
   "outputs": [
    {
     "data": {
      "text/plain": [
       "-1.0986122886681098"
      ]
     },
     "execution_count": 264,
     "metadata": {},
     "output_type": "execute_result"
    }
   ],
   "source": [
    "np.log(1/3)"
   ]
  },
  {
   "cell_type": "code",
   "execution_count": 261,
   "metadata": {},
   "outputs": [
    {
     "data": {
      "text/plain": [
       "array([[7.68947118, 5.45555353, 8.46922381],\n",
       "       [7.14464885, 6.7696205 , 7.69997918],\n",
       "       [7.60757154, 6.81820734, 7.18846964],\n",
       "       [8.72498135, 8.02323798, 4.86602919]])"
      ]
     },
     "execution_count": 261,
     "metadata": {},
     "output_type": "execute_result"
    }
   ],
   "source": [
    "log_q_grad = autograd.jacobian(log_q, argnum=1)\n",
    "\n",
    "def kl_grad_mc(lam, n_samples=1):\n",
    "    assignments = random_choice_row(lam, n_samples=n_samples)\n",
    "    kl_val = kl_point(assignments, lam)\n",
    "    log_q_grad_val = log_q_grad(assignments, lam)\n",
    "    return np.mean(kl_val[:, np.newaxis, np.newaxis] * log_q_grad_val, axis=0)\n",
    "\n",
    "kl_grad_mc(lam0, n_samples=100)"
   ]
  },
  {
   "cell_type": "markdown",
   "metadata": {},
   "source": [
    "http://pyro.ai/examples/svi_part_iii.html"
   ]
  }
 ],
 "metadata": {
  "kernelspec": {
   "display_name": "Python 3",
   "language": "python",
   "name": "python3"
  },
  "language_info": {
   "codemirror_mode": {
    "name": "ipython",
    "version": 3
   },
   "file_extension": ".py",
   "mimetype": "text/x-python",
   "name": "python",
   "nbconvert_exporter": "python",
   "pygments_lexer": "ipython3",
   "version": "3.6.5"
  }
 },
 "nbformat": 4,
 "nbformat_minor": 2
}
