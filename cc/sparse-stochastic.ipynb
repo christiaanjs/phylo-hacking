{
 "cells": [
  {
   "cell_type": "markdown",
   "metadata": {},
   "source": [
    "# Sparse stochastic variational inference"
   ]
  },
  {
   "cell_type": "code",
   "execution_count": 2,
   "metadata": {},
   "outputs": [],
   "source": [
    "from tqdm import tqdm_notebook as tqdm\n",
    "import autograd.numpy as np\n",
    "\n",
    "# https://github.com/bamos/opt.py/blob/master/bamos_opt/pgd.py\n",
    "def psgd(x0, g, proj, eps, maxit, lam, callback=None, **kwargs):\n",
    "    \"\"\"TODO.\"\"\"\n",
    "    results = {\n",
    "        'feval': 0,\n",
    "        'geval': 0\n",
    "    }\n",
    "\n",
    "    x = proj(np.copy(x0))\n",
    "\n",
    "    for k in tqdm(range(maxit)):\n",
    "        g_x = g(x, **kwargs)\n",
    "        lam_val = lam(k)\n",
    "        x = proj(x - lam_val * g_x)\n",
    "        \n",
    "        if callback:\n",
    "            callback(k, x, g_x, lam_val)\n",
    "\n",
    "    return x\n",
    "\n",
    "def lam_inverse(init_lam):\n",
    "    return lambda k: init_lam/k\n",
    "\n",
    "def sort_rows(z):\n",
    "    perm = anp.argsort(z, axis=1)\n",
    "    rows = anp.arange(z.shape[0], dtype=int).reshape(-1, 1)\n",
    "    return z[rows, perm]\n",
    "\n",
    "def sparsemax_rows(z):\n",
    "    ncols = z.shape[1]\n",
    "    u = sort_rows(z)[:, ::-1]\n",
    "    cssv = u.cumsum(axis=1) - 1\n",
    "    ind = anp.arange(ncols) + 1\n",
    "    cond = u - cssv / ind > 0\n",
    "    argmin = anp.argmin(cond, axis=1)\n",
    "    rho = np.where(argmin > 0, argmin, ncols)\n",
    "    theta = cssv[anp.arange(z.shape[0]) , rho - 1]/rho\n",
    "    return np.clip(z - theta.reshape(-1, 1), 0, None)"
   ]
  },
  {
   "cell_type": "markdown",
   "metadata": {},
   "source": [
    "Always assume a dimension for samples"
   ]
  },
  {
   "cell_type": "code",
   "execution_count": 109,
   "metadata": {},
   "outputs": [
    {
     "data": {
      "text/plain": [
       "(array([-9.99541264]), array([-13.54310484]))"
      ]
     },
     "execution_count": 109,
     "metadata": {},
     "output_type": "execute_result"
    }
   ],
   "source": [
    "from autograd.scipy.stats import norm\n",
    "\n",
    "n_clusters = 3\n",
    "n_data = 4\n",
    "mu = np.arange(n_clusters)\n",
    "p = np.array([0.2, 0.3, 0.5])\n",
    "indices = np.arange(n_clusters)\n",
    "assignments = np.random.choice(indices, size=n_data, p=p)\n",
    "assignments0 = np.random.choice(indices, size=n_data)\n",
    "x = np.random.normal(loc=mu[assignments])\n",
    "log_p = lambda assignments: np.sum(norm.logpdf(x[:, np.newaxis], loc=mu[assignments]) + np.log(p[assignments]), axis=0)\n",
    "log_p(assignments[:, np.newaxis]), log_p(assignments0[:, np.newaxis])"
   ]
  },
  {
   "cell_type": "code",
   "execution_count": 118,
   "metadata": {},
   "outputs": [
    {
     "data": {
      "text/plain": [
       "array([[[0.33333333, 0.33333333, 0.33333333]],\n",
       "\n",
       "       [[0.33333333, 0.33333333, 0.33333333]],\n",
       "\n",
       "       [[0.33333333, 0.33333333, 0.33333333]],\n",
       "\n",
       "       [[0.33333333, 0.33333333, 0.33333333]]])"
      ]
     },
     "execution_count": 118,
     "metadata": {},
     "output_type": "execute_result"
    }
   ],
   "source": [
    "lam0[assignments[:, np.newaxis]]"
   ]
  },
  {
   "cell_type": "code",
   "execution_count": 128,
   "metadata": {},
   "outputs": [
    {
     "data": {
      "text/plain": [
       "(array([-4.39444915]), array([-4.39444915]))"
      ]
     },
     "execution_count": 128,
     "metadata": {},
     "output_type": "execute_result"
    }
   ],
   "source": [
    "rows = np.arange(n_data)\n",
    "log_q = lambda assignments, lam: np.log(lam[rows[:, np.newaxis], assignments]).sum(axis=0)\n",
    "lam0 = np.ones((n_data, n_clusters))/n_clusters\n",
    "log_q(assignments[:, np.newaxis], lam0), log_q(assignments0[:, np.newaxis], lam0)"
   ]
  },
  {
   "cell_type": "code",
   "execution_count": 131,
   "metadata": {},
   "outputs": [
    {
     "data": {
      "text/plain": [
       "array([5.60096349])"
      ]
     },
     "execution_count": 131,
     "metadata": {},
     "output_type": "execute_result"
    }
   ],
   "source": [
    "kl_point = lambda assignments, lam: log_q(assignments, lam) - log_p(assignments)\n",
    "kl_point(assignments[:, np.newaxis], lam0)"
   ]
  },
  {
   "cell_type": "code",
   "execution_count": 132,
   "metadata": {},
   "outputs": [
    {
     "data": {
      "text/plain": [
       "(array([[2],\n",
       "        [0],\n",
       "        [1],\n",
       "        [2]]), array([[0, 0, 1, 2, 2, 1, 1, 1, 0, 1],\n",
       "        [2, 0, 2, 1, 2, 1, 2, 2, 1, 0],\n",
       "        [1, 0, 0, 2, 0, 0, 2, 2, 1, 0],\n",
       "        [1, 1, 2, 1, 0, 2, 0, 0, 2, 1]]))"
      ]
     },
     "execution_count": 132,
     "metadata": {},
     "output_type": "execute_result"
    }
   ],
   "source": [
    "def random_choice_row(p, n_samples=1):\n",
    "    u = np.random.uniform(size=(p.shape[0], n_samples)) #[index, sample]\n",
    "    pf = p.cumsum(axis=1) #[index, row]\n",
    "    return np.argmax(u[:, np.newaxis, :] < pf[:, :, np.newaxis], axis=1)\n",
    "\n",
    "random_choice_row(lam0), random_choice_row(lam0, n_samples=10)"
   ]
  },
  {
   "cell_type": "code",
   "execution_count": 133,
   "metadata": {},
   "outputs": [
    {
     "data": {
      "text/plain": [
       "7.359771257322359"
      ]
     },
     "execution_count": 133,
     "metadata": {},
     "output_type": "execute_result"
    }
   ],
   "source": [
    "def kl_mc(lam, n_samples=1):\n",
    "    assignments = random_choice_row(lam, n_samples=n_samples)\n",
    "    return np.mean(kl_point(assignments, lam)).sum()\n",
    "\n",
    "kl_mc(lam0, n_samples=1000)"
   ]
  }
 ],
 "metadata": {
  "kernelspec": {
   "display_name": "Python 3",
   "language": "python",
   "name": "python3"
  },
  "language_info": {
   "codemirror_mode": {
    "name": "ipython",
    "version": 3
   },
   "file_extension": ".py",
   "mimetype": "text/x-python",
   "name": "python",
   "nbconvert_exporter": "python",
   "pygments_lexer": "ipython3",
   "version": "3.6.5"
  }
 },
 "nbformat": 4,
 "nbformat_minor": 2
}
