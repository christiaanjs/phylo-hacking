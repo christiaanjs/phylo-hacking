{
 "cells": [
  {
   "cell_type": "markdown",
   "metadata": {},
   "source": [
    "# Sparse stochastic variational inference"
   ]
  },
  {
   "cell_type": "code",
   "execution_count": 2,
   "metadata": {},
   "outputs": [],
   "source": [
    "from tqdm import tqdm_notebook as tqdm\n",
    "import autograd.numpy as np\n",
    "\n",
    "# https://github.com/bamos/opt.py/blob/master/bamos_opt/pgd.py\n",
    "def psgd(x0, g, proj, eps, maxit, lam, callback=None, **kwargs):\n",
    "    \"\"\"TODO.\"\"\"\n",
    "    results = {\n",
    "        'feval': 0,\n",
    "        'geval': 0\n",
    "    }\n",
    "\n",
    "    x = proj(np.copy(x0))\n",
    "\n",
    "    for k in tqdm(range(maxit)):\n",
    "        g_x = g(x, **kwargs)\n",
    "        lam_val = lam(k)\n",
    "        x = proj(x - lam_val * g_x)\n",
    "        \n",
    "        if callback:\n",
    "            callback(k, x, g_x, lam_val)\n",
    "\n",
    "    return x\n",
    "\n",
    "def lam_inverse(init_lam):\n",
    "    return lambda k: init_lam/k\n",
    "\n",
    "def sort_rows(z):\n",
    "    perm = anp.argsort(z, axis=1)\n",
    "    rows = anp.arange(z.shape[0], dtype=int).reshape(-1, 1)\n",
    "    return z[rows, perm]\n",
    "\n",
    "def sparsemax_rows(z):\n",
    "    ncols = z.shape[1]\n",
    "    u = sort_rows(z)[:, ::-1]\n",
    "    cssv = u.cumsum(axis=1) - 1\n",
    "    ind = anp.arange(ncols) + 1\n",
    "    cond = u - cssv / ind > 0\n",
    "    argmin = anp.argmin(cond, axis=1)\n",
    "    rho = np.where(argmin > 0, argmin, ncols)\n",
    "    theta = cssv[anp.arange(z.shape[0]) , rho - 1]/rho\n",
    "    return np.clip(z - theta.reshape(-1, 1), 0, None)"
   ]
  },
  {
   "cell_type": "code",
   "execution_count": 43,
   "metadata": {},
   "outputs": [
    {
     "data": {
      "text/plain": [
       "(-9.638855789146623, -12.45632007485198)"
      ]
     },
     "execution_count": 43,
     "metadata": {},
     "output_type": "execute_result"
    }
   ],
   "source": [
    "from autograd.scipy.stats import norm\n",
    "\n",
    "n_clusters = 3\n",
    "n_data = 4\n",
    "mu = np.arange(n_clusters)\n",
    "p = np.array([0.2, 0.3, 0.5])\n",
    "indices = np.arange(n_clusters)\n",
    "assignments = np.random.choice(indices, size=n_data, p=p)\n",
    "x = np.random.normal(loc=mu[assignments])\n",
    "log_p = lambda assignments: np.sum(norm.logpdf(x, loc=mu[assignments]) + np.log(p[assignments]))\n",
    "log_p(assignments), log_p(np.ones_like(assignments))"
   ]
  },
  {
   "cell_type": "code",
   "execution_count": 45,
   "metadata": {},
   "outputs": [
    {
     "data": {
      "text/plain": [
       "array([[0.33333333, 0.33333333, 0.33333333],\n",
       "       [0.33333333, 0.33333333, 0.33333333],\n",
       "       [0.33333333, 0.33333333, 0.33333333],\n",
       "       [0.33333333, 0.33333333, 0.33333333]])"
      ]
     },
     "execution_count": 45,
     "metadata": {},
     "output_type": "execute_result"
    }
   ],
   "source": [
    "log_q = lambda assignments, p: np.log(p[assignments]).sum()\n",
    "q0 = np.ones((n_data, n_clusters))/n_clusters\n",
    "q0"
   ]
  }
 ],
 "metadata": {
  "kernelspec": {
   "display_name": "Python 3",
   "language": "python",
   "name": "python3"
  },
  "language_info": {
   "codemirror_mode": {
    "name": "ipython",
    "version": 3
   },
   "file_extension": ".py",
   "mimetype": "text/x-python",
   "name": "python",
   "nbconvert_exporter": "python",
   "pygments_lexer": "ipython3",
   "version": "3.6.5"
  }
 },
 "nbformat": 4,
 "nbformat_minor": 2
}
