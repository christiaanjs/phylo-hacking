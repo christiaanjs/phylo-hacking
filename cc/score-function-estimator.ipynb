{
 "cells": [
  {
   "cell_type": "markdown",
   "metadata": {},
   "source": [
    "## Discrete entropy "
   ]
  },
  {
   "cell_type": "code",
   "execution_count": 56,
   "metadata": {},
   "outputs": [
    {
     "data": {
      "text/plain": [
       "(1.609654142797407, 1.609654142797407)"
      ]
     },
     "execution_count": 56,
     "metadata": {},
     "output_type": "execute_result"
    }
   ],
   "source": [
    "import autograd.numpy as np\n",
    "from scipy.stats import entropy as entropy_scipy\n",
    "\n",
    "def expectation(f, x, p):\n",
    "    return np.sum(p * f(x))\n",
    "\n",
    "p = np.array([0.03, 0.12, 0.31, 0.21, 0.09, 0.24])\n",
    "entropy_f = lambda x: -np.log(p[x])\n",
    "entropy = lambda p: expectation(entropy_f, np.arange(len(p)), p)\n",
    "entropy(p), entropy_scipy(p)"
   ]
  },
  {
   "cell_type": "code",
   "execution_count": 31,
   "metadata": {},
   "outputs": [
    {
     "data": {
      "text/plain": [
       "array([3.5065579 , 2.12026354, 1.17118298, 1.56064775, 2.40794561,\n",
       "       1.42711636])"
      ]
     },
     "execution_count": 31,
     "metadata": {},
     "output_type": "execute_result"
    }
   ],
   "source": [
    "import autograd\n",
    "\n",
    "autograd.grad(entropy)(p)"
   ]
  },
  {
   "cell_type": "code",
   "execution_count": 54,
   "metadata": {},
   "outputs": [
    {
     "data": {
      "text/plain": [
       "1.607948694711658"
      ]
     },
     "execution_count": 54,
     "metadata": {},
     "output_type": "execute_result"
    }
   ],
   "source": [
    "def mc_expectation(f, x, p, n_samples=1):\n",
    "    samples = np.random.choice(x, p=p, size=n_samples)\n",
    "    return np.mean(f(samples))\n",
    "\n",
    "mc_expectation(entropy_f, np.arange(len(p)), p, n_samples=int(1e5))"
   ]
  },
  {
   "cell_type": "code",
   "execution_count": 84,
   "metadata": {},
   "outputs": [
    {
     "data": {
      "text/plain": [
       "array([1.        , 0.5       , 0.33333333])"
      ]
     },
     "execution_count": 84,
     "metadata": {},
     "output_type": "execute_result"
    }
   ],
   "source": [
    "autograd.elementwise_grad(np.log)(np.array([1., 2., 3.]))"
   ]
  },
  {
   "cell_type": "code",
   "execution_count": 119,
   "metadata": {},
   "outputs": [
    {
     "data": {
      "text/plain": [
       "2    326\n",
       "5    248\n",
       "3    183\n",
       "1    128\n",
       "4     92\n",
       "0     23\n",
       "dtype: int64"
      ]
     },
     "execution_count": 119,
     "metadata": {},
     "output_type": "execute_result"
    }
   ],
   "source": [
    "import pandas as pd\n",
    "\n",
    "pd.Series(np.random.choice(len(p), p=p, size=1000)).value_counts()"
   ]
  },
  {
   "cell_type": "code",
   "execution_count": 120,
   "metadata": {},
   "outputs": [
    {
     "data": {
      "text/plain": [
       "1000"
      ]
     },
     "execution_count": 120,
     "metadata": {},
     "output_type": "execute_result"
    }
   ],
   "source": [
    "int(1e3)"
   ]
  },
  {
   "cell_type": "code",
   "execution_count": 112,
   "metadata": {},
   "outputs": [
    {
     "data": {
      "text/plain": [
       "(array([0.        , 1.01666667, 2.00645161, 3.17142857, 3.55555556,\n",
       "        5.0625    ]),\n",
       " array([ 0.        ,  2.72738173,  2.98646966,  5.93701636, 12.05747553,\n",
       "         8.93531442]))"
      ]
     },
     "execution_count": 112,
     "metadata": {},
     "output_type": "execute_result"
    }
   ],
   "source": [
    "def score_function_estimator(f, x, p, n_samples=1):\n",
    "    sample_indices = np.random.choice(len(x), p=p, size=n_samples)\n",
    "    samples = x[sample_indices]\n",
    "    log_p_f = lambda indices, p: np.log(p[indices])\n",
    "    log_p_f_jac = autograd.jacobian(log_p_f, argnum=1)(sample_indices, p)\n",
    "    sample_vals = log_p_f_jac * samples[:, np.newaxis]\n",
    "    return np.mean(sample_vals, axis=0), np.std(sample_vals, axis=0)\n",
    "\n",
    "score_function_estimator(entropy_f, np.arange(len(p)), p, n_samples=int(1e3))"
   ]
  }
 ],
 "metadata": {
  "kernelspec": {
   "display_name": "Python 3",
   "language": "python",
   "name": "python3"
  },
  "language_info": {
   "codemirror_mode": {
    "name": "ipython",
    "version": 3
   },
   "file_extension": ".py",
   "mimetype": "text/x-python",
   "name": "python",
   "nbconvert_exporter": "python",
   "pygments_lexer": "ipython3",
   "version": "3.6.4"
  }
 },
 "nbformat": 4,
 "nbformat_minor": 2
}
