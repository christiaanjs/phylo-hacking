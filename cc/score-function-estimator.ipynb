{
 "cells": [
  {
   "cell_type": "markdown",
   "metadata": {},
   "source": [
    "## Discrete entropy "
   ]
  },
  {
   "cell_type": "code",
   "execution_count": 42,
   "metadata": {},
   "outputs": [
    {
     "data": {
      "text/plain": [
       "(1.6382322756637515, 1.6382322756637515)"
      ]
     },
     "execution_count": 42,
     "metadata": {},
     "output_type": "execute_result"
    }
   ],
   "source": [
    "import autograd.numpy as np\n",
    "from scipy.stats import entropy as entropy_scipy\n",
    "\n",
    "def expectation(f, x, p):\n",
    "    return np.sum(p * f(x))\n",
    "\n",
    "p = np.array([0.07, 0.08, 0.31, 0.21, 0.09, 0.24])\n",
    "entropy_f = lambda x: -np.log(p[x])\n",
    "entropy = lambda p: expectation(entropy_f, np.arange(len(p)), p)\n",
    "entropy(p), entropy_scipy(p)"
   ]
  },
  {
   "cell_type": "code",
   "execution_count": 43,
   "metadata": {},
   "outputs": [
    {
     "data": {
      "text/plain": [
       "array([2.65926004, 2.52572864, 1.17118298, 1.56064775, 2.40794561,\n",
       "       1.42711636])"
      ]
     },
     "execution_count": 43,
     "metadata": {},
     "output_type": "execute_result"
    }
   ],
   "source": [
    "import autograd\n",
    "\n",
    "autograd.grad(entropy)(p)"
   ]
  },
  {
   "cell_type": "code",
   "execution_count": 44,
   "metadata": {},
   "outputs": [
    {
     "data": {
      "text/plain": [
       "1.6380204356177464"
      ]
     },
     "execution_count": 44,
     "metadata": {},
     "output_type": "execute_result"
    }
   ],
   "source": [
    "def mc_expectation(f, x, p, n_samples=1):\n",
    "    samples = np.random.choice(x, p=p, size=n_samples)\n",
    "    return np.mean(f(samples))\n",
    "\n",
    "mc_expectation(entropy_f, np.arange(len(p)), p, n_samples=int(1e5))"
   ]
  },
  {
   "cell_type": "code",
   "execution_count": 112,
   "metadata": {},
   "outputs": [
    {
     "data": {
      "text/plain": [
       "array([3.11513319, 2.65201508, 1.25052118, 1.48633119, 2.22066095,\n",
       "       1.30818999])"
      ]
     },
     "execution_count": 112,
     "metadata": {},
     "output_type": "execute_result"
    }
   ],
   "source": [
    "def score_function_estimator(f, x, p, n_samples=1):\n",
    "    sample_indices = np.random.choice(len(x), p=p, size=n_samples)\n",
    "    samples = x[sample_indices]\n",
    "    log_p_f = lambda indices, p: np.log(p[indices])\n",
    "    log_p_f_jac = autograd.jacobian(log_p_f, argnum=1)(sample_indices, p)\n",
    "    sample_vals = log_p_f_jac * f(samples)[:, np.newaxis]\n",
    "    return np.mean(sample_vals, axis=0)\n",
    "\n",
    "score_function_estimator(entropy_f, np.arange(len(p)), p, n_samples=1000)"
   ]
  },
  {
   "cell_type": "code",
   "execution_count": null,
   "metadata": {},
   "outputs": [],
   "source": []
  }
 ],
 "metadata": {
  "kernelspec": {
   "display_name": "Python 3",
   "language": "python",
   "name": "python3"
  },
  "language_info": {
   "codemirror_mode": {
    "name": "ipython",
    "version": 3
   },
   "file_extension": ".py",
   "mimetype": "text/x-python",
   "name": "python",
   "nbconvert_exporter": "python",
   "pygments_lexer": "ipython3",
   "version": "3.6.5"
  }
 },
 "nbformat": 4,
 "nbformat_minor": 2
}
