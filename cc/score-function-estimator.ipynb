{
 "cells": [
  {
   "cell_type": "markdown",
   "metadata": {},
   "source": [
    "## Discrete entropy "
   ]
  },
  {
   "cell_type": "code",
   "execution_count": 1,
   "metadata": {},
   "outputs": [
    {
     "data": {
      "text/plain": [
       "(1.6382322756637515, 1.6382322756637515)"
      ]
     },
     "execution_count": 1,
     "metadata": {},
     "output_type": "execute_result"
    }
   ],
   "source": [
    "import autograd.numpy as np\n",
    "from scipy.stats import entropy as entropy_scipy\n",
    "\n",
    "def expectation(f, x, p):\n",
    "    return np.sum(p * f(x))\n",
    "\n",
    "p = np.array([0.07, 0.08, 0.31, 0.21, 0.09, 0.24])\n",
    "entropy_f = lambda x: -np.log(p[x])\n",
    "entropy = lambda p: expectation(entropy_f, np.arange(len(p)), p)\n",
    "entropy(p), entropy_scipy(p)"
   ]
  },
  {
   "cell_type": "code",
   "execution_count": 2,
   "metadata": {},
   "outputs": [
    {
     "data": {
      "text/plain": [
       "array([2.65926004, 2.52572864, 1.17118298, 1.56064775, 2.40794561,\n",
       "       1.42711636])"
      ]
     },
     "execution_count": 2,
     "metadata": {},
     "output_type": "execute_result"
    }
   ],
   "source": [
    "import autograd\n",
    "\n",
    "autograd.grad(entropy)(p)"
   ]
  },
  {
   "cell_type": "code",
   "execution_count": 3,
   "metadata": {},
   "outputs": [
    {
     "data": {
      "text/plain": [
       "1.6389947556635918"
      ]
     },
     "execution_count": 3,
     "metadata": {},
     "output_type": "execute_result"
    }
   ],
   "source": [
    "def mc_expectation(f, x, p, n_samples=1):\n",
    "    samples = np.random.choice(x, p=p, size=n_samples)\n",
    "    return np.mean(f(samples))\n",
    "\n",
    "mc_expectation(entropy_f, np.arange(len(p)), p, n_samples=int(1e5))"
   ]
  },
  {
   "cell_type": "code",
   "execution_count": 4,
   "metadata": {},
   "outputs": [
    {
     "data": {
      "text/plain": [
       "array([2.69345052, 2.52888581, 1.17496099, 1.51457148, 2.33838274,\n",
       "       1.46755132])"
      ]
     },
     "execution_count": 4,
     "metadata": {},
     "output_type": "execute_result"
    }
   ],
   "source": [
    "def score_function_estimator(f, x, p, n_samples=1):\n",
    "    sample_indices = np.random.choice(len(x), p=p, size=n_samples)\n",
    "    samples = x[sample_indices]\n",
    "    log_p_f = lambda indices, p: np.log(p[indices])\n",
    "    log_p_f_jac = autograd.jacobian(log_p_f, argnum=1)(sample_indices, p)\n",
    "    sample_vals = log_p_f_jac * f(samples)[:, np.newaxis]\n",
    "    return np.mean(sample_vals, axis=0)\n",
    "\n",
    "score_function_estimator(entropy_f, np.arange(len(p)), p, n_samples=10000)"
   ]
  },
  {
   "cell_type": "code",
   "execution_count": 43,
   "metadata": {},
   "outputs": [
    {
     "data": {
      "text/plain": [
       "0.15352719356430322"
      ]
     },
     "execution_count": 43,
     "metadata": {},
     "output_type": "execute_result"
    }
   ],
   "source": [
    "q = np.ones(len(p))/len(p)\n",
    "kl_pq_f = lambda x: -entropy_f(x) - np.log(q[x])\n",
    "kl_pq = lambda p: expectation(kl_pq_f, np.arange(len(p)), p)\n",
    "kl_pq(p)"
   ]
  },
  {
   "cell_type": "code",
   "execution_count": 22,
   "metadata": {},
   "outputs": [
    {
     "data": {
      "text/plain": [
       "0.15270361327364357"
      ]
     },
     "execution_count": 22,
     "metadata": {},
     "output_type": "execute_result"
    }
   ],
   "source": [
    "mc_expectation(kl_pq_f, np.arange(len(p)), p, 100000)"
   ]
  },
  {
   "cell_type": "code",
   "execution_count": 25,
   "metadata": {},
   "outputs": [
    {
     "data": {
      "text/plain": [
       "array([-0.86750057, -0.73396918,  0.62057649,  0.23111172, -0.61618614,\n",
       "        0.36464311])"
      ]
     },
     "execution_count": 25,
     "metadata": {},
     "output_type": "execute_result"
    }
   ],
   "source": [
    "autograd.grad(kl_pq)(p)"
   ]
  },
  {
   "cell_type": "code",
   "execution_count": 30,
   "metadata": {},
   "outputs": [
    {
     "data": {
      "text/plain": [
       "array([-0.84271484, -0.74589617,  0.63018541,  0.21603443, -0.6209787 ,\n",
       "        0.3781653 ])"
      ]
     },
     "execution_count": 30,
     "metadata": {},
     "output_type": "execute_result"
    }
   ],
   "source": [
    "score_function_estimator(kl_pq_f, np.arange(len(p)), p, 10000)"
   ]
  }
 ],
 "metadata": {
  "kernelspec": {
   "display_name": "Python 3",
   "language": "python",
   "name": "python3"
  },
  "language_info": {
   "codemirror_mode": {
    "name": "ipython",
    "version": 3
   },
   "file_extension": ".py",
   "mimetype": "text/x-python",
   "name": "python",
   "nbconvert_exporter": "python",
   "pygments_lexer": "ipython3",
   "version": "3.6.5"
  }
 },
 "nbformat": 4,
 "nbformat_minor": 2
}
